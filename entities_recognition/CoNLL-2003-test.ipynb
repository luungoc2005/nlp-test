{
 "cells": [
  {
   "cell_type": "code",
   "execution_count": 1,
   "metadata": {},
   "outputs": [],
   "source": [
    "from os import getcwd, path\n",
    "import sys\n",
    "import matplotlib.pyplot as plt\n",
    "\n",
    "BASE_PATH = path.dirname(getcwd())\n",
    "sys.path.append(BASE_PATH)\n",
    "\n",
    "from entities_recognition.bilstm.train import trainIters, evaluate_all\n",
    "from common.utils import wordpunct_space_tokenize\n",
    "from config import START_TAG, STOP_TAG"
   ]
  },
  {
   "cell_type": "code",
   "execution_count": 2,
   "metadata": {},
   "outputs": [
    {
     "name": "stdout",
     "output_type": "stream",
     "text": [
      "/Users/2359media/Documents/botbot-nlp/data/CoNLL-2003/eng.train\n"
     ]
    }
   ],
   "source": [
    "TRAIN_PATH = path.join(BASE_PATH, 'data/CoNLL-2003/eng.train')\n",
    "print(TRAIN_PATH)"
   ]
  },
  {
   "cell_type": "code",
   "execution_count": 3,
   "metadata": {},
   "outputs": [],
   "source": [
    "import io\n",
    "import string\n",
    "\n",
    "def read_conll_2003(filename):\n",
    "    all_data = []\n",
    "\n",
    "    current_txt = []\n",
    "    current_tags = []\n",
    "    tagset = []\n",
    "\n",
    "    fin = io.open(filename, 'r', encoding='utf-8', newline='\\n', errors='ignore')\n",
    "    for line in fin:\n",
    "        line = line.strip()\n",
    "        if len(line) > 0: # skip blank lines\n",
    "            tmp = line.split(' ')\n",
    "            if tmp[0] != '-DOCSTART-':\n",
    "                current_txt.append(tmp[0])\n",
    "                current_tags.append(tmp[-1])\n",
    "                tagset.append(tmp[-1])\n",
    "        else:\n",
    "            if len(current_txt) > 0:\n",
    "                line_txt = ''\n",
    "                line_tags = []\n",
    "                for idx in range(len(current_txt)):\n",
    "                    tokens = wordpunct_space_tokenize(current_txt[idx])\n",
    "                    if idx > 0:\n",
    "                        line_txt += ' ' + current_txt[idx]\n",
    "                        if current_tags[idx - 1] == current_tags[idx]:\n",
    "                            line_tags.extend([current_tags[idx]] * (1 + len(tokens)))\n",
    "                        else:\n",
    "                            line_tags.append('O')\n",
    "                            line_tags.extend([current_tags[idx]] * len(tokens))\n",
    "                    else:\n",
    "                        line_txt += current_txt[idx]\n",
    "                        line_tags.extend([current_tags[idx]] * len(tokens))\n",
    "                all_data.append((line_txt, ' '.join(line_tags)))\n",
    "                current_txt = []\n",
    "                current_tags = []\n",
    "    fin.close()\n",
    "\n",
    "    tagset = list(set(tagset))\n",
    "    tag_to_ix = {tag: key for key, tag in enumerate(tagset)}\n",
    "    tag_to_ix[START_TAG] = len(tagset)\n",
    "    tag_to_ix[STOP_TAG] = len(tagset) + 1\n",
    "\n",
    "    print(tag_to_ix)\n",
    "    print('Loaded %s sentences' % len(all_data))\n",
    "    \n",
    "    return tag_to_ix, all_data"
   ]
  },
  {
   "cell_type": "code",
   "execution_count": 4,
   "metadata": {},
   "outputs": [
    {
     "name": "stdout",
     "output_type": "stream",
     "text": [
      "{'I-LOC': 0, 'I-MISC': 1, 'B-MISC': 2, 'I-PER': 3, 'B-LOC': 4, 'B-ORG': 5, 'I-ORG': 6, 'O': 7, '<START>': 8, '<STOP>': 9}\n",
      "Loaded 14041 sentences\n"
     ]
    }
   ],
   "source": [
    "from entities_recognition.bilstm.predict import read_tags\n",
    "\n",
    "tag_to_ix, training_data = read_conll_2003(TRAIN_PATH)\n",
    "result = []\n",
    "for sentence, tag_seq in training_data:\n",
    "    tokens_in = wordpunct_space_tokenize(sentence)\n",
    "    assert len(tokens_in) == len(tag_seq.split(' '))\n",
    "#     print(read_tags(tokens_in, tag_seq.split(' ')))"
   ]
  },
  {
   "cell_type": "code",
   "execution_count": 5,
   "metadata": {
    "scrolled": false
   },
   "outputs": [
    {
     "name": "stdout",
     "output_type": "stream",
     "text": [
      "Importing /Users/2359media/Documents/botbot-nlp/data/fasttext/crawl-300d-2M.vec...\n",
      "90m 35s (- 815m 20s) (1 10%) 48895.7656\n",
      "194m 32s (- 778m 11s) (2 20%) 28399.0879\n",
      "300m 32s (- 701m 16s) (3 30%) 24982.8691\n",
      "432m 3s (- 648m 5s) (4 40%) 23229.8184\n",
      "603m 51s (- 603m 51s) (5 50%) 23681.2246\n",
      "691m 28s (- 460m 58s) (6 60%) 22176.2363\n",
      "779m 24s (- 334m 1s) (7 70%) 20797.1016\n",
      "867m 21s (- 216m 50s) (8 80%) 20974.9219\n",
      "955m 2s (- 106m 6s) (9 90%) 21373.9414\n",
      "1051m 56s (- 0m 0s) (10 100%) 20812.8848\n"
     ]
    },
    {
     "data": {
      "text/plain": [
       "[<matplotlib.lines.Line2D at 0x1a13dbd2e8>]"
      ]
     },
     "execution_count": 5,
     "metadata": {},
     "output_type": "execute_result"
    },
    {
     "data": {
      "text/plain": [
       "<matplotlib.figure.Figure at 0x1a13dad128>"
      ]
     },
     "metadata": {},
     "output_type": "display_data"
    },
    {
     "data": {
      "image/png": "[encoded data removed]",
      "text/plain": [
       "<matplotlib.figure.Figure at 0x1a13dad198>"
      ]
     },
     "metadata": {},
     "output_type": "display_data"
    }
   ],
   "source": [
    "losses, model = trainIters(training_data, \n",
    "                           tag_to_ix,\n",
    "                           learning_rate=1e-3,\n",
    "                           n_iters=10, \n",
    "                           log_every=1,\n",
    "                           verbose=1)\n",
    "\n",
    "import matplotlib.pyplot as plt\n",
    "import matplotlib.ticker as ticker\n",
    "\n",
    "plt.figure()\n",
    "fig, ax = plt.subplots()\n",
    "plt.plot(losses)"
   ]
  },
  {
   "cell_type": "code",
   "execution_count": 6,
   "metadata": {},
   "outputs": [],
   "source": [
    "import torch\n",
    "model.eval()\n",
    "torch.save(model.state_dict(), 'bilstm-rnn-conll2003.bin')"
   ]
  },
  {
   "cell_type": "code",
   "execution_count": 7,
   "metadata": {},
   "outputs": [
    {
     "data": {
      "text/plain": [
       "0.966161264295992"
      ]
     },
     "execution_count": 7,
     "metadata": {},
     "output_type": "execute_result"
    }
   ],
   "source": [
    "evaluate_all(model, training_data, tag_to_ix)"
   ]
  },
  {
   "cell_type": "code",
   "execution_count": 8,
   "metadata": {},
   "outputs": [
    {
     "name": "stdout",
     "output_type": "stream",
     "text": [
      "{'I-LOC': 0, 'I-MISC': 1, 'B-MISC': 2, 'I-PER': 3, 'I-ORG': 4, 'O': 5, '<START>': 6, '<STOP>': 7}\n",
      "Loaded 3250 sentences\n",
      "{'I-LOC': 0, 'I-MISC': 1, 'B-MISC': 2, 'I-PER': 3, 'B-LOC': 4, 'B-ORG': 5, 'I-ORG': 6, 'O': 7, '<START>': 8, '<STOP>': 9}\n",
      "Loaded 3453 sentences\n"
     ]
    }
   ],
   "source": [
    "TEST_PATH_A = path.join(BASE_PATH, 'data/CoNLL-2003/eng.testa')\n",
    "TEST_PATH_B = path.join(BASE_PATH, 'data/CoNLL-2003/eng.testb')\n",
    "_, testing_data_a = read_conll_2003(TEST_PATH_A)\n",
    "_, testing_data_b = read_conll_2003(TEST_PATH_B)"
   ]
  },
  {
   "cell_type": "code",
   "execution_count": 9,
   "metadata": {},
   "outputs": [
    {
     "data": {
      "text/plain": [
       "0.9671552197542086"
      ]
     },
     "execution_count": 9,
     "metadata": {},
     "output_type": "execute_result"
    }
   ],
   "source": [
    "evaluate_all(model, testing_data_a, tag_to_ix)"
   ]
  },
  {
   "cell_type": "code",
   "execution_count": 10,
   "metadata": {},
   "outputs": [
    {
     "data": {
      "text/plain": [
       "0.9614279723212413"
      ]
     },
     "execution_count": 10,
     "metadata": {},
     "output_type": "execute_result"
    }
   ],
   "source": [
    "evaluate_all(model, testing_data_b, tag_to_ix)"
   ]
  },
  {
   "cell_type": "code",
   "execution_count": 11,
   "metadata": {},
   "outputs": [
    {
     "name": "stdout",
     "output_type": "stream",
     "text": [
      "Raw predicted tags:\n",
      "[7, 7, 7, 7, 7, 7, 0, 0, 0, 0, 0, 0, 0, 7, 7, 7, 7, 7, 7, 7, 7, 7, 7, 7, 7, 7, 7, 7, 7, 7, 0, 0, 7, 7, 7, 7, 7, 7, 7, 7, 7, 7]\n",
      "[1, 1, 1, 7, 7, 7, 7, 7, 7, 7, 7, 7, 7, 7, 1]\n",
      "[1, 7, 7, 7, 7, 7, 7, 7, 7, 7, 7, 7, 7, 7, 7, 7, 7, 7, 7, 7, 7, 7, 7, 7, 7, 7, 7]\n",
      "[6, 6, 6, 6, 6, 6, 7, 7, 7, 7, 7, 3, 3, 3, 7, 7, 7, 7, 7, 7, 7, 7, 7, 7, 7, 7, 7, 1, 7, 7, 7, 7, 7, 7, 7, 6, 6, 6, 6, 6, 7, 7, 7]\n"
     ]
    },
    {
     "data": {
      "text/plain": [
       "[{'LOC': ['Ho Chi Minh City', 'Hanoi.']},\n",
       " {'MISC': ['Trump’s', 'Republicans']},\n",
       " {'MISC': ['Kenya']},\n",
       " {'MISC': ['Trump'],\n",
       "  'ORG': ['G.O.P.', 'House and Senate'],\n",
       "  'PER': ['White House']}]"
      ]
     },
     "execution_count": 11,
     "metadata": {},
     "output_type": "execute_result"
    }
   ],
   "source": [
    "from entities_recognition.bilstm.predict import predict\n",
    "test_data = [\n",
    "    'I live in Ho Chi Minh City, nice place, though my hometown is in Hanoi. I do miss it sometimes',\n",
    "    'Trump’s role in midterm elections roils Republicans',\n",
    "    'Kenya bans film about 2 girls in love because it’s ‘too hopeful’',\n",
    "    'G.O.P. leaders and White House aides are trying to prepare President Trump for trouble in House and Senate races.'\n",
    "]\n",
    "predict(model, test_data, tag_to_ix)"
   ]
  },
  {
   "cell_type": "code",
   "execution_count": null,
   "metadata": {},
   "outputs": [],
   "source": []
  }
 ],
 "metadata": {
  "kernelspec": {
   "display_name": "Python 3",
   "language": "python",
   "name": "python3"
  },
  "language_info": {
   "codemirror_mode": {
    "name": "ipython",
    "version": 3
   },
   "file_extension": ".py",
   "mimetype": "text/x-python",
   "name": "python",
   "nbconvert_exporter": "python",
   "pygments_lexer": "ipython3",
   "version": "3.6.4"
  }
 },
 "nbformat": 4,
 "nbformat_minor": 2
}
