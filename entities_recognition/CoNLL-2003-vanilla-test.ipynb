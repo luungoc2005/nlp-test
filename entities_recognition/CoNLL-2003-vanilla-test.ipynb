{
 "cells": [
  {
   "cell_type": "code",
   "execution_count": 1,
   "metadata": {},
   "outputs": [],
   "source": [
    "from os import getcwd, path\n",
    "import sys\n",
    "import matplotlib.pyplot as plt\n",
    "\n",
    "BASE_PATH = path.dirname(getcwd())\n",
    "sys.path.append(BASE_PATH)\n",
    "\n",
    "from entities_recognition.bilstm.train import trainIters, evaluate_all\n",
    "from config import START_TAG, STOP_TAG"
   ]
  },
  {
   "cell_type": "code",
   "execution_count": 2,
   "metadata": {},
   "outputs": [
    {
     "name": "stdout",
     "output_type": "stream",
     "text": [
      "/Users/2359media/Documents/botbot-nlp/data/CoNLL-2003/eng.train\n"
     ]
    }
   ],
   "source": [
    "TRAIN_PATH = path.join(BASE_PATH, 'data/CoNLL-2003/eng.train')\n",
    "print(TRAIN_PATH)"
   ]
  },
  {
   "cell_type": "code",
   "execution_count": 3,
   "metadata": {},
   "outputs": [],
   "source": [
    "import io\n",
    "import string\n",
    "\n",
    "def ident(x):\n",
    "    return x\n",
    "\n",
    "def read_conll_2003(filename):\n",
    "    all_data = []\n",
    "\n",
    "    current_txt = []\n",
    "    current_tags = []\n",
    "    tagset = []\n",
    "\n",
    "    fin = io.open(filename, 'r', encoding='utf-8', newline='\\n', errors='ignore')\n",
    "    for line in fin:\n",
    "        line = line.strip()\n",
    "        if len(line) > 0: # skip blank lines\n",
    "            tmp = line.split(' ')\n",
    "            if tmp[0] != '-DOCSTART-':\n",
    "                current_txt.append(tmp[0])\n",
    "                current_tags.append(tmp[-1])\n",
    "                tagset.append(tmp[-1])\n",
    "        else:\n",
    "            if len(current_txt) > 0:\n",
    "                all_data.append((current_txt, ' '.join(current_tags)))\n",
    "                current_txt = []\n",
    "                current_tags = []\n",
    "    fin.close()\n",
    "\n",
    "    tagset = list(set(tagset))\n",
    "    tag_to_ix = {tag: key for key, tag in enumerate(tagset)}\n",
    "    tag_to_ix[START_TAG] = len(tagset)\n",
    "    tag_to_ix[STOP_TAG] = len(tagset) + 1\n",
    "\n",
    "    print(tag_to_ix)\n",
    "    print('Loaded %s sentences' % len(all_data))\n",
    "    \n",
    "    return tag_to_ix, all_data"
   ]
  },
  {
   "cell_type": "code",
   "execution_count": 4,
   "metadata": {},
   "outputs": [
    {
     "name": "stdout",
     "output_type": "stream",
     "text": [
      "{'I-PER': 0, 'I-MISC': 1, 'O': 2, 'I-LOC': 3, 'B-MISC': 4, 'I-ORG': 5, 'B-LOC': 6, 'B-ORG': 7, '<START>': 8, '<STOP>': 9}\n",
      "Loaded 14041 sentences\n"
     ]
    }
   ],
   "source": [
    "from entities_recognition.bilstm.predict import read_tags\n",
    "\n",
    "tag_to_ix, training_data = read_conll_2003(TRAIN_PATH)\n",
    "result = []\n",
    "for sentence, tag_seq in training_data:\n",
    "    assert len(sentence) == len(tag_seq.split(' '))\n",
    "#     print(read_tags(tokens_in, tag_seq.split(' ')))"
   ]
  },
  {
   "cell_type": "code",
   "execution_count": 5,
   "metadata": {
    "scrolled": false
   },
   "outputs": [
    {
     "name": "stdout",
     "output_type": "stream",
     "text": [
      "Importing /Users/2359media/Documents/botbot-nlp/data/fasttext/crawl-300d-2M.vec...\n",
      "21m 17s (- 1043m 14s) (1 2%) 31360.4160\n",
      "41m 54s (- 1005m 56s) (2 4%) 19920.6328\n",
      "64m 48s (- 1015m 12s) (3 6%) 16872.8555\n",
      "93m 27s (- 1074m 51s) (4 8%) 14861.2920\n",
      "116m 6s (- 1044m 56s) (5 10%) 13296.4102\n",
      "148m 37s (- 1089m 53s) (6 12%) 11332.8350\n",
      "185m 5s (- 1137m 0s) (7 14%) 10432.2285\n",
      "210m 39s (- 1105m 57s) (8 16%) 9602.6963\n",
      "244m 27s (- 1113m 38s) (9 18%) 9025.2783\n",
      "274m 3s (- 1096m 14s) (10 20%) 8297.2754\n",
      "303m 21s (- 1075m 33s) (11 22%) 7534.7310\n",
      "337m 57s (- 1070m 12s) (12 24%) 7347.6221\n",
      "518m 45s (- 1476m 29s) (13 26%) 6635.0420\n",
      "550m 2s (- 1414m 23s) (14 28%) 6345.6074\n",
      "577m 18s (- 1347m 2s) (15 30%) 6063.8989\n",
      "607m 37s (- 1291m 12s) (16 32%) 5538.7007\n",
      "638m 11s (- 1238m 50s) (17 34%) 5089.9976\n",
      "666m 41s (- 1185m 14s) (18 36%) 4783.3892\n",
      "694m 30s (- 1133m 8s) (19 38%) 4491.3589\n",
      "722m 21s (- 1083m 32s) (20 40%) 4373.4780\n",
      "750m 51s (- 1036m 54s) (21 42%) 4223.7148\n",
      "778m 44s (- 991m 7s) (22 44%) 3766.2349\n",
      "801m 48s (- 941m 15s) (23 46%) 3461.6553\n",
      "824m 8s (- 892m 49s) (24 48%) 3316.2141\n",
      "846m 22s (- 846m 22s) (25 50%) 3020.8247\n",
      "868m 19s (- 801m 31s) (26 52%) 3013.0396\n",
      "890m 17s (- 758m 23s) (27 54%) 2821.3118\n",
      "912m 23s (- 716m 53s) (28 56%) 2834.5906\n",
      "934m 29s (- 676m 42s) (29 57%) 2631.8364\n",
      "956m 47s (- 637m 51s) (30 60%) 2508.0864\n",
      "979m 0s (- 600m 2s) (31 62%) 2295.1611\n",
      "1001m 2s (- 563m 5s) (32 64%) 2191.2722\n",
      "1023m 7s (- 527m 4s) (33 66%) 1975.0142\n",
      "1045m 1s (- 491m 46s) (34 68%) 2006.6412\n",
      "1067m 3s (- 457m 18s) (35 70%) 1784.2878\n",
      "1089m 11s (- 423m 34s) (36 72%) 1685.6873\n",
      "1111m 33s (- 390m 32s) (37 74%) 1765.8531\n",
      "1135m 21s (- 358m 32s) (38 76%) 1739.8159\n",
      "1222m 51s (- 344m 54s) (39 78%) 1570.1189\n",
      "1252m 1s (- 313m 0s) (40 80%) 1493.1877\n",
      "1277m 19s (- 280m 23s) (41 82%) 1577.7052\n",
      "1302m 55s (- 248m 10s) (42 84%) 1497.3981\n",
      "1328m 43s (- 216m 18s) (43 86%) 1377.8049\n",
      "1354m 20s (- 184m 41s) (44 88%) 1233.2632\n",
      "1382m 19s (- 153m 35s) (45 90%) 1103.1344\n",
      "1405m 59s (- 122m 15s) (46 92%) 1035.5300\n",
      "1429m 21s (- 91m 14s) (47 94%) 1034.4182\n",
      "1452m 4s (- 60m 30s) (48 96%) 998.2007\n",
      "1474m 17s (- 30m 5s) (49 98%) 979.3765\n",
      "1556m 24s (- 0m 0s) (50 100%) 920.3290\n"
     ]
    },
    {
     "data": {
      "text/plain": [
       "[<matplotlib.lines.Line2D at 0x10f897048>]"
      ]
     },
     "execution_count": 5,
     "metadata": {},
     "output_type": "execute_result"
    },
    {
     "data": {
      "text/plain": [
       "<matplotlib.figure.Figure at 0x10f863320>"
      ]
     },
     "metadata": {},
     "output_type": "display_data"
    },
    {
     "data": {
      "image/png": "[encoded data removed]",
      "text/plain": [
       "<matplotlib.figure.Figure at 0x10f8633c8>"
      ]
     },
     "metadata": {},
     "output_type": "display_data"
    }
   ],
   "source": [
    "losses, model = trainIters(training_data, \n",
    "                           tag_to_ix,\n",
    "                           learning_rate=1e-3,\n",
    "                           n_iters=50, \n",
    "                           log_every=1,\n",
    "                           tokenizer=ident,\n",
    "                           verbose=1)\n",
    "\n",
    "import matplotlib.pyplot as plt\n",
    "import matplotlib.ticker as ticker\n",
    "\n",
    "plt.figure()\n",
    "fig, ax = plt.subplots()\n",
    "plt.plot(losses)"
   ]
  },
  {
   "cell_type": "code",
   "execution_count": 6,
   "metadata": {},
   "outputs": [],
   "source": [
    "import torch\n",
    "model.eval()\n",
    "torch.save(model.state_dict(), 'bilstm-rnn-conll2003-vanilla.bin')"
   ]
  },
  {
   "cell_type": "markdown",
   "metadata": {},
   "source": [
    "Model recall"
   ]
  },
  {
   "cell_type": "code",
   "execution_count": 7,
   "metadata": {},
   "outputs": [
    {
     "data": {
      "text/plain": [
       "0.9988950059178572"
      ]
     },
     "execution_count": 7,
     "metadata": {},
     "output_type": "execute_result"
    }
   ],
   "source": [
    "evaluate_all(model, training_data, tag_to_ix, tokenizer=ident)"
   ]
  },
  {
   "cell_type": "code",
   "execution_count": 8,
   "metadata": {},
   "outputs": [
    {
     "name": "stdout",
     "output_type": "stream",
     "text": [
      "{'I-PER': 0, 'I-MISC': 1, 'O': 2, 'I-LOC': 3, 'B-MISC': 4, 'I-ORG': 5, '<START>': 6, '<STOP>': 7}\n",
      "Loaded 3250 sentences\n",
      "{'I-PER': 0, 'I-MISC': 1, 'O': 2, 'I-LOC': 3, 'B-MISC': 4, 'I-ORG': 5, 'B-LOC': 6, 'B-ORG': 7, '<START>': 8, '<STOP>': 9}\n",
      "Loaded 3453 sentences\n"
     ]
    }
   ],
   "source": [
    "TEST_PATH_A = path.join(BASE_PATH, 'data/CoNLL-2003/eng.testa')\n",
    "TEST_PATH_B = path.join(BASE_PATH, 'data/CoNLL-2003/eng.testb')\n",
    "_, testing_data_a = read_conll_2003(TEST_PATH_A)\n",
    "_, testing_data_b = read_conll_2003(TEST_PATH_B)"
   ]
  },
  {
   "cell_type": "markdown",
   "metadata": {},
   "source": [
    "Accuracy on test sets"
   ]
  },
  {
   "cell_type": "code",
   "execution_count": 9,
   "metadata": {},
   "outputs": [
    {
     "data": {
      "text/plain": [
       "0.9787196760250769"
      ]
     },
     "execution_count": 9,
     "metadata": {},
     "output_type": "execute_result"
    }
   ],
   "source": [
    "evaluate_all(model, testing_data_a, tag_to_ix, tokenizer=ident)"
   ]
  },
  {
   "cell_type": "code",
   "execution_count": 10,
   "metadata": {},
   "outputs": [
    {
     "data": {
      "text/plain": [
       "0.9640572843760095"
      ]
     },
     "execution_count": 10,
     "metadata": {},
     "output_type": "execute_result"
    }
   ],
   "source": [
    "evaluate_all(model, testing_data_b, tag_to_ix, tokenizer=ident)"
   ]
  },
  {
   "cell_type": "code",
   "execution_count": 11,
   "metadata": {},
   "outputs": [
    {
     "name": "stdout",
     "output_type": "stream",
     "text": [
      "Raw predicted tags:\n",
      "[2, 2, 2, 3, 0, 0, 3, 2, 2, 2, 2, 2, 2, 2, 2, 2, 3, 2, 2, 2, 2, 2, 2]\n",
      "[2, 2, 2, 2, 2, 2, 2, 2, 1]\n",
      "[3, 2, 2, 2, 2, 2, 2, 2, 2, 2, 2, 2, 2, 2, 2, 2]\n",
      "[2, 2, 5, 5, 5, 2, 2, 2, 3, 3, 2, 2, 2, 2, 2, 2, 2, 2, 2, 2, 5, 2, 5, 2, 2]\n"
     ]
    },
    {
     "data": {
      "text/plain": [
       "[{'LOC': ['Ho', 'City', 'Hanoi'], 'PER': ['Chi Minh']},\n",
       " {'MISC': ['Republicans']},\n",
       " {'LOC': ['Kenya']},\n",
       " {'LOC': ['White House'], 'ORG': ['O . P', 'House', 'Senate']}]"
      ]
     },
     "execution_count": 11,
     "metadata": {},
     "output_type": "execute_result"
    }
   ],
   "source": [
    "from entities_recognition.bilstm.predict import predict\n",
    "from common.utils import wordpunct_tokenize\n",
    "\n",
    "test_data = [\n",
    "    'I live in Ho Chi Minh City, nice place, though my hometown is in Hanoi. I do miss it sometimes',\n",
    "    'Trump’s role in midterm elections roils Republicans',\n",
    "    'Kenya bans film about 2 girls in love because it’s ‘too hopeful’',\n",
    "    'G.O.P. leaders and White House aides are trying to prepare President Trump for trouble in House and Senate races.'\n",
    "]\n",
    "predict(model, test_data, tag_to_ix, tokenizer=wordpunct_tokenize, delimiter=' ')"
   ]
  },
  {
   "cell_type": "code",
   "execution_count": 12,
   "metadata": {},
   "outputs": [],
   "source": [
    "import json\n",
    "with open('tag_to_ix.json', 'w') as tagfile:\n",
    "    json.dump(tag_to_ix, tagfile)"
   ]
  },
  {
   "cell_type": "markdown",
   "metadata": {},
   "source": [
    "`./conlleval < testa.out.txt`\n",
    "```\n",
    "processed 51578 tokens with 5942 phrases; found: 5958 phrases; correct: 5199.\n",
    "accuracy:  97.93%; precision:  87.26%; recall:  87.50%; FB1:  87.38\n",
    "              LOC: precision:  91.93%; recall:  91.78%; FB1:  91.86  1834\n",
    "             MISC: precision:  87.27%; recall:  83.30%; FB1:  85.24  880\n",
    "              ORG: precision:  78.03%; recall:  83.15%; FB1:  80.51  1429\n",
    "              PER: precision:  89.81%; recall:  88.49%; FB1:  89.14  1815\n",
    "```\n",
    "`./conlleval < testb.out.txt`\n",
    "```\n",
    "processed 46666 tokens with 5879 phrases; found: 5703 phrases; correct: 4591.\n",
    "accuracy:  95.89%; precision:  80.50%; recall:  78.09%; FB1:  79.28\n",
    "              LOC: precision:  86.08%; recall:  88.61%; FB1:  87.33  1717\n",
    "             MISC: precision:  71.13%; recall:  73.36%; FB1:  72.23  724\n",
    "              ORG: precision:  74.11%; recall:  79.11%; FB1:  76.53  1773\n",
    "              PER: precision:  86.23%; recall:  79.41%; FB1:  82.68  1489\n",
    "```"
   ]
  }
 ],
 "metadata": {
  "kernelspec": {
   "display_name": "Python 3",
   "language": "python",
   "name": "python3"
  },
  "language_info": {
   "codemirror_mode": {
    "name": "ipython",
    "version": 3
   },
   "file_extension": ".py",
   "mimetype": "text/x-python",
   "name": "python",
   "nbconvert_exporter": "python",
   "pygments_lexer": "ipython3",
   "version": "3.6.4"
  }
 },
 "nbformat": 4,
 "nbformat_minor": 2
}
