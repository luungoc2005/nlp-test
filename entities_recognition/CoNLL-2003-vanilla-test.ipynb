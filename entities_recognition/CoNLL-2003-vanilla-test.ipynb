{
 "cells": [
  {
   "cell_type": "code",
   "execution_count": 1,
   "metadata": {},
   "outputs": [
    {
     "name": "stdout",
     "output_type": "stream",
     "text": [
      "0.4.0a0+5463a4a\n"
     ]
    }
   ],
   "source": [
    "from os import getcwd, path\n",
    "import sys\n",
    "import matplotlib.pyplot as plt\n",
    "\n",
    "BASE_PATH = path.dirname(getcwd())\n",
    "sys.path.append(BASE_PATH)\n",
    "\n",
    "from entities_recognition.bilstm.train import trainIters, evaluate_all\n",
    "from config import START_TAG, STOP_TAG\n",
    "\n",
    "import torch\n",
    "print(torch.__version__)"
   ]
  },
  {
   "cell_type": "code",
   "execution_count": 2,
   "metadata": {},
   "outputs": [
    {
     "name": "stdout",
     "output_type": "stream",
     "text": [
      "/Users/2359media/Documents/botbot-nlp/data/CoNLL-2003/eng.train\n"
     ]
    }
   ],
   "source": [
    "TRAIN_PATH = path.join(BASE_PATH, 'data/CoNLL-2003/eng.train')\n",
    "print(TRAIN_PATH)"
   ]
  },
  {
   "cell_type": "code",
   "execution_count": 3,
   "metadata": {},
   "outputs": [],
   "source": [
    "import io\n",
    "import string\n",
    "\n",
    "def ident(x):\n",
    "    return x\n",
    "\n",
    "def read_conll_2003(filename):\n",
    "    all_data = []\n",
    "\n",
    "    current_txt = []\n",
    "    current_tags = []\n",
    "    tagset = []\n",
    "\n",
    "    fin = io.open(filename, 'r', encoding='utf-8', newline='\\n', errors='ignore')\n",
    "    for line in fin:\n",
    "        line = line.strip()\n",
    "        if len(line) > 0: # skip blank lines\n",
    "            tmp = line.split(' ')\n",
    "            if tmp[0] != '-DOCSTART-':\n",
    "                current_txt.append(tmp[0])\n",
    "                current_tags.append(tmp[-1])\n",
    "                tagset.append(tmp[-1])\n",
    "        else:\n",
    "            if len(current_txt) > 0:\n",
    "                all_data.append((current_txt, ' '.join(current_tags)))\n",
    "                current_txt = []\n",
    "                current_tags = []\n",
    "    fin.close()\n",
    "\n",
    "    tagset = list(set(tagset))\n",
    "    tag_to_ix = {tag: key for key, tag in enumerate(tagset)}\n",
    "    tag_to_ix[START_TAG] = len(tagset)\n",
    "    tag_to_ix[STOP_TAG] = len(tagset) + 1\n",
    "\n",
    "    print(tag_to_ix)\n",
    "    print('Loaded %s sentences' % len(all_data))\n",
    "    \n",
    "    return tag_to_ix, all_data"
   ]
  },
  {
   "cell_type": "code",
   "execution_count": null,
   "metadata": {},
   "outputs": [
    {
     "name": "stdout",
     "output_type": "stream",
     "text": [
      "{'I-ORG': 0, 'I-LOC': 1, 'B-ORG': 2, 'B-MISC': 3, 'B-LOC': 4, 'O': 5, 'I-MISC': 6, 'I-PER': 7, '<START>': 8, '<STOP>': 9}\n",
      "Loaded 14041 sentences\n"
     ]
    }
   ],
   "source": [
    "from entities_recognition.bilstm.predict import read_tags\n",
    "\n",
    "tag_to_ix, training_data = read_conll_2003(TRAIN_PATH)\n",
    "result = []\n",
    "for sentence, tag_seq in training_data:\n",
    "    assert len(sentence) == len(tag_seq.split(' '))\n",
    "#     print(read_tags(tokens_in, tag_seq.split(' ')))"
   ]
  },
  {
   "cell_type": "code",
   "execution_count": null,
   "metadata": {
    "scrolled": false
   },
   "outputs": [
    {
     "name": "stdout",
     "output_type": "stream",
     "text": [
      "Importing /Users/2359media/Documents/botbot-nlp/data/fasttext/crawl-300d-2M.vec...\n",
      "8m 14s (- 403m 57s) (1 2%) 640192.1250\n",
      "22m 35s (- 542m 2s) (2 4%) 602723.0625\n",
      "36m 47s (- 576m 30s) (3 6%) 449270.0312\n",
      "168m 58s (- 1943m 7s) (4 8%) 202334.1562\n",
      "187m 16s (- 1685m 27s) (5 10%) 154062.6875\n",
      "205m 20s (- 1505m 47s) (6 12%) 144066.7656\n",
      "223m 43s (- 1374m 21s) (7 14%) 135290.1250\n",
      "241m 59s (- 1270m 29s) (8 16%) 126969.2891\n"
     ]
    }
   ],
   "source": [
    "losses, model = trainIters(training_data, \n",
    "                           tag_to_ix,\n",
    "                           learning_rate=1e-2,\n",
    "                           gradual_unfreeze=True,\n",
    "                           weight_decay=0,\n",
    "                           optimizer='sgd',\n",
    "                           n_iters=50,\n",
    "                           log_every=1,\n",
    "                           tokenizer=ident,\n",
    "                           verbose=1)\n",
    "\n",
    "import matplotlib.pyplot as plt\n",
    "import matplotlib.ticker as ticker\n",
    "\n",
    "plt.figure()\n",
    "fig, ax = plt.subplots()\n",
    "plt.plot(losses)"
   ]
  },
  {
   "cell_type": "code",
   "execution_count": null,
   "metadata": {},
   "outputs": [],
   "source": [
    "model.eval()\n",
    "torch.save(model.state_dict(), 'bilstm-rnn-conll2003-vanilla.bin')"
   ]
  },
  {
   "cell_type": "markdown",
   "metadata": {},
   "source": [
    "Model recall"
   ]
  },
  {
   "cell_type": "code",
   "execution_count": null,
   "metadata": {},
   "outputs": [],
   "source": [
    "evaluate_all(model, training_data, tag_to_ix, tokenizer=ident)"
   ]
  },
  {
   "cell_type": "code",
   "execution_count": null,
   "metadata": {},
   "outputs": [],
   "source": [
    "TEST_PATH_A = path.join(BASE_PATH, 'data/CoNLL-2003/eng.testa')\n",
    "TEST_PATH_B = path.join(BASE_PATH, 'data/CoNLL-2003/eng.testb')\n",
    "_, testing_data_a = read_conll_2003(TEST_PATH_A)\n",
    "_, testing_data_b = read_conll_2003(TEST_PATH_B)"
   ]
  },
  {
   "cell_type": "markdown",
   "metadata": {},
   "source": [
    "Accuracy on test sets"
   ]
  },
  {
   "cell_type": "code",
   "execution_count": null,
   "metadata": {},
   "outputs": [],
   "source": [
    "evaluate_all(model, testing_data_a, tag_to_ix, tokenizer=ident)"
   ]
  },
  {
   "cell_type": "code",
   "execution_count": null,
   "metadata": {},
   "outputs": [],
   "source": [
    "evaluate_all(model, testing_data_b, tag_to_ix, tokenizer=ident)"
   ]
  },
  {
   "cell_type": "code",
   "execution_count": null,
   "metadata": {},
   "outputs": [],
   "source": [
    "from entities_recognition.bilstm.predict import predict\n",
    "from common.utils import wordpunct_tokenize\n",
    "\n",
    "test_data = [\n",
    "    'I live in Ho Chi Minh City, nice place, though my hometown is in Hanoi. I do miss it sometimes',\n",
    "    'Trump’s role in midterm elections roils Republicans',\n",
    "    'Kenya bans film about 2 girls in love because it’s ‘too hopeful’',\n",
    "    'G.O.P. leaders and White House aides are trying to prepare President Trump for trouble in House and Senate races.'\n",
    "]\n",
    "predict(model, test_data, tag_to_ix, tokenizer=wordpunct_tokenize, delimiter=' ')"
   ]
  },
  {
   "cell_type": "code",
   "execution_count": null,
   "metadata": {},
   "outputs": [],
   "source": [
    "import json\n",
    "with open('tag_to_ix.json', 'w') as tagfile:\n",
    "    json.dump(tag_to_ix, tagfile)"
   ]
  },
  {
   "cell_type": "markdown",
   "metadata": {},
   "source": [
    "`./conlleval < testa.out.txt`\n",
    "```\n",
    "processed 51578 tokens with 5942 phrases; found: 5958 phrases; correct: 5199.\n",
    "accuracy:  97.93%; precision:  87.26%; recall:  87.50%; FB1:  87.38\n",
    "              LOC: precision:  91.93%; recall:  91.78%; FB1:  91.86  1834\n",
    "             MISC: precision:  87.27%; recall:  83.30%; FB1:  85.24  880\n",
    "              ORG: precision:  78.03%; recall:  83.15%; FB1:  80.51  1429\n",
    "              PER: precision:  89.81%; recall:  88.49%; FB1:  89.14  1815\n",
    "```\n",
    "`./conlleval < testb.out.txt`\n",
    "```\n",
    "processed 46666 tokens with 5879 phrases; found: 5703 phrases; correct: 4591.\n",
    "accuracy:  95.89%; precision:  80.50%; recall:  78.09%; FB1:  79.28\n",
    "              LOC: precision:  86.08%; recall:  88.61%; FB1:  87.33  1717\n",
    "             MISC: precision:  71.13%; recall:  73.36%; FB1:  72.23  724\n",
    "              ORG: precision:  74.11%; recall:  79.11%; FB1:  76.53  1773\n",
    "              PER: precision:  86.23%; recall:  79.41%; FB1:  82.68  1489\n",
    "```"
   ]
  }
 ],
 "metadata": {
  "kernelspec": {
   "display_name": "Python 3",
   "language": "python",
   "name": "python3"
  },
  "language_info": {
   "codemirror_mode": {
    "name": "ipython",
    "version": 3
   },
   "file_extension": ".py",
   "mimetype": "text/x-python",
   "name": "python",
   "nbconvert_exporter": "python",
   "pygments_lexer": "ipython3",
   "version": "3.6.4"
  }
 },
 "nbformat": 4,
 "nbformat_minor": 2
}
