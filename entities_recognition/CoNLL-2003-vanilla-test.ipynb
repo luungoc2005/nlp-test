{
 "cells": [
  {
   "cell_type": "code",
   "execution_count": 1,
   "metadata": {},
   "outputs": [],
   "source": [
    "from os import getcwd, path\n",
    "import sys\n",
    "import matplotlib.pyplot as plt\n",
    "\n",
    "BASE_PATH = path.dirname(getcwd())\n",
    "sys.path.append(BASE_PATH)\n",
    "\n",
    "from entities_recognition.bilstm.train import trainIters, evaluate_all\n",
    "from config import START_TAG, STOP_TAG"
   ]
  },
  {
   "cell_type": "code",
   "execution_count": 2,
   "metadata": {},
   "outputs": [
    {
     "name": "stdout",
     "output_type": "stream",
     "text": [
      "/Users/2359media/Documents/botbot-nlp/data/CoNLL-2003/eng.train\n"
     ]
    }
   ],
   "source": [
    "TRAIN_PATH = path.join(BASE_PATH, 'data/CoNLL-2003/eng.train')\n",
    "print(TRAIN_PATH)"
   ]
  },
  {
   "cell_type": "code",
   "execution_count": 3,
   "metadata": {},
   "outputs": [],
   "source": [
    "import io\n",
    "import string\n",
    "\n",
    "def ident(x):\n",
    "    return x\n",
    "\n",
    "def read_conll_2003(filename):\n",
    "    all_data = []\n",
    "\n",
    "    current_txt = []\n",
    "    current_tags = []\n",
    "    tagset = []\n",
    "\n",
    "    fin = io.open(filename, 'r', encoding='utf-8', newline='\\n', errors='ignore')\n",
    "    for line in fin:\n",
    "        line = line.strip()\n",
    "        if len(line) > 0: # skip blank lines\n",
    "            tmp = line.split(' ')\n",
    "            if tmp[0] != '-DOCSTART-':\n",
    "                current_txt.append(tmp[0])\n",
    "                current_tags.append(tmp[-1])\n",
    "                tagset.append(tmp[-1])\n",
    "        else:\n",
    "            if len(current_txt) > 0:\n",
    "                all_data.append((current_txt, ' '.join(current_tags)))\n",
    "                current_txt = []\n",
    "                current_tags = []\n",
    "    fin.close()\n",
    "\n",
    "    tagset = list(set(tagset))\n",
    "    tag_to_ix = {tag: key for key, tag in enumerate(tagset)}\n",
    "    tag_to_ix[START_TAG] = len(tagset)\n",
    "    tag_to_ix[STOP_TAG] = len(tagset) + 1\n",
    "\n",
    "    print(tag_to_ix)\n",
    "    print('Loaded %s sentences' % len(all_data))\n",
    "    \n",
    "    return tag_to_ix, all_data"
   ]
  },
  {
   "cell_type": "code",
   "execution_count": null,
   "metadata": {},
   "outputs": [
    {
     "name": "stdout",
     "output_type": "stream",
     "text": [
      "{'I-ORG': 0, 'I-MISC': 1, 'I-PER': 2, 'B-MISC': 3, 'I-LOC': 4, 'B-LOC': 5, 'O': 6, 'B-ORG': 7, '<START>': 8, '<STOP>': 9}\n",
      "Loaded 14041 sentences\n"
     ]
    }
   ],
   "source": [
    "from entities_recognition.bilstm.predict import read_tags\n",
    "\n",
    "tag_to_ix, training_data = read_conll_2003(TRAIN_PATH)\n",
    "result = []\n",
    "for sentence, tag_seq in training_data:\n",
    "    assert len(sentence) == len(tag_seq.split(' '))\n",
    "#     print(read_tags(tokens_in, tag_seq.split(' ')))"
   ]
  },
  {
   "cell_type": "code",
   "execution_count": null,
   "metadata": {
    "scrolled": false
   },
   "outputs": [
    {
     "name": "stdout",
     "output_type": "stream",
     "text": [
      "Importing /Users/2359media/Documents/botbot-nlp/data/fasttext/crawl-300d-2M.vec...\n",
      "449m 15s (- 8535m 59s) (1 5%) 30086.9609\n",
      "513m 4s (- 4617m 43s) (2 10%) 19621.0898\n",
      "595m 9s (- 3372m 34s) (3 15%) 16367.3008\n",
      "651m 49s (- 2607m 18s) (4 20%) 13931.5166\n",
      "706m 34s (- 2119m 42s) (5 25%) 12314.6416\n",
      "761m 33s (- 1776m 58s) (6 30%) 10746.4297\n",
      "816m 24s (- 1516m 12s) (7 35%) 9764.7168\n",
      "871m 23s (- 1307m 5s) (8 40%) 8829.0264\n",
      "926m 51s (- 1132m 49s) (9 45%) 8116.2432\n",
      "1096m 12s (- 1096m 12s) (10 50%) 7225.4370\n",
      "1154m 3s (- 944m 14s) (11 55%) 6815.1177\n",
      "1213m 30s (- 809m 0s) (12 60%) 6292.7051\n",
      "1278m 8s (- 688m 14s) (13 65%) 5750.0151\n"
     ]
    }
   ],
   "source": [
    "losses, model = trainIters(training_data, \n",
    "                           tag_to_ix,\n",
    "                           learning_rate=1e-3,\n",
    "                           n_iters=20, \n",
    "                           log_every=1,\n",
    "                           tokenizer=ident,\n",
    "                           verbose=1)\n",
    "\n",
    "import matplotlib.pyplot as plt\n",
    "import matplotlib.ticker as ticker\n",
    "\n",
    "plt.figure()\n",
    "fig, ax = plt.subplots()\n",
    "plt.plot(losses)"
   ]
  },
  {
   "cell_type": "code",
   "execution_count": null,
   "metadata": {},
   "outputs": [],
   "source": [
    "import torch\n",
    "model.eval()\n",
    "torch.save(model.state_dict(), 'bilstm-rnn-conll2003-vanilla.bin')"
   ]
  },
  {
   "cell_type": "markdown",
   "metadata": {},
   "source": [
    "Model recall"
   ]
  },
  {
   "cell_type": "code",
   "execution_count": null,
   "metadata": {},
   "outputs": [],
   "source": [
    "evaluate_all(model, training_data, tag_to_ix, tokenizer=ident)"
   ]
  },
  {
   "cell_type": "code",
   "execution_count": null,
   "metadata": {},
   "outputs": [],
   "source": [
    "TEST_PATH_A = path.join(BASE_PATH, 'data/CoNLL-2003/eng.testa')\n",
    "TEST_PATH_B = path.join(BASE_PATH, 'data/CoNLL-2003/eng.testb')\n",
    "_, testing_data_a = read_conll_2003(TEST_PATH_A)\n",
    "_, testing_data_b = read_conll_2003(TEST_PATH_B)"
   ]
  },
  {
   "cell_type": "markdown",
   "metadata": {},
   "source": [
    "Accuracy on test sets"
   ]
  },
  {
   "cell_type": "code",
   "execution_count": null,
   "metadata": {},
   "outputs": [],
   "source": [
    "evaluate_all(model, testing_data_a, tag_to_ix, tokenizer=ident)"
   ]
  },
  {
   "cell_type": "code",
   "execution_count": null,
   "metadata": {},
   "outputs": [],
   "source": [
    "evaluate_all(model, testing_data_b, tag_to_ix, tokenizer=ident)"
   ]
  },
  {
   "cell_type": "code",
   "execution_count": null,
   "metadata": {},
   "outputs": [],
   "source": [
    "from entities_recognition.bilstm.predict import predict\n",
    "from common.utils import wordpunct_tokenize\n",
    "\n",
    "test_data = [\n",
    "    'I live in Ho Chi Minh City, nice place, though my hometown is in Hanoi. I do miss it sometimes',\n",
    "    'Trump’s role in midterm elections roils Republicans',\n",
    "    'Kenya bans film about 2 girls in love because it’s ‘too hopeful’',\n",
    "    'G.O.P. leaders and White House aides are trying to prepare President Trump for trouble in House and Senate races.'\n",
    "]\n",
    "predict(model, test_data, tag_to_ix, tokenizer=wordpunct_tokenize, delimiter=' ')"
   ]
  },
  {
   "cell_type": "code",
   "execution_count": null,
   "metadata": {},
   "outputs": [],
   "source": [
    "import json\n",
    "with open('tag_to_ix.json', 'w') as tagfile:\n",
    "    json.dump(tag_to_ix, tagfile)"
   ]
  },
  {
   "cell_type": "markdown",
   "metadata": {},
   "source": [
    "`./conlleval < testa.out.txt`\n",
    "```\n",
    "processed 51578 tokens with 5942 phrases; found: 5808 phrases; correct: 4627.\n",
    "accuracy:  96.56%; precision:  79.67%; recall:  77.87%; FB1:  78.76\n",
    "              LOC: precision:  90.47%; recall:  77.03%; FB1:  83.21  1564\n",
    "             MISC: precision:  83.25%; recall:  73.86%; FB1:  78.28  818\n",
    "              ORG: precision:  67.11%; recall:  64.50%; FB1:  65.78  1289\n",
    "              PER: precision:  77.96%; recall:  90.45%; FB1:  83.74  2137\n",
    "```\n",
    "`./conlleval < testb.out.txt`\n",
    "```\n",
    "processed 46666 tokens with 5879 phrases; found: 5493 phrases; correct: 4102.\n",
    "accuracy:  94.65%; precision:  74.68%; recall:  69.77%; FB1:  72.14\n",
    "              LOC: precision:  89.33%; recall:  74.82%; FB1:  81.44  1397\n",
    "             MISC: precision:  68.47%; recall:  68.66%; FB1:  68.56  704\n",
    "              ORG: precision:  68.00%; recall:  60.39%; FB1:  63.97  1475\n",
    "              PER: precision:  71.41%; recall:  84.66%; FB1:  77.48  1917\n",
    "               X-: precision:   0.00%; recall:   0.00%; FB1:   0.00  0\n",
    "```"
   ]
  }
 ],
 "metadata": {
  "kernelspec": {
   "display_name": "Python 3",
   "language": "python",
   "name": "python3"
  },
  "language_info": {
   "codemirror_mode": {
    "name": "ipython",
    "version": 3
   },
   "file_extension": ".py",
   "mimetype": "text/x-python",
   "name": "python",
   "nbconvert_exporter": "python",
   "pygments_lexer": "ipython3",
   "version": "3.6.4"
  }
 },
 "nbformat": 4,
 "nbformat_minor": 2
}
