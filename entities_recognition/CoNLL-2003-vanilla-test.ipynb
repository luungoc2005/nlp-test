{
 "cells": [
  {
   "cell_type": "code",
   "execution_count": 1,
   "metadata": {},
   "outputs": [],
   "source": [
    "from os import getcwd, path\n",
    "import sys\n",
    "import matplotlib.pyplot as plt\n",
    "\n",
    "BASE_PATH = path.dirname(getcwd())\n",
    "sys.path.append(BASE_PATH)\n",
    "\n",
    "from entities_recognition.bilstm.train import trainIters, evaluate_all\n",
    "from config import START_TAG, STOP_TAG"
   ]
  },
  {
   "cell_type": "code",
   "execution_count": 2,
   "metadata": {},
   "outputs": [
    {
     "name": "stdout",
     "output_type": "stream",
     "text": [
      "/Users/2359media/Documents/botbot-nlp/data/CoNLL-2003/eng.train\n"
     ]
    }
   ],
   "source": [
    "TRAIN_PATH = path.join(BASE_PATH, 'data/CoNLL-2003/eng.train')\n",
    "print(TRAIN_PATH)"
   ]
  },
  {
   "cell_type": "code",
   "execution_count": 3,
   "metadata": {},
   "outputs": [],
   "source": [
    "import io\n",
    "import string\n",
    "\n",
    "def ident(x):\n",
    "    return x\n",
    "\n",
    "def read_conll_2003(filename):\n",
    "    all_data = []\n",
    "\n",
    "    current_txt = []\n",
    "    current_tags = []\n",
    "    tagset = []\n",
    "\n",
    "    fin = io.open(filename, 'r', encoding='utf-8', newline='\\n', errors='ignore')\n",
    "    for line in fin:\n",
    "        line = line.strip()\n",
    "        if len(line) > 0: # skip blank lines\n",
    "            tmp = line.split(' ')\n",
    "            if tmp[0] != '-DOCSTART-':\n",
    "                current_txt.append(tmp[0])\n",
    "                current_tags.append(tmp[-1])\n",
    "                tagset.append(tmp[-1])\n",
    "        else:\n",
    "            if len(current_txt) > 0:\n",
    "                all_data.append((current_txt, ' '.join(current_tags)))\n",
    "                current_txt = []\n",
    "                current_tags = []\n",
    "    fin.close()\n",
    "\n",
    "    tagset = list(set(tagset))\n",
    "    tag_to_ix = {tag: key for key, tag in enumerate(tagset)}\n",
    "    tag_to_ix[START_TAG] = len(tagset)\n",
    "    tag_to_ix[STOP_TAG] = len(tagset) + 1\n",
    "\n",
    "    print(tag_to_ix)\n",
    "    print('Loaded %s sentences' % len(all_data))\n",
    "    \n",
    "    return tag_to_ix, all_data"
   ]
  },
  {
   "cell_type": "code",
   "execution_count": 4,
   "metadata": {},
   "outputs": [
    {
     "name": "stdout",
     "output_type": "stream",
     "text": [
      "{'I-PER': 0, 'I-LOC': 1, 'I-MISC': 2, 'B-MISC': 3, 'B-LOC': 4, 'B-ORG': 5, 'I-ORG': 6, 'O': 7, '<START>': 8, '<STOP>': 9}\n",
      "Loaded 14041 sentences\n"
     ]
    }
   ],
   "source": [
    "from entities_recognition.bilstm.predict import read_tags\n",
    "\n",
    "tag_to_ix, training_data = read_conll_2003(TRAIN_PATH)\n",
    "result = []\n",
    "for sentence, tag_seq in training_data:\n",
    "    assert len(sentence) == len(tag_seq.split(' '))\n",
    "#     print(read_tags(tokens_in, tag_seq.split(' ')))"
   ]
  },
  {
   "cell_type": "code",
   "execution_count": 5,
   "metadata": {
    "scrolled": false
   },
   "outputs": [
    {
     "name": "stdout",
     "output_type": "stream",
     "text": [
      "Importing /Users/2359media/Documents/botbot-nlp/data/fasttext/crawl-300d-2M.vec...\n",
      "95m 17s (- 857m 36s) (1 10%) 33474.7969\n",
      "156m 1s (- 624m 7s) (2 20%) 24021.9043\n",
      "219m 31s (- 512m 14s) (3 30%) 20587.1953\n",
      "283m 15s (- 424m 53s) (4 40%) 19324.5508\n",
      "351m 22s (- 351m 22s) (5 50%) 17675.1484\n",
      "476m 11s (- 317m 27s) (6 60%) 17375.0039\n",
      "540m 43s (- 231m 44s) (7 70%) 15829.7979\n",
      "606m 20s (- 151m 35s) (8 80%) 14996.5830\n",
      "737m 17s (- 81m 55s) (9 90%) 14230.5713\n",
      "798m 39s (- 0m 0s) (10 100%) 13026.6240\n"
     ]
    },
    {
     "data": {
      "text/plain": [
       "[<matplotlib.lines.Line2D at 0x1a1a0b71d0>]"
      ]
     },
     "execution_count": 5,
     "metadata": {},
     "output_type": "execute_result"
    },
    {
     "data": {
      "text/plain": [
       "<matplotlib.figure.Figure at 0x1a1a07dc50>"
      ]
     },
     "metadata": {},
     "output_type": "display_data"
    },
    {
     "data": {
      "image/png": "[encoded data removed]",
      "text/plain": [
       "<matplotlib.figure.Figure at 0x1a1a07dd30>"
      ]
     },
     "metadata": {},
     "output_type": "display_data"
    }
   ],
   "source": [
    "losses, model = trainIters(training_data, \n",
    "                           tag_to_ix,\n",
    "                           learning_rate=1e-3,\n",
    "                           n_iters=10, \n",
    "                           log_every=1,\n",
    "                           tokenizer=ident,\n",
    "                           verbose=1)\n",
    "\n",
    "import matplotlib.pyplot as plt\n",
    "import matplotlib.ticker as ticker\n",
    "\n",
    "plt.figure()\n",
    "fig, ax = plt.subplots()\n",
    "plt.plot(losses)"
   ]
  },
  {
   "cell_type": "code",
   "execution_count": 6,
   "metadata": {},
   "outputs": [],
   "source": [
    "import torch\n",
    "model.eval()\n",
    "torch.save(model.state_dict(), 'bilstm-rnn-conll2003-vanilla.bin')"
   ]
  },
  {
   "cell_type": "markdown",
   "metadata": {},
   "source": [
    "Model recall"
   ]
  },
  {
   "cell_type": "code",
   "execution_count": 7,
   "metadata": {},
   "outputs": [
    {
     "data": {
      "text/plain": [
       "0.9699048722872395"
      ]
     },
     "execution_count": 7,
     "metadata": {},
     "output_type": "execute_result"
    }
   ],
   "source": [
    "evaluate_all(model, training_data, tag_to_ix, tokenizer=ident)"
   ]
  },
  {
   "cell_type": "code",
   "execution_count": 8,
   "metadata": {},
   "outputs": [
    {
     "name": "stdout",
     "output_type": "stream",
     "text": [
      "{'I-LOC': 0, 'I-PER': 1, 'I-MISC': 2, 'B-MISC': 3, 'I-ORG': 4, 'O': 5, '<START>': 6, '<STOP>': 7}\n",
      "Loaded 3250 sentences\n",
      "{'I-LOC': 0, 'I-PER': 1, 'I-MISC': 2, 'B-MISC': 3, 'B-LOC': 4, 'B-ORG': 5, 'I-ORG': 6, 'O': 7, '<START>': 8, '<STOP>': 9}\n",
      "Loaded 3453 sentences\n"
     ]
    }
   ],
   "source": [
    "TEST_PATH_A = path.join(BASE_PATH, 'data/CoNLL-2003/eng.testa')\n",
    "TEST_PATH_B = path.join(BASE_PATH, 'data/CoNLL-2003/eng.testb')\n",
    "_, testing_data_a = read_conll_2003(TEST_PATH_A)\n",
    "_, testing_data_b = read_conll_2003(TEST_PATH_B)"
   ]
  },
  {
   "cell_type": "markdown",
   "metadata": {},
   "source": [
    "Accuracy on test sets"
   ]
  },
  {
   "cell_type": "code",
   "execution_count": 9,
   "metadata": {},
   "outputs": [
    {
     "data": {
      "text/plain": [
       "0.9652272107783965"
      ]
     },
     "execution_count": 9,
     "metadata": {},
     "output_type": "execute_result"
    }
   ],
   "source": [
    "evaluate_all(model, testing_data_a, tag_to_ix, tokenizer=ident)"
   ]
  },
  {
   "cell_type": "code",
   "execution_count": 10,
   "metadata": {},
   "outputs": [
    {
     "data": {
      "text/plain": [
       "0.9511790675137288"
      ]
     },
     "execution_count": 10,
     "metadata": {},
     "output_type": "execute_result"
    }
   ],
   "source": [
    "evaluate_all(model, testing_data_b, tag_to_ix, tokenizer=ident)"
   ]
  },
  {
   "cell_type": "code",
   "execution_count": 11,
   "metadata": {},
   "outputs": [
    {
     "name": "stdout",
     "output_type": "stream",
     "text": [
      "Raw predicted tags:\n",
      "[7, 7, 7, 0, 0, 0, 0, 7, 7, 7, 7, 7, 7, 7, 7, 7, 0, 7, 7, 7, 7, 7, 7]\n",
      "[7, 7, 7, 7, 7, 7, 7, 7, 2]\n",
      "[6, 7, 7, 7, 7, 7, 7, 7, 7, 7, 7, 7, 7, 7, 7, 7]\n",
      "[7, 7, 2, 2, 2, 7, 7, 7, 1, 1, 7, 7, 7, 7, 7, 7, 7, 7, 7, 7, 1, 7, 6, 7, 7]\n"
     ]
    },
    {
     "data": {
      "text/plain": [
       "[{'PER': ['Ho Chi Minh City', 'Hanoi']},\n",
       " {'MISC': ['Republicans']},\n",
       " {'ORG': ['Kenya']},\n",
       " {'LOC': ['White House', 'House'], 'MISC': ['O . P'], 'ORG': ['Senate']}]"
      ]
     },
     "execution_count": 11,
     "metadata": {},
     "output_type": "execute_result"
    }
   ],
   "source": [
    "from entities_recognition.bilstm.predict import predict\n",
    "from common.utils import wordpunct_tokenize\n",
    "\n",
    "test_data = [\n",
    "    'I live in Ho Chi Minh City, nice place, though my hometown is in Hanoi. I do miss it sometimes',\n",
    "    'Trump’s role in midterm elections roils Republicans',\n",
    "    'Kenya bans film about 2 girls in love because it’s ‘too hopeful’',\n",
    "    'G.O.P. leaders and White House aides are trying to prepare President Trump for trouble in House and Senate races.'\n",
    "]\n",
    "predict(model, test_data, tag_to_ix, tokenizer=wordpunct_tokenize, delimiter=' ')"
   ]
  },
  {
   "cell_type": "code",
   "execution_count": 12,
   "metadata": {},
   "outputs": [],
   "source": [
    "import json\n",
    "with open('tag_to_ix.json', 'w') as tagfile:\n",
    "    json.dump(tag_to_ix, tagfile)"
   ]
  },
  {
   "cell_type": "markdown",
   "metadata": {},
   "source": [
    "`./conlleval < testa.out.txt`\n",
    "```\n",
    "processed 51578 tokens with 5942 phrases; found: 5808 phrases; correct: 4627.\n",
    "accuracy:  96.56%; precision:  79.67%; recall:  77.87%; FB1:  78.76\n",
    "              LOC: precision:  90.47%; recall:  77.03%; FB1:  83.21  1564\n",
    "             MISC: precision:  83.25%; recall:  73.86%; FB1:  78.28  818\n",
    "              ORG: precision:  67.11%; recall:  64.50%; FB1:  65.78  1289\n",
    "              PER: precision:  77.96%; recall:  90.45%; FB1:  83.74  2137\n",
    "```\n",
    "`./conlleval < testb.out.txt`\n",
    "```\n",
    "processed 46666 tokens with 5879 phrases; found: 5493 phrases; correct: 4102.\n",
    "accuracy:  94.65%; precision:  74.68%; recall:  69.77%; FB1:  72.14\n",
    "              LOC: precision:  89.33%; recall:  74.82%; FB1:  81.44  1397\n",
    "             MISC: precision:  68.47%; recall:  68.66%; FB1:  68.56  704\n",
    "              ORG: precision:  68.00%; recall:  60.39%; FB1:  63.97  1475\n",
    "              PER: precision:  71.41%; recall:  84.66%; FB1:  77.48  1917\n",
    "               X-: precision:   0.00%; recall:   0.00%; FB1:   0.00  0\n",
    "```"
   ]
  }
 ],
 "metadata": {
  "kernelspec": {
   "display_name": "Python 3",
   "language": "python",
   "name": "python3"
  },
  "language_info": {
   "codemirror_mode": {
    "name": "ipython",
    "version": 3
   },
   "file_extension": ".py",
   "mimetype": "text/x-python",
   "name": "python",
   "nbconvert_exporter": "python",
   "pygments_lexer": "ipython3",
   "version": "3.6.4"
  }
 },
 "nbformat": 4,
 "nbformat_minor": 2
}
