{
 "cells": [
  {
   "cell_type": "markdown",
   "metadata": {},
   "source": [
    "# Training an entities recognition model\n",
    "\n",
    "Importing the required code files"
   ]
  },
  {
   "cell_type": "code",
   "execution_count": 1,
   "metadata": {},
   "outputs": [],
   "source": [
    "from os import getcwd, path\n",
    "import sys\n",
    "import matplotlib.pyplot as plt\n",
    "\n",
    "BASE_PATH = path.dirname(getcwd())\n",
    "sys.path.append(BASE_PATH)\n",
    "\n",
    "from config import START_TAG, STOP_TAG"
   ]
  },
  {
   "cell_type": "code",
   "execution_count": 2,
   "metadata": {},
   "outputs": [
    {
     "name": "stdout",
     "output_type": "stream",
     "text": [
      "/Users/2359media/Documents/botbot-nlp\n"
     ]
    }
   ],
   "source": [
    "print(BASE_PATH)"
   ]
  },
  {
   "cell_type": "markdown",
   "metadata": {},
   "source": [
    "The training data must be an array that:\n",
    "- Contains tuples of (sentence, tags)\n",
    "- Sentence will be splitted using nltk.wordpunct_tokenize\n",
    "- Tags will be splitted using .split() - hence spaces by default\n",
    "\n",
    "Each entity must be separated into 3 kinds of tag: B- (Begin), I- (Inside) and O- (Outside)\n",
    "\n",
    "_This is to help with separation in the case of consecutive entities_\n",
    "\n",
    "A `dictionary` to translate from these tags into consecutive indices must be defined\n",
    "This dictionary will contain:\n",
    "- The empty token\n",
    "- `START_TAG` and `END_TAG` tokens (imported from global configs - used internally to indicate start and end of sentence)\n",
    "- Entities B-, I-, O- tokens\n",
    "\n",
    "**Sample training data for email recognition:**"
   ]
  },
  {
   "cell_type": "code",
   "execution_count": 3,
   "metadata": {},
   "outputs": [],
   "source": [
    "training_data = [(\n",
    "    'My email address is at luungoc2005@gmail.com.',\n",
    "    '- - - - - - - - - - B-EMAIL I-EMAIL I-EMAIL I-EMAIL I-EMAIL I-EMAIL -'\n",
    "), (\n",
    "    'Contact me at contact@2359media.net.',\n",
    "    '- - - - - - B-EMAIL I-EMAIL I-EMAIL I-EMAIL I-EMAIL I-EMAIL -'\n",
    "), (\n",
    "    'test.email@microsoft.com is a testing email address',\n",
    "    'B-EMAIL I-EMAIL I-EMAIL I-EMAIL I-EMAIL I-EMAIL I-EMAIL - - - - - - - - - -'\n",
    "), (\n",
    "    'Any inquiries email thesloth_197@gmail.com for assistance',\n",
    "    '- - - - - - B-EMAIL I-EMAIL I-EMAIL I-EMAIL I-EMAIL I-EMAIL I-EMAIL - - - -'\n",
    "), (\n",
    "    'Email addresses include test.noreply@gmail.com hello.vietnam@hallo.org contact@rocket.net',\n",
    "    '- - - - - - B-EMAIL I-EMAIL I-EMAIL I-EMAIL I-EMAIL I-EMAIL I-EMAIL - B-EMAIL I-EMAIL I-EMAIL I-EMAIL I-EMAIL I-EMAIL I-EMAIL - B-EMAIL I-EMAIL I-EMAIL I-EMAIL I-EMAIL'\n",
    "), (\n",
    "    'Contact: tester@github.com at any hours',\n",
    "    '- - - B-EMAIL I-EMAIL I-EMAIL I-EMAIL I-EMAIL - - - - - -'\n",
    ")]\n",
    "\n",
    "tag_to_ix = {\n",
    "    '-': 0, # O tag but using '-' for readability\n",
    "    'B-EMAIL': 1,\n",
    "    'I-EMAIL': 2,\n",
    "    START_TAG: 3,\n",
    "    STOP_TAG: 4\n",
    "}"
   ]
  },
  {
   "cell_type": "code",
   "execution_count": 4,
   "metadata": {},
   "outputs": [],
   "source": [
    "from entities_recognition.bilstm.model import SequenceTaggerWrapper\n",
    "from entities_recognition.bilstm.train import SequenceTaggerLearner\n",
    "from common.callbacks import PrintLoggerCallback\n",
    "\n",
    "model = SequenceTaggerWrapper({'tag_to_ix': tag_to_ix})\n",
    "learner = SequenceTaggerLearner(model)"
   ]
  },
  {
   "cell_type": "code",
   "execution_count": 5,
   "metadata": {},
   "outputs": [
    {
     "name": "stdout",
     "output_type": "stream",
     "text": [
      "0m 2s (- 0m 52s) (5 5%) - loss: 11.6596 - accuracy: 0.5714\n",
      "0m 5s (- 0m 46s) (10 10%) - loss: 5.5873 - accuracy: 0.7857\n",
      "0m 7s (- 0m 43s) (15 15%) - loss: 1.2319 - accuracy: 1.0000\n",
      "0m 9s (- 0m 39s) (20 20%) - loss: 0.2861 - accuracy: 1.0000\n",
      "0m 12s (- 0m 37s) (25 25%) - loss: 0.2877 - accuracy: 1.0000\n",
      "0m 14s (- 0m 34s) (30 30%) - loss: 0.1520 - accuracy: 1.0000\n",
      "0m 17s (- 0m 32s) (35 35%) - loss: 0.0794 - accuracy: 1.0000\n",
      "0m 19s (- 0m 29s) (40 40%) - loss: 0.0920 - accuracy: 1.0000\n",
      "0m 22s (- 0m 27s) (45 45%) - loss: 0.1552 - accuracy: 1.0000\n",
      "0m 24s (- 0m 24s) (50 50%) - loss: 0.0622 - accuracy: 1.0000\n",
      "0m 27s (- 0m 22s) (55 55%) - loss: 0.1708 - accuracy: 1.0000\n",
      "0m 29s (- 0m 19s) (60 60%) - loss: 0.0166 - accuracy: 1.0000\n",
      "0m 31s (- 0m 17s) (65 65%) - loss: 0.0102 - accuracy: 1.0000\n",
      "0m 34s (- 0m 14s) (70 70%) - loss: 0.0095 - accuracy: 1.0000\n",
      "0m 36s (- 0m 12s) (75 75%) - loss: 0.0163 - accuracy: 1.0000\n",
      "0m 39s (- 0m 9s) (80 80%) - loss: 0.0249 - accuracy: 1.0000\n",
      "0m 41s (- 0m 7s) (85 85%) - loss: 0.0089 - accuracy: 1.0000\n",
      "0m 43s (- 0m 4s) (90 90%) - loss: 0.0343 - accuracy: 1.0000\n",
      "0m 46s (- 0m 2s) (95 95%) - loss: 0.0130 - accuracy: 1.0000\n",
      "0m 48s (- 0m 0s) (100 100%) - loss: 0.0272 - accuracy: 1.0000\n"
     ]
    }
   ],
   "source": [
    "learner.fit(\n",
    "    training_data=training_data,\n",
    "    epochs=50,\n",
    "    callbacks=[PrintLoggerCallback(log_every=5)]\n",
    ")"
   ]
  },
  {
   "cell_type": "code",
   "execution_count": 6,
   "metadata": {
    "scrolled": true
   },
   "outputs": [
    {
     "data": {
      "text/plain": [
       "(tensor(106.5679),\n",
       " [2,\n",
       "  2,\n",
       "  0,\n",
       "  2,\n",
       "  2,\n",
       "  0,\n",
       "  0,\n",
       "  0,\n",
       "  0,\n",
       "  0,\n",
       "  0,\n",
       "  0,\n",
       "  1,\n",
       "  2,\n",
       "  2,\n",
       "  2,\n",
       "  2,\n",
       "  2,\n",
       "  2,\n",
       "  0,\n",
       "  1,\n",
       "  2,\n",
       "  2,\n",
       "  2,\n",
       "  2,\n",
       "  2,\n",
       "  0,\n",
       "  1,\n",
       "  1,\n",
       "  2,\n",
       "  2,\n",
       "  2,\n",
       "  2])"
      ]
     },
     "execution_count": 6,
     "metadata": {},
     "output_type": "execute_result"
    }
   ],
   "source": [
    "model('my email is luungoc2005@gmail.com')"
   ]
  },
  {
   "cell_type": "markdown",
   "metadata": {},
   "source": [
    "Evaluate model accuracy by using"
   ]
  },
  {
   "cell_type": "code",
   "execution_count": null,
   "metadata": {},
   "outputs": [],
   "source": []
  }
 ],
 "metadata": {
  "kernelspec": {
   "display_name": "Python 3",
   "language": "python",
   "name": "python3"
  },
  "language_info": {
   "codemirror_mode": {
    "name": "ipython",
    "version": 3
   },
   "file_extension": ".py",
   "mimetype": "text/x-python",
   "name": "python",
   "nbconvert_exporter": "python",
   "pygments_lexer": "ipython3",
   "version": "3.5.0"
  }
 },
 "nbformat": 4,
 "nbformat_minor": 2
}
