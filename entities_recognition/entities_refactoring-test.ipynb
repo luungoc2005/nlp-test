{
 "cells": [
  {
   "cell_type": "markdown",
   "metadata": {},
   "source": [
    "# Training an entities recognition model\n",
    "\n",
    "Importing the required code files"
   ]
  },
  {
   "cell_type": "code",
   "execution_count": 1,
   "metadata": {},
   "outputs": [],
   "source": [
    "from os import getcwd, path\n",
    "import sys\n",
    "import matplotlib.pyplot as plt\n",
    "\n",
    "BASE_PATH = path.dirname(getcwd())\n",
    "sys.path.append(BASE_PATH)\n",
    "\n",
    "from config import START_TAG, STOP_TAG"
   ]
  },
  {
   "cell_type": "code",
   "execution_count": 2,
   "metadata": {},
   "outputs": [
    {
     "name": "stdout",
     "output_type": "stream",
     "text": [
      "/Users/2359media/Documents/botbot-nlp\n"
     ]
    }
   ],
   "source": [
    "print(BASE_PATH)"
   ]
  },
  {
   "cell_type": "markdown",
   "metadata": {},
   "source": [
    "The training data must be an array that:\n",
    "- Contains tuples of (sentence, tags)\n",
    "- Sentence will be splitted using nltk.wordpunct_tokenize\n",
    "- Tags will be splitted using .split() - hence spaces by default\n",
    "\n",
    "Each entity must be separated into 3 kinds of tag: B- (Begin), I- (Inside) and O- (Outside)\n",
    "\n",
    "_This is to help with separation in the case of consecutive entities_\n",
    "\n",
    "A `dictionary` to translate from these tags into consecutive indices must be defined\n",
    "This dictionary will contain:\n",
    "- The empty token\n",
    "- `START_TAG` and `END_TAG` tokens (imported from global configs - used internally to indicate start and end of sentence)\n",
    "- Entities B-, I-, O- tokens\n",
    "\n",
    "**Sample training data for email recognition:**"
   ]
  },
  {
   "cell_type": "code",
   "execution_count": 3,
   "metadata": {},
   "outputs": [],
   "source": [
    "training_data = [(\n",
    "    'My email address is at luungoc2005@gmail.com.',\n",
    "    '- - - - - - - - - - B-EMAIL I-EMAIL I-EMAIL I-EMAIL I-EMAIL I-EMAIL -'\n",
    "), (\n",
    "    'Contact me at contact@2359media.net.',\n",
    "    '- - - - - - B-EMAIL I-EMAIL I-EMAIL I-EMAIL I-EMAIL I-EMAIL -'\n",
    "), (\n",
    "    'test.email@microsoft.com is a testing email address',\n",
    "    'B-EMAIL I-EMAIL I-EMAIL I-EMAIL I-EMAIL I-EMAIL I-EMAIL - - - - - - - - - -'\n",
    "), (\n",
    "    'Any inquiries email thesloth_197@gmail.com for assistance',\n",
    "    '- - - - - - B-EMAIL I-EMAIL I-EMAIL I-EMAIL I-EMAIL I-EMAIL I-EMAIL - - - -'\n",
    "), (\n",
    "    'Email addresses include test.noreply@gmail.com hello.vietnam@hallo.org contact@rocket.net',\n",
    "    '- - - - - - B-EMAIL I-EMAIL I-EMAIL I-EMAIL I-EMAIL I-EMAIL I-EMAIL - B-EMAIL I-EMAIL I-EMAIL I-EMAIL I-EMAIL I-EMAIL I-EMAIL - B-EMAIL I-EMAIL I-EMAIL I-EMAIL I-EMAIL'\n",
    "), (\n",
    "    'Contact: tester@github.com at any hours',\n",
    "    '- - - B-EMAIL I-EMAIL I-EMAIL I-EMAIL I-EMAIL - - - - - -'\n",
    ")]\n",
    "\n",
    "tag_to_ix = {\n",
    "    '-': 0, # O tag but using '-' for readability\n",
    "    'B-EMAIL': 1,\n",
    "    'I-EMAIL': 2,\n",
    "    START_TAG: 3,\n",
    "    STOP_TAG: 4\n",
    "}"
   ]
  },
  {
   "cell_type": "code",
   "execution_count": 4,
   "metadata": {},
   "outputs": [],
   "source": [
    "from entities_recognition.bilstm.model import SequenceTaggerWrapper\n",
    "from entities_recognition.bilstm.train import SequenceTaggerLearner\n",
    "from common.callbacks import PrintLoggerCallback, EarlyStoppingCallback\n",
    "\n",
    "model = SequenceTaggerWrapper({'tag_to_ix': tag_to_ix})\n",
    "learner = SequenceTaggerLearner(model)"
   ]
  },
  {
   "cell_type": "code",
   "execution_count": 5,
   "metadata": {},
   "outputs": [
    {
     "name": "stdout",
     "output_type": "stream",
     "text": [
      "0m 2s (- 0m 26s) (5 10%) - loss: 12.2995 - accuracy: 0.8070\n",
      "0m 5s (- 0m 22s) (10 20%) - loss: 5.1858 - accuracy: 0.8809\n",
      "0m 8s (- 0m 18s) (15 30%) - loss: 2.4357 - accuracy: 0.9804\n",
      "0m 10s (- 0m 15s) (20 40%) - loss: 1.1892 - accuracy: 0.9804\n",
      "0m 13s (- 0m 13s) (25 50%) - loss: 0.6972 - accuracy: 1.0000\n",
      "0m 15s (- 0m 10s) (30 60%) - loss: 0.3502 - accuracy: 1.0000\n",
      "0m 18s (- 0m 7s) (35 70%) - loss: 0.2324 - accuracy: 1.0000\n",
      "0m 20s (- 0m 5s) (40 80%) - loss: 0.1559 - accuracy: 1.0000\n",
      "Best monitor value `loss` == 0.168280 reached. Early stopping\n"
     ]
    }
   ],
   "source": [
    "learner.fit(\n",
    "    training_data=training_data,\n",
    "    epochs=50,\n",
    "    callbacks=[\n",
    "        PrintLoggerCallback(log_every=5),\n",
    "        EarlyStoppingCallback()\n",
    "    ]\n",
    ")"
   ]
  },
  {
   "cell_type": "code",
   "execution_count": 6,
   "metadata": {
    "scrolled": true
   },
   "outputs": [
    {
     "data": {
      "text/plain": [
       "{'EMAIL': ['test.email@microsoft.com']}"
      ]
     },
     "execution_count": 6,
     "metadata": {},
     "output_type": "execute_result"
    }
   ],
   "source": [
    "model(['test.email@microsoft.com is a testing email address'])"
   ]
  },
  {
   "cell_type": "markdown",
   "metadata": {},
   "source": [
    "Evaluate model accuracy by using"
   ]
  },
  {
   "cell_type": "code",
   "execution_count": null,
   "metadata": {},
   "outputs": [],
   "source": []
  }
 ],
 "metadata": {
  "kernelspec": {
   "display_name": "Python 3",
   "language": "python",
   "name": "python3"
  },
  "language_info": {
   "codemirror_mode": {
    "name": "ipython",
    "version": 3
   },
   "file_extension": ".py",
   "mimetype": "text/x-python",
   "name": "python",
   "nbconvert_exporter": "python",
   "pygments_lexer": "ipython3",
   "version": "3.5.0"
  }
 },
 "nbformat": 4,
 "nbformat_minor": 2
}
