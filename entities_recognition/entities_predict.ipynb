{
 "cells": [
  {
   "cell_type": "markdown",
   "metadata": {},
   "source": [
    "# Predicting entities using a trained model\n",
    "\n",
    "Import the required code files"
   ]
  },
  {
   "cell_type": "code",
   "execution_count": 1,
   "metadata": {},
   "outputs": [],
   "source": [
    "from os import getcwd, path\n",
    "import sys\n",
    "import matplotlib.pyplot as plt\n",
    "\n",
    "BASE_PATH = path.dirname(getcwd())\n",
    "sys.path.append(BASE_PATH)\n",
    "\n",
    "from entities_recognition.bilstm.predict import load_model, predict\n",
    "# from config import START_TAG, STOP_TAG"
   ]
  },
  {
   "cell_type": "markdown",
   "metadata": {},
   "source": [
    "The data format will again need to include:\n",
    "- An array of text for prediction\n",
    "- A dictionary of tags (same as used for training)"
   ]
  },
  {
   "cell_type": "code",
   "execution_count": 2,
   "metadata": {},
   "outputs": [],
   "source": [
    "test_data = [\n",
    "    'Contact us: hello_vietnam@yahoo.com',\n",
    "    'hello.sunbox@gmail.com - drop us an email here!~',\n",
    "    'This is a sentence with 2 email addresses. First one is luungoc2005@yahoo.com and second one: ngoc.nguyen@2359media.com',\n",
    "    'Another test with no tags'\n",
    "]\n",
    "\n",
    "# tag_to_ix = {\n",
    "#     'O': 0,\n",
    "#     'B-EMAIL': 1,\n",
    "#     'I-EMAIL': 2,\n",
    "#     START_TAG: 3,\n",
    "#     STOP_TAG: 4\n",
    "# }"
   ]
  },
  {
   "cell_type": "markdown",
   "metadata": {},
   "source": [
    "Load the pretrained model (path is defined in `bilstm/train.py`)\n",
    "Must supply the `tag_to_ix` dictionary used during training as a parameter to reconstruct the model"
   ]
  },
  {
   "cell_type": "code",
   "execution_count": 3,
   "metadata": {},
   "outputs": [],
   "source": [
    "model, tag_to_ix = load_model()"
   ]
  },
  {
   "cell_type": "markdown",
   "metadata": {},
   "source": [
    "Run the prediction function"
   ]
  },
  {
   "cell_type": "code",
   "execution_count": 4,
   "metadata": {},
   "outputs": [
    {
     "name": "stdout",
     "output_type": "stream",
     "text": [
      "Raw predicted tags:\n",
      "Importing /Users/2359media/Documents/botbot-nlp/data/fasttext/crawl-300d-2M.vec...\n",
      "[0, 0, 0, 0, 0, 1, 2, 2, 2, 2, 2, 2]\n",
      "[1, 2, 2, 2, 2, 2, 2, 0, 0, 0, 0, 0, 0, 0, 0, 0, 0, 0, 0, 0]\n",
      "[0, 0, 0, 0, 0, 0, 0, 0, 0, 0, 0, 0, 0, 0, 0, 0, 0, 0, 0, 0, 0, 0, 0, 1, 2, 2, 2, 2, 2, 0, 0, 0, 0, 0, 0, 0, 0, 1, 2, 2, 2, 2, 2, 2, 2]\n",
      "[0, 0, 0, 0, 0, 0, 0, 0, 0]\n"
     ]
    },
    {
     "data": {
      "text/plain": [
       "[{'EMAIL': ['hello_vietnam@yahoo.com']},\n",
       " {'EMAIL': ['hello.sunbox@gmail.com']},\n",
       " {'EMAIL': ['luungoc2005@yahoo.com', 'ngoc.nguyen@2359media.com']},\n",
       " {}]"
      ]
     },
     "execution_count": 4,
     "metadata": {},
     "output_type": "execute_result"
    }
   ],
   "source": [
    "predict(model, test_data, tag_to_ix)"
   ]
  }
 ],
 "metadata": {
  "kernelspec": {
   "display_name": "Python 3",
   "language": "python",
   "name": "python3"
  },
  "language_info": {
   "codemirror_mode": {
    "name": "ipython",
    "version": 3
   },
   "file_extension": ".py",
   "mimetype": "text/x-python",
   "name": "python",
   "nbconvert_exporter": "python",
   "pygments_lexer": "ipython3",
   "version": "3.5.0"
  }
 },
 "nbformat": 4,
 "nbformat_minor": 2
}
