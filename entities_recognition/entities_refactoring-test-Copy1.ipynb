{
 "cells": [
  {
   "cell_type": "markdown",
   "metadata": {},
   "source": [
    "# Training an entities recognition model\n",
    "\n",
    "Importing the required code files"
   ]
  },
  {
   "cell_type": "code",
   "execution_count": 1,
   "metadata": {},
   "outputs": [],
   "source": [
    "from os import getcwd, path\n",
    "import sys\n",
    "\n",
    "BASE_PATH = path.dirname(getcwd())\n",
    "sys.path.append(BASE_PATH)\n",
    "\n",
    "from config import START_TAG, STOP_TAG"
   ]
  },
  {
   "cell_type": "code",
   "execution_count": 2,
   "metadata": {},
   "outputs": [
    {
     "name": "stdout",
     "output_type": "stream",
     "text": [
      "/Users/2359media/Documents/botbot-nlp\n"
     ]
    }
   ],
   "source": [
    "print(BASE_PATH)"
   ]
  },
  {
   "cell_type": "markdown",
   "metadata": {},
   "source": [
    "The training data must be an array that:\n",
    "- Contains tuples of (sentence, tags)\n",
    "- Sentence will be splitted using nltk.wordpunct_tokenize\n",
    "- Tags will be splitted using .split() - hence spaces by default\n",
    "\n",
    "Each entity must be separated into 3 kinds of tag: B- (Begin), I- (Inside) and O- (Outside)\n",
    "\n",
    "_This is to help with separation in the case of consecutive entities_\n",
    "\n",
    "A `dictionary` to translate from these tags into consecutive indices must be defined\n",
    "This dictionary will contain:\n",
    "- The empty token\n",
    "- `START_TAG` and `END_TAG` tokens (imported from global configs - used internally to indicate start and end of sentence)\n",
    "- Entities B-, I-, O- tokens\n",
    "\n",
    "**Sample training data for email recognition:**"
   ]
  },
  {
   "cell_type": "code",
   "execution_count": 3,
   "metadata": {},
   "outputs": [],
   "source": [
    "training_data = [('hi thanh', '- - B-name'), ('hello duc', '- - B-name')]\n",
    "\n",
    "tag_to_ix = {'-': 0, '<START>': 1, '<STOP>': 2, 'B-name': 3, 'I-name': 4}"
   ]
  },
  {
   "cell_type": "code",
   "execution_count": 4,
   "metadata": {},
   "outputs": [],
   "source": [
    "from entities_recognition.bilstm.model import SequenceTaggerWrapper\n",
    "from entities_recognition.bilstm.train import SequenceTaggerLearner\n",
    "from common.callbacks import PrintLoggerCallback, EarlyStoppingCallback\n",
    "\n",
    "model = SequenceTaggerWrapper({'tag_to_ix': tag_to_ix})\n",
    "learner = SequenceTaggerLearner(model)"
   ]
  },
  {
   "cell_type": "code",
   "execution_count": 5,
   "metadata": {},
   "outputs": [
    {
     "name": "stdout",
     "output_type": "stream",
     "text": [
      "0m 1s (- 0m 12s) (5 10%) - loss: 3.3695 - accuracy: 0.3333\n",
      "0m 1s (- 0m 6s) (10 20%) - loss: 2.6775 - accuracy: 0.5000\n",
      "0m 1s (- 0m 3s) (15 30%) - loss: 2.1680 - accuracy: 0.6667\n",
      "0m 1s (- 0m 2s) (20 40%) - loss: 1.5052 - accuracy: 0.6667\n",
      "0m 1s (- 0m 1s) (25 50%) - loss: 0.7993 - accuracy: 1.0000\n",
      "0m 2s (- 0m 1s) (30 60%) - loss: 0.3977 - accuracy: 1.0000\n",
      "0m 2s (- 0m 0s) (35 70%) - loss: 0.1968 - accuracy: 1.0000\n",
      "0m 2s (- 0m 0s) (40 80%) - loss: 0.1446 - accuracy: 1.0000\n",
      "0m 2s (- 0m 0s) (45 90%) - loss: 0.0768 - accuracy: 1.0000\n",
      "0m 2s (- 0m 0s) (50 100%) - loss: 0.0637 - accuracy: 1.0000\n"
     ]
    }
   ],
   "source": [
    "learner.fit(\n",
    "    training_data=training_data,\n",
    "    epochs=50,\n",
    "    callbacks=[\n",
    "        PrintLoggerCallback(log_every=5),\n",
    "        EarlyStoppingCallback()\n",
    "    ]\n",
    ")"
   ]
  },
  {
   "cell_type": "code",
   "execution_count": 8,
   "metadata": {
    "scrolled": true
   },
   "outputs": [
    {
     "data": {
      "text/plain": [
       "[{'name': ['last', 'word']}]"
      ]
     },
     "execution_count": 8,
     "metadata": {},
     "output_type": "execute_result"
    }
   ],
   "source": [
    "model(['it\\'s just getting the last word'])"
   ]
  },
  {
   "cell_type": "markdown",
   "metadata": {},
   "source": [
    "Evaluate model accuracy by using"
   ]
  },
  {
   "cell_type": "code",
   "execution_count": null,
   "metadata": {},
   "outputs": [],
   "source": []
  }
 ],
 "metadata": {
  "kernelspec": {
   "display_name": "Python 3",
   "language": "python",
   "name": "python3"
  },
  "language_info": {
   "codemirror_mode": {
    "name": "ipython",
    "version": 3
   },
   "file_extension": ".py",
   "mimetype": "text/x-python",
   "name": "python",
   "nbconvert_exporter": "python",
   "pygments_lexer": "ipython3",
   "version": "3.6.7"
  }
 },
 "nbformat": 4,
 "nbformat_minor": 2
}
