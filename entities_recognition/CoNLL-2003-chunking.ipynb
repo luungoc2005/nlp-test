{
 "cells": [
  {
   "cell_type": "code",
   "execution_count": 1,
   "metadata": {},
   "outputs": [],
   "source": [
    "from os import getcwd, path\n",
    "import sys\n",
    "import matplotlib.pyplot as plt\n",
    "\n",
    "BASE_PATH = path.dirname(getcwd())\n",
    "sys.path.append(BASE_PATH)\n",
    "\n",
    "from common.utils import wordpunct_space_tokenize\n",
    "from config import START_TAG, STOP_TAG, EMPTY_TAG"
   ]
  },
  {
   "cell_type": "code",
   "execution_count": 2,
   "metadata": {},
   "outputs": [
    {
     "name": "stdout",
     "output_type": "stream",
     "text": [
      "/Users/2359media/Documents/botbot-nlp/data/CoNLL-2003/eng.train\n"
     ]
    }
   ],
   "source": [
    "TRAIN_PATH = path.join(BASE_PATH, 'data/CoNLL-2003/eng.train')\n",
    "print(TRAIN_PATH)"
   ]
  },
  {
   "cell_type": "code",
   "execution_count": 3,
   "metadata": {},
   "outputs": [],
   "source": [
    "import io\n",
    "import string\n",
    "\n",
    "def read_conll_2003(filename, tag_idx=-1, space_token=EMPTY_TAG):\n",
    "    all_data = []\n",
    "\n",
    "    current_txt = []\n",
    "    current_tags = []\n",
    "    tagset = []\n",
    "\n",
    "    fin = io.open(filename, 'r', encoding='utf-8', newline='\\n', errors='ignore')\n",
    "    for line in fin:\n",
    "        line = line.strip()\n",
    "        if len(line) > 0: # skip blank lines\n",
    "            tmp = line.split(' ')\n",
    "            if tmp[0] != '-DOCSTART-':\n",
    "                current_txt.append(tmp[0])\n",
    "                current_tags.append(tmp[tag_idx])\n",
    "                tagset.append(tmp[tag_idx])\n",
    "        else:\n",
    "            if len(current_txt) > 0:\n",
    "                line_txt = ''\n",
    "                line_tags = []\n",
    "                for idx in range(len(current_txt)):\n",
    "                    tokens = wordpunct_space_tokenize(current_txt[idx])\n",
    "                    if idx > 0:\n",
    "                        line_txt += ' ' + current_txt[idx]\n",
    "                        if current_tags[idx - 1] == current_tags[idx]:\n",
    "                            line_tags.extend([current_tags[idx]] * (1 + len(tokens)))\n",
    "                        else:\n",
    "                            line_tags.append(space_token)\n",
    "                            tagset.append(space_token)\n",
    "                            line_tags.extend([current_tags[idx]] * len(tokens))\n",
    "                    else:\n",
    "                        line_txt += current_txt[idx]\n",
    "                        line_tags.extend([current_tags[idx]] * len(tokens))\n",
    "                all_data.append((line_txt, ' '.join(line_tags)))\n",
    "                current_txt = []\n",
    "                current_tags = []\n",
    "    fin.close()\n",
    "\n",
    "    tagset = list(set(tagset))\n",
    "    tag_to_ix = {tag: key for key, tag in enumerate(tagset)}\n",
    "    tag_to_ix[START_TAG] = len(tagset)\n",
    "    tag_to_ix[STOP_TAG] = len(tagset) + 1\n",
    "\n",
    "    print(tag_to_ix)\n",
    "    print('Loaded %s sentences' % len(all_data))\n",
    "    \n",
    "    return tag_to_ix, all_data"
   ]
  },
  {
   "cell_type": "code",
   "execution_count": 4,
   "metadata": {},
   "outputs": [
    {
     "name": "stdout",
     "output_type": "stream",
     "text": [
      "{'NN|SYM': 41, 'NNP': 0, 'NNS': 1, 'RP': 3, ':': 5, 'WP': 6, 'NNPS': 15, 'VBD': 8, 'DT': 9, 'PRP$': 12, ')': 13, 'UH': 17, 'FW': 2, 'VBN': 14, 'SYM': 16, '<STOP>': 47, 'WDT': 18, 'MD': 43, 'WRB': 19, \"''\": 20, 'WP$': 21, 'PRP': 22, 'EX': 26, '$': 23, '-': 7, 'IN': 24, 'VBG': 25, 'POS': 4, 'NN': 27, 'TO': 28, 'PDT': 29, '.': 30, 'JJ': 31, ',': 33, 'RBR': 34, '\"': 35, 'JJR': 37, 'LS': 38, 'CD': 39, 'CC': 40, 'VBZ': 42, '<START>': 46, 'VB': 36, 'VBP': 10, 'RBS': 32, 'JJS': 44, '(': 11, 'RB': 45}\n",
      "Loaded 14041 sentences\n"
     ]
    }
   ],
   "source": [
    "tag_to_ix, training_data = read_conll_2003(TRAIN_PATH, 1)\n",
    "result = []\n",
    "for sentence, tag_seq in training_data:\n",
    "    tokens_in = wordpunct_space_tokenize(sentence)\n",
    "    assert len(tokens_in) == len(tag_seq.split(' '))\n",
    "#     print(read_tags(tokens_in, tag_seq.split(' ')))"
   ]
  },
  {
   "cell_type": "code",
   "execution_count": 5,
   "metadata": {
    "scrolled": false
   },
   "outputs": [],
   "source": [
    "from entities_recognition.bilstm.model import SequenceTaggerWrapper\n",
    "from entities_recognition.bilstm.train import SequenceTaggerLearner\n",
    "from common.callbacks import PrintLoggerCallback, EarlyStoppingCallback\n",
    "\n",
    "model = SequenceTaggerWrapper({'tag_to_ix': tag_to_ix, 'task': 'pos'})\n",
    "learner = SequenceTaggerLearner(model)"
   ]
  },
  {
   "cell_type": "code",
   "execution_count": null,
   "metadata": {},
   "outputs": [],
   "source": [
    "learner.fit(\n",
    "    training_data=training_data,\n",
    "    epochs=50,\n",
    "    callbacks=[\n",
    "        PrintLoggerCallback(log_every=5),\n",
    "        EarlyStoppingCallback()\n",
    "    ]\n",
    ")"
   ]
  },
  {
   "cell_type": "code",
   "execution_count": null,
   "metadata": {},
   "outputs": [],
   "source": [
    "SAVE_PATH = \n",
    "learner.save('pos_model_en.bin')"
   ]
  },
  {
   "cell_type": "code",
   "execution_count": null,
   "metadata": {},
   "outputs": [],
   "source": [
    "test_data = [\n",
    "    'I live in Ho Chi Minh City, nice place, though my hometown is in Hanoi. I do miss it sometimes',\n",
    "    'Trump’s role in midterm elections roils Republicans',\n",
    "    'Kenya bans film about 2 girls in love because it’s ‘too hopeful’',\n",
    "    'G.O.P. leaders and White House aides are trying to prepare President Trump for trouble in House and Senate races.'\n",
    "]\n",
    "for line in test_data:\n",
    "    print('\\n---\\n' + line)\n",
    "    print(model([line]))"
   ]
  },
  {
   "cell_type": "code",
   "execution_count": null,
   "metadata": {},
   "outputs": [],
   "source": []
  }
 ],
 "metadata": {
  "kernelspec": {
   "display_name": "Python 3",
   "language": "python",
   "name": "python3"
  },
  "language_info": {
   "codemirror_mode": {
    "name": "ipython",
    "version": 3
   },
   "file_extension": ".py",
   "mimetype": "text/x-python",
   "name": "python",
   "nbconvert_exporter": "python",
   "pygments_lexer": "ipython3",
   "version": "3.5.0"
  }
 },
 "nbformat": 4,
 "nbformat_minor": 2
}
