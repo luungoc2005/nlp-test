{
 "cells": [
  {
   "cell_type": "markdown",
   "metadata": {},
   "source": [
    "# Training an entities recognition model\n",
    "\n",
    "Importing the required code files"
   ]
  },
  {
   "cell_type": "code",
   "execution_count": 1,
   "metadata": {},
   "outputs": [],
   "source": [
    "from os import getcwd, path\n",
    "import sys\n",
    "\n",
    "BASE_PATH = path.dirname(getcwd())\n",
    "sys.path.append(BASE_PATH)\n",
    "\n",
    "from config import START_TAG, STOP_TAG"
   ]
  },
  {
   "cell_type": "code",
   "execution_count": 2,
   "metadata": {},
   "outputs": [
    {
     "name": "stdout",
     "output_type": "stream",
     "text": [
      "/Users/2359media/Documents/botbot-nlp\n"
     ]
    }
   ],
   "source": [
    "print(BASE_PATH)"
   ]
  },
  {
   "cell_type": "markdown",
   "metadata": {},
   "source": [
    "The training data must be an array that:\n",
    "- Contains tuples of (sentence, tags)\n",
    "- Sentence will be splitted using nltk.wordpunct_tokenize\n",
    "- Tags will be splitted using .split() - hence spaces by default\n",
    "\n",
    "Each entity must be separated into 3 kinds of tag: B- (Begin), I- (Inside) and O- (Outside)\n",
    "\n",
    "_This is to help with separation in the case of consecutive entities_\n",
    "\n",
    "A `dictionary` to translate from these tags into consecutive indices must be defined\n",
    "This dictionary will contain:\n",
    "- The empty token\n",
    "- `START_TAG` and `END_TAG` tokens (imported from global configs - used internally to indicate start and end of sentence)\n",
    "- Entities B-, I-, O- tokens\n",
    "\n",
    "**Sample training data for email recognition:**"
   ]
  },
  {
   "cell_type": "code",
   "execution_count": 3,
   "metadata": {},
   "outputs": [],
   "source": [
    "# training_data = [('hi thanh', '- - B-name'), ('hello duc, how are you?', '- - B-name - - - - - - - -')]\n",
    "\n",
    "# tag_to_ix = {'-': 0, '<START>': 1, '<STOP>': 2, 'B-name': 3, 'I-name': 4}\n",
    "\n",
    "training_data = [(\n",
    "    'My email address is at luungoc2005@gmail.com.',\n",
    "    '- - - - - - - - - - B-EMAIL I-EMAIL I-EMAIL I-EMAIL I-EMAIL I-EMAIL -'\n",
    "), (\n",
    "    'Contact me at contact@2359media.net.',\n",
    "    '- - - - - - B-EMAIL I-EMAIL I-EMAIL I-EMAIL I-EMAIL I-EMAIL -'\n",
    "), (\n",
    "    'test.email@microsoft.com is a testing email address',\n",
    "    'B-EMAIL I-EMAIL I-EMAIL I-EMAIL I-EMAIL I-EMAIL I-EMAIL - - - - - - - - - -'\n",
    "), (\n",
    "    'Any inquiries email thesloth_197@gmail.com for assistance',\n",
    "    '- - - - - - B-EMAIL I-EMAIL I-EMAIL I-EMAIL I-EMAIL I-EMAIL I-EMAIL - - - -'\n",
    "), (\n",
    "    'Email addresses include test.noreply@gmail.com hello.vietnam@hallo.org contact@rocket.net',\n",
    "    '- - - - - - B-EMAIL I-EMAIL I-EMAIL I-EMAIL I-EMAIL I-EMAIL I-EMAIL - B-EMAIL I-EMAIL I-EMAIL I-EMAIL I-EMAIL I-EMAIL I-EMAIL - B-EMAIL I-EMAIL I-EMAIL I-EMAIL I-EMAIL'\n",
    "), (\n",
    "    'Contact: tester@github.com at any hours',\n",
    "    '- - - B-EMAIL I-EMAIL I-EMAIL I-EMAIL I-EMAIL - - - - - -'\n",
    ")]\n",
    "\n",
    "tag_to_ix = {\n",
    "    '-': 1, # O tag but using '-' for readability\n",
    "    'B-EMAIL': 2,\n",
    "    'I-EMAIL': 3,\n",
    "}"
   ]
  },
  {
   "cell_type": "code",
   "execution_count": 4,
   "metadata": {},
   "outputs": [],
   "source": [
    "from entities_recognition.transformer.model import TransformerSequenceTaggerWrapper\n",
    "from entities_recognition.transformer.train import TransformerSequenceTaggerLearner\n",
    "from entities_recognition.transformer.data import TransformerEntitiesRecognitionDataset\n",
    "from common.callbacks import PrintLoggerCallback, EarlyStoppingCallback, ReduceLROnPlateau\n",
    "from common.modules import BertAdam\n",
    "\n",
    "model = TransformerSequenceTaggerWrapper({'tag_to_ix': tag_to_ix})\n",
    "learner = TransformerSequenceTaggerLearner(model)\n",
    "training_data = TransformerEntitiesRecognitionDataset(training_data, tag_to_ix)"
   ]
  },
  {
   "cell_type": "code",
   "execution_count": 5,
   "metadata": {},
   "outputs": [
    {
     "name": "stdout",
     "output_type": "stream",
     "text": [
      "0m 3s (- 6m 12s) (5 1%) - loss: 14.8268 - accuracy: 0.5841\n",
      "0m 5s (- 4m 28s) (10 2%) - loss: 11.4850 - accuracy: 0.5830\n",
      "0m 7s (- 3m 46s) (15 3%) - loss: 5.4484 - accuracy: 0.6670\n",
      "0m 8s (- 3m 24s) (20 4%) - loss: 5.9744 - accuracy: 0.7136\n",
      "0m 9s (- 3m 9s) (25 5%) - loss: 4.6831 - accuracy: 0.6365\n",
      "0m 11s (- 3m 0s) (30 6%) - loss: 2.5189 - accuracy: 0.7088\n",
      "0m 13s (- 2m 53s) (35 7%) - loss: 7.4187 - accuracy: 0.7490\n",
      "0m 14s (- 2m 48s) (40 8%) - loss: -0.6111 - accuracy: 0.8388\n",
      "0m 16s (- 2m 43s) (45 9%) - loss: -0.7899 - accuracy: 0.8388\n",
      "0m 17s (- 2m 39s) (50 10%) - loss: -0.3407 - accuracy: 0.7357\n",
      "Monitor value plateaued at `loss` == -3.304410. Applying new learning rate: 0.001000 -> 0.000500\n",
      "Monitor value plateaued at `loss` == -2.247701. Applying new learning rate: 0.000500 -> 0.000250\n",
      "0m 19s (- 2m 36s) (55 11%) - loss: 7.6279 - accuracy: 0.7207\n",
      "Monitor value plateaued at `loss` == 7.627852. Applying new learning rate: 0.000250 -> 0.000125\n",
      "Monitor value plateaued at `loss` == -2.001086. Applying new learning rate: 0.000125 -> 0.000063\n",
      "Monitor value plateaued at `loss` == -2.032403. Applying new learning rate: 0.000063 -> 0.000031\n",
      "Monitor value plateaued at `loss` == -2.836254. Applying new learning rate: 0.000031 -> 0.000016\n",
      "Monitor value plateaued at `loss` == -2.625854. Applying new learning rate: 0.000016 -> 0.000008\n",
      "0m 21s (- 2m 34s) (60 12%) - loss: 5.1752 - accuracy: 0.7403\n",
      "Monitor value plateaued at `loss` == 5.175158. Applying new learning rate: 0.000008 -> 0.000004\n",
      "Monitor value plateaued at `loss` == 2.072549. Applying new learning rate: 0.000004 -> 0.000002\n",
      "Minimum learning rate reached. Early stopping\n"
     ]
    }
   ],
   "source": [
    "learner.fit(\n",
    "    training_data=training_data,\n",
    "    epochs=500,\n",
    "    batch_size=2,\n",
    "    callbacks=[\n",
    "        PrintLoggerCallback(log_every=5),\n",
    "        ReduceLROnPlateau(reduce_factor=2, patience=10)\n",
    "#         EarlyStoppingCallback()\n",
    "    ]\n",
    ")"
   ]
  },
  {
   "cell_type": "code",
   "execution_count": 6,
   "metadata": {
    "scrolled": true
   },
   "outputs": [
    {
     "data": {
      "text/plain": [
       "(tensor([[2, 3, 3, 3, 3, 3, 3, 1, 1, 1, 1, 1, 1, 1, 1, 1, 1]]),\n",
       " [[{'name': 'EMAIL', 'values': ['test.email@microsoft.com']}]])"
      ]
     },
     "execution_count": 6,
     "metadata": {},
     "output_type": "execute_result"
    }
   ],
   "source": [
    "from common.utils import wordpunct_space_tokenize\n",
    "model([wordpunct_space_tokenize('test.email@microsoft.com is a testing email address')])\n",
    "# model([wordpunct_space_tokenize('Any inquiries email thesloth_197@gmail.com for assistance')])"
   ]
  },
  {
   "cell_type": "markdown",
   "metadata": {},
   "source": [
    "Evaluate model accuracy by using"
   ]
  },
  {
   "cell_type": "code",
   "execution_count": null,
   "metadata": {},
   "outputs": [],
   "source": []
  }
 ],
 "metadata": {
  "kernelspec": {
   "display_name": "Python 3",
   "language": "python",
   "name": "python3"
  },
  "language_info": {
   "codemirror_mode": {
    "name": "ipython",
    "version": 3
   },
   "file_extension": ".py",
   "mimetype": "text/x-python",
   "name": "python",
   "nbconvert_exporter": "python",
   "pygments_lexer": "ipython3",
   "version": "3.6.8"
  }
 },
 "nbformat": 4,
 "nbformat_minor": 2
}
