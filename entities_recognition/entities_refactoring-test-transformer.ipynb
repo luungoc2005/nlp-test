{
 "cells": [
  {
   "cell_type": "markdown",
   "metadata": {},
   "source": [
    "# Training an entities recognition model\n",
    "\n",
    "Importing the required code files"
   ]
  },
  {
   "cell_type": "code",
   "execution_count": 1,
   "metadata": {},
   "outputs": [
    {
     "name": "stdout",
     "output_type": "stream",
     "text": [
      "Default language for this instance: en\n"
     ]
    }
   ],
   "source": [
    "from os import getcwd, path\n",
    "import sys\n",
    "\n",
    "BASE_PATH = path.dirname(getcwd())\n",
    "sys.path.append(BASE_PATH)\n",
    "\n",
    "from config import START_TAG, STOP_TAG"
   ]
  },
  {
   "cell_type": "code",
   "execution_count": 2,
   "metadata": {},
   "outputs": [
    {
     "name": "stdout",
     "output_type": "stream",
     "text": [
      "/Users/2359media/Documents/botbot-nlp\n"
     ]
    }
   ],
   "source": [
    "print(BASE_PATH)"
   ]
  },
  {
   "cell_type": "markdown",
   "metadata": {},
   "source": [
    "The training data must be an array that:\n",
    "- Contains tuples of (sentence, tags)\n",
    "- Sentence will be splitted using nltk.wordpunct_tokenize\n",
    "- Tags will be splitted using .split() - hence spaces by default\n",
    "\n",
    "Each entity must be separated into 3 kinds of tag: B- (Begin), I- (Inside) and O- (Outside)\n",
    "\n",
    "_This is to help with separation in the case of consecutive entities_\n",
    "\n",
    "A `dictionary` to translate from these tags into consecutive indices must be defined\n",
    "This dictionary will contain:\n",
    "- The empty token\n",
    "- `START_TAG` and `END_TAG` tokens (imported from global configs - used internally to indicate start and end of sentence)\n",
    "- Entities B-, I-, O- tokens\n",
    "\n",
    "**Sample training data for email recognition:**"
   ]
  },
  {
   "cell_type": "code",
   "execution_count": 3,
   "metadata": {},
   "outputs": [],
   "source": [
    "# training_data = [('hi thanh', '- - B-name'), ('hello duc, how are you?', '- - B-name - - - - - - - -')]\n",
    "\n",
    "# tag_to_ix = {'-': 0, '<START>': 1, '<STOP>': 2, 'B-name': 3, 'I-name': 4}\n",
    "\n",
    "training_data = [(\n",
    "    'My email address is at luungoc2005@gmail.com.',\n",
    "    '- - - - - - - - - - B-EMAIL I-EMAIL I-EMAIL I-EMAIL I-EMAIL I-EMAIL -'\n",
    "), (\n",
    "    'Contact me at contact@2359media.net.',\n",
    "    '- - - - - - B-EMAIL I-EMAIL I-EMAIL I-EMAIL I-EMAIL I-EMAIL -'\n",
    "), (\n",
    "    'test.email@microsoft.com is a testing email address',\n",
    "    'B-EMAIL I-EMAIL I-EMAIL I-EMAIL I-EMAIL I-EMAIL I-EMAIL - - - - - - - - - -'\n",
    "), (\n",
    "    'Any inquiries email thesloth_197@gmail.com for assistance',\n",
    "    '- - - - - - B-EMAIL I-EMAIL I-EMAIL I-EMAIL I-EMAIL I-EMAIL I-EMAIL - - - -'\n",
    "), (\n",
    "    'Email addresses include test.noreply@gmail.com hello.vietnam@hallo.org contact@rocket.net',\n",
    "    '- - - - - - B-EMAIL I-EMAIL I-EMAIL I-EMAIL I-EMAIL I-EMAIL I-EMAIL - B-EMAIL I-EMAIL I-EMAIL I-EMAIL I-EMAIL I-EMAIL I-EMAIL - B-EMAIL I-EMAIL I-EMAIL I-EMAIL I-EMAIL'\n",
    "), (\n",
    "    'Contact: tester@github.com at any hours',\n",
    "    '- - - B-EMAIL I-EMAIL I-EMAIL I-EMAIL I-EMAIL - - - - - -'\n",
    ")]\n",
    "\n",
    "tag_to_ix = {\n",
    "    '-': 1, # O tag but using '-' for readability\n",
    "    'B-EMAIL': 2,\n",
    "    'I-EMAIL': 3,\n",
    "}"
   ]
  },
  {
   "cell_type": "code",
   "execution_count": 4,
   "metadata": {},
   "outputs": [],
   "source": [
    "from entities_recognition.transformer.model import TransformerSequenceTaggerWrapper\n",
    "from entities_recognition.transformer.train import TransformerSequenceTaggerLearner\n",
    "from entities_recognition.transformer.data import TransformerEntitiesRecognitionDataset\n",
    "from common.callbacks import PrintLoggerCallback, EarlyStoppingCallback, ReduceLROnPlateau\n",
    "from common.modules import BertAdam\n",
    "\n",
    "n_epochs = 500\n",
    "batch_size = 4\n",
    "model = TransformerSequenceTaggerWrapper({'tag_to_ix': tag_to_ix})\n",
    "learner = TransformerSequenceTaggerLearner(model, \n",
    "    optimizer_fn=BertAdam,\n",
    "    optimizer_kwargs={\n",
    "        'lr': 1e-4,\n",
    "        'warmup': .1, \n",
    "        't_total': n_epochs * (len(training_data) // batch_size)\n",
    "    }\n",
    ")\n",
    "training_data = TransformerEntitiesRecognitionDataset(training_data, tag_to_ix)"
   ]
  },
  {
   "cell_type": "code",
   "execution_count": 5,
   "metadata": {},
   "outputs": [
    {
     "name": "stdout",
     "output_type": "stream",
     "text": [
      "Word vectors data exists for the following languages: en, en_elmo, vi\n",
      "0m 3s (- 6m 1s) (5 1%) - loss: 21.8958 - accuracy: 0.3287\n",
      "0m 6s (- 4m 57s) (10 2%) - loss: 16.6184 - accuracy: 0.3418\n",
      "0m 8s (- 4m 25s) (15 3%) - loss: 13.5118 - accuracy: 0.4052\n",
      "0m 10s (- 4m 5s) (20 4%) - loss: 8.3136 - accuracy: 0.6378\n",
      "0m 12s (- 3m 56s) (25 5%) - loss: 7.0325 - accuracy: 0.6471\n",
      "0m 16s (- 4m 13s) (30 6%) - loss: 6.5257 - accuracy: 0.6187\n",
      "0m 19s (- 4m 18s) (35 7%) - loss: 5.9569 - accuracy: 0.5406\n",
      "0m 21s (- 4m 12s) (40 8%) - loss: 4.5557 - accuracy: 0.5305\n",
      "0m 24s (- 4m 6s) (45 9%) - loss: 4.1863 - accuracy: 0.6242\n",
      "0m 26s (- 3m 59s) (50 10%) - loss: 3.7140 - accuracy: 0.6481\n",
      "0m 28s (- 3m 50s) (55 11%) - loss: 0.9362 - accuracy: 0.7004\n",
      "0m 30s (- 3m 43s) (60 12%) - loss: 3.5254 - accuracy: 0.5112\n",
      "0m 32s (- 3m 35s) (65 13%) - loss: 0.6173 - accuracy: 0.7004\n",
      "0m 33s (- 3m 28s) (70 14%) - loss: 1.4790 - accuracy: 0.6566\n",
      "0m 35s (- 3m 22s) (75 15%) - loss: 1.5057 - accuracy: 0.5948\n",
      "0m 37s (- 3m 15s) (80 16%) - loss: 0.0645 - accuracy: 0.5444\n",
      "0m 38s (- 3m 10s) (85 17%) - loss: 1.8595 - accuracy: 0.6269\n",
      "0m 40s (- 3m 4s) (90 18%) - loss: 0.0284 - accuracy: 0.5351\n",
      "0m 42s (- 2m 59s) (95 19%) - loss: 2.5383 - accuracy: 0.5259\n",
      "0m 43s (- 2m 55s) (100 20%) - loss: 15.8698 - accuracy: 0.3803\n",
      "0m 45s (- 2m 51s) (105 21%) - loss: 1.4327 - accuracy: 0.4717\n",
      "0m 47s (- 2m 47s) (110 22%) - loss: 11.6136 - accuracy: 0.4034\n",
      "0m 49s (- 2m 44s) (115 23%) - loss: 3.5115 - accuracy: 0.5599\n",
      "0m 50s (- 2m 40s) (120 24%) - loss: 0.3792 - accuracy: 0.6269\n",
      "0m 52s (- 2m 37s) (125 25%) - loss: -0.1724 - accuracy: 0.5536\n",
      "0m 54s (- 2m 33s) (130 26%) - loss: 1.7734 - accuracy: 0.4276\n",
      "0m 55s (- 2m 30s) (135 27%) - loss: 8.1751 - accuracy: 0.4530\n",
      "0m 57s (- 2m 26s) (140 28%) - loss: -1.1582 - accuracy: 0.5621\n",
      "0m 58s (- 2m 23s) (145 28%) - loss: -0.0738 - accuracy: 0.5297\n",
      "1m 0s (- 2m 20s) (150 30%) - loss: -0.0172 - accuracy: 0.6288\n",
      "1m 1s (- 2m 17s) (155 31%) - loss: 1.0928 - accuracy: 0.6040\n",
      "1m 3s (- 2m 14s) (160 32%) - loss: 0.6368 - accuracy: 0.4670\n",
      "1m 5s (- 2m 12s) (165 33%) - loss: -0.3326 - accuracy: 0.6435\n",
      "1m 6s (- 2m 9s) (170 34%) - loss: -1.4252 - accuracy: 0.5212\n",
      "1m 8s (- 2m 7s) (175 35%) - loss: -1.7567 - accuracy: 0.5645\n",
      "1m 10s (- 2m 4s) (180 36%) - loss: 10.7663 - accuracy: 0.3717\n",
      "1m 11s (- 2m 2s) (185 37%) - loss: -0.4009 - accuracy: 0.4570\n",
      "1m 13s (- 1m 59s) (190 38%) - loss: 0.0832 - accuracy: 0.6307\n",
      "Best monitor value `loss` == -0.695396 reached. Early stopping\n"
     ]
    }
   ],
   "source": [
    "learner.fit(\n",
    "    training_data=training_data,\n",
    "    epochs=n_epochs,\n",
    "    batch_size=4,\n",
    "    callbacks=[\n",
    "        PrintLoggerCallback(log_every=5),\n",
    "#         ReduceLROnPlateau(reduce_factor=4, patience=10)\n",
    "        EarlyStoppingCallback(patience=50)\n",
    "    ]\n",
    ")"
   ]
  },
  {
   "cell_type": "code",
   "execution_count": 6,
   "metadata": {
    "scrolled": true
   },
   "outputs": [
    {
     "data": {
      "text/plain": [
       "[[{'name': 'EMAIL', 'values': ['2005', 'yahoo', 'com']}]]"
      ]
     },
     "execution_count": 6,
     "metadata": {},
     "output_type": "execute_result"
    }
   ],
   "source": [
    "from common.utils import wordpunct_space_tokenize\n",
    "# model([wordpunct_space_tokenize('test.email@microsoft.com is a testing email address')])\n",
    "# model([wordpunct_space_tokenize('Any inquiries email thesloth_197@gmail.com for assistance')])\n",
    "model([wordpunct_space_tokenize('My first email address is actually luungoc2005@yahoo.com')])"
   ]
  },
  {
   "cell_type": "markdown",
   "metadata": {},
   "source": [
    "Evaluate model accuracy by using"
   ]
  },
  {
   "cell_type": "code",
   "execution_count": null,
   "metadata": {},
   "outputs": [],
   "source": []
  }
 ],
 "metadata": {
  "kernelspec": {
   "display_name": "Python 3",
   "language": "python",
   "name": "python3"
  },
  "language_info": {
   "codemirror_mode": {
    "name": "ipython",
    "version": 3
   },
   "file_extension": ".py",
   "mimetype": "text/x-python",
   "name": "python",
   "nbconvert_exporter": "python",
   "pygments_lexer": "ipython3",
   "version": "3.6.8"
  }
 },
 "nbformat": 4,
 "nbformat_minor": 2
}
