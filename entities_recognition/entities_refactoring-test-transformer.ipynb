{
 "cells": [
  {
   "cell_type": "markdown",
   "metadata": {},
   "source": [
    "# Training an entities recognition model\n",
    "\n",
    "Importing the required code files"
   ]
  },
  {
   "cell_type": "code",
   "execution_count": 1,
   "metadata": {},
   "outputs": [],
   "source": [
    "from os import getcwd, path\n",
    "import sys\n",
    "\n",
    "BASE_PATH = path.dirname(getcwd())\n",
    "sys.path.append(BASE_PATH)\n",
    "\n",
    "from config import START_TAG, STOP_TAG"
   ]
  },
  {
   "cell_type": "code",
   "execution_count": 2,
   "metadata": {},
   "outputs": [
    {
     "name": "stdout",
     "output_type": "stream",
     "text": [
      "/Users/2359media/Documents/botbot-nlp\n"
     ]
    }
   ],
   "source": [
    "print(BASE_PATH)"
   ]
  },
  {
   "cell_type": "markdown",
   "metadata": {},
   "source": [
    "The training data must be an array that:\n",
    "- Contains tuples of (sentence, tags)\n",
    "- Sentence will be splitted using nltk.wordpunct_tokenize\n",
    "- Tags will be splitted using .split() - hence spaces by default\n",
    "\n",
    "Each entity must be separated into 3 kinds of tag: B- (Begin), I- (Inside) and O- (Outside)\n",
    "\n",
    "_This is to help with separation in the case of consecutive entities_\n",
    "\n",
    "A `dictionary` to translate from these tags into consecutive indices must be defined\n",
    "This dictionary will contain:\n",
    "- The empty token\n",
    "- `START_TAG` and `END_TAG` tokens (imported from global configs - used internally to indicate start and end of sentence)\n",
    "- Entities B-, I-, O- tokens\n",
    "\n",
    "**Sample training data for email recognition:**"
   ]
  },
  {
   "cell_type": "code",
   "execution_count": 3,
   "metadata": {},
   "outputs": [],
   "source": [
    "# training_data = [('hi thanh', '- - B-name'), ('hello duc, how are you?', '- - B-name - - - - - - - -')]\n",
    "\n",
    "# tag_to_ix = {'-': 0, '<START>': 1, '<STOP>': 2, 'B-name': 3, 'I-name': 4}\n",
    "\n",
    "training_data = [(\n",
    "    'My email address is at luungoc2005@gmail.com.',\n",
    "    '- - - - - - - - - - B-EMAIL I-EMAIL I-EMAIL I-EMAIL I-EMAIL I-EMAIL -'\n",
    "), (\n",
    "    'Contact me at contact@2359media.net.',\n",
    "    '- - - - - - B-EMAIL I-EMAIL I-EMAIL I-EMAIL I-EMAIL I-EMAIL -'\n",
    "), (\n",
    "    'test.email@microsoft.com is a testing email address',\n",
    "    'B-EMAIL I-EMAIL I-EMAIL I-EMAIL I-EMAIL I-EMAIL I-EMAIL - - - - - - - - - -'\n",
    "), (\n",
    "    'Any inquiries email thesloth_197@gmail.com for assistance',\n",
    "    '- - - - - - B-EMAIL I-EMAIL I-EMAIL I-EMAIL I-EMAIL I-EMAIL I-EMAIL - - - -'\n",
    "), (\n",
    "    'Email addresses include test.noreply@gmail.com hello.vietnam@hallo.org contact@rocket.net',\n",
    "    '- - - - - - B-EMAIL I-EMAIL I-EMAIL I-EMAIL I-EMAIL I-EMAIL I-EMAIL - B-EMAIL I-EMAIL I-EMAIL I-EMAIL I-EMAIL I-EMAIL I-EMAIL - B-EMAIL I-EMAIL I-EMAIL I-EMAIL I-EMAIL'\n",
    "), (\n",
    "    'Contact: tester@github.com at any hours',\n",
    "    '- - - B-EMAIL I-EMAIL I-EMAIL I-EMAIL I-EMAIL - - - - - -'\n",
    ")]\n",
    "\n",
    "tag_to_ix = {\n",
    "    '-': 1, # O tag but using '-' for readability\n",
    "    'B-EMAIL': 2,\n",
    "    'I-EMAIL': 3,\n",
    "}"
   ]
  },
  {
   "cell_type": "code",
   "execution_count": 4,
   "metadata": {},
   "outputs": [],
   "source": [
    "from entities_recognition.transformer.model import TransformerSequenceTaggerWrapper\n",
    "from entities_recognition.transformer.train import TransformerSequenceTaggerLearner\n",
    "from entities_recognition.transformer.data import TransformerEntitiesRecognitionDataset\n",
    "from common.callbacks import PrintLoggerCallback, EarlyStoppingCallback, ReduceLROnPlateau\n",
    "from common.modules import BertAdam\n",
    "\n",
    "model = TransformerSequenceTaggerWrapper({'tag_to_ix': tag_to_ix})\n",
    "learner = TransformerSequenceTaggerLearner(model)\n",
    "training_data = TransformerEntitiesRecognitionDataset(training_data, tag_to_ix)"
   ]
  },
  {
   "cell_type": "code",
   "execution_count": 5,
   "metadata": {},
   "outputs": [
    {
     "name": "stdout",
     "output_type": "stream",
     "text": [
      "0m 3s (- 5m 0s) (5 1%) - loss: 6.6717 - accuracy: 0.7095\n",
      "0m 4s (- 3m 56s) (10 2%) - loss: 9.3869 - accuracy: 0.6569\n",
      "0m 6s (- 3m 26s) (15 3%) - loss: 5.3104 - accuracy: 0.7583\n",
      "0m 7s (- 3m 10s) (20 4%) - loss: 3.1559 - accuracy: 0.7415\n",
      "0m 9s (- 2m 59s) (25 5%) - loss: 1.5279 - accuracy: 0.6852\n",
      "0m 10s (- 2m 51s) (30 6%) - loss: -0.6603 - accuracy: 0.7611\n",
      "0m 12s (- 2m 44s) (35 7%) - loss: 2.9143 - accuracy: 0.6939\n",
      "0m 13s (- 2m 38s) (40 8%) - loss: 1.8788 - accuracy: 0.6950\n",
      "Monitor value plateaued at `loss` == 1.878804. Applying new learning rate: 0.001000 -> 0.000250\n",
      "0m 15s (- 2m 34s) (45 9%) - loss: 4.3126 - accuracy: 0.7381\n",
      "0m 16s (- 2m 29s) (50 10%) - loss: 0.3009 - accuracy: 0.6728\n",
      "0m 18s (- 2m 26s) (55 11%) - loss: 3.4660 - accuracy: 0.6966\n",
      "0m 19s (- 2m 23s) (60 12%) - loss: -0.9092 - accuracy: 0.7611\n",
      "0m 21s (- 2m 21s) (65 13%) - loss: -0.7478 - accuracy: 0.7807\n",
      "0m 22s (- 2m 19s) (70 14%) - loss: -0.1688 - accuracy: 0.8280\n",
      "Monitor value plateaued at `loss` == -0.968981. Applying new learning rate: 0.000250 -> 0.000063\n",
      "0m 24s (- 2m 16s) (75 15%) - loss: -1.3437 - accuracy: 0.7317\n",
      "0m 25s (- 2m 14s) (80 16%) - loss: -1.3897 - accuracy: 0.7709\n",
      "0m 27s (- 2m 12s) (85 17%) - loss: -1.4960 - accuracy: 0.7513\n",
      "0m 28s (- 2m 10s) (90 18%) - loss: -1.3211 - accuracy: 0.7048\n",
      "0m 30s (- 2m 8s) (95 19%) - loss: -1.4835 - accuracy: 0.7611\n",
      "0m 31s (- 2m 6s) (100 20%) - loss: -1.7332 - accuracy: 0.7146\n",
      "0m 33s (- 2m 4s) (105 21%) - loss: -1.2291 - accuracy: 0.7023\n",
      "0m 34s (- 2m 2s) (110 22%) - loss: -1.8422 - accuracy: 0.7023\n",
      "0m 35s (- 2m 0s) (115 23%) - loss: -2.1191 - accuracy: 0.7023\n",
      "0m 37s (- 1m 58s) (120 24%) - loss: -1.5992 - accuracy: 0.7611\n",
      "0m 38s (- 1m 56s) (125 25%) - loss: -2.0099 - accuracy: 0.7611\n",
      "Monitor value plateaued at `loss` == -1.840409. Applying new learning rate: 0.000063 -> 0.000016\n",
      "0m 40s (- 1m 54s) (130 26%) - loss: -1.6094 - accuracy: 0.7023\n",
      "0m 41s (- 1m 52s) (135 27%) - loss: 3.3199 - accuracy: 0.7090\n",
      "Monitor value plateaued at `loss` == -1.730182. Applying new learning rate: 0.000016 -> 0.000004\n",
      "0m 43s (- 1m 50s) (140 28%) - loss: -2.3426 - accuracy: 0.7023\n",
      "0m 44s (- 1m 48s) (145 28%) - loss: -1.4316 - accuracy: 0.7023\n",
      "0m 45s (- 1m 47s) (150 30%) - loss: 3.0782 - accuracy: 0.6847\n",
      "Minimum learning rate reached. Early stopping\n"
     ]
    }
   ],
   "source": [
    "learner.fit(\n",
    "    training_data=training_data,\n",
    "    epochs=500,\n",
    "    batch_size=2,\n",
    "    callbacks=[\n",
    "        PrintLoggerCallback(log_every=5),\n",
    "        ReduceLROnPlateau(reduce_factor=4, patience=10)\n",
    "#         EarlyStoppingCallback()\n",
    "    ]\n",
    ")"
   ]
  },
  {
   "cell_type": "code",
   "execution_count": 18,
   "metadata": {
    "scrolled": true
   },
   "outputs": [
    {
     "data": {
      "text/plain": [
       "[[{'name': 'EMAIL', 'values': ['luungoc2005@yahoo', 'com']}]]"
      ]
     },
     "execution_count": 18,
     "metadata": {},
     "output_type": "execute_result"
    }
   ],
   "source": [
    "from common.utils import wordpunct_space_tokenize\n",
    "# model([wordpunct_space_tokenize('test.email@microsoft.com is a testing email address')])\n",
    "# model([wordpunct_space_tokenize('Any inquiries email thesloth_197@gmail.com for assistance')])\n",
    "model([wordpunct_space_tokenize('My first email address is actually luungoc2005@yahoo.com')])"
   ]
  },
  {
   "cell_type": "markdown",
   "metadata": {},
   "source": [
    "Evaluate model accuracy by using"
   ]
  },
  {
   "cell_type": "code",
   "execution_count": null,
   "metadata": {},
   "outputs": [],
   "source": []
  }
 ],
 "metadata": {
  "kernelspec": {
   "display_name": "Python 3",
   "language": "python",
   "name": "python3"
  },
  "language_info": {
   "codemirror_mode": {
    "name": "ipython",
    "version": 3
   },
   "file_extension": ".py",
   "mimetype": "text/x-python",
   "name": "python",
   "nbconvert_exporter": "python",
   "pygments_lexer": "ipython3",
   "version": "3.6.8"
  }
 },
 "nbformat": 4,
 "nbformat_minor": 2
}
