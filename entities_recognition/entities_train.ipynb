{
 "cells": [
  {
   "cell_type": "markdown",
   "metadata": {},
   "source": [
    "# Training an entities recognition model\n",
    "\n",
    "Importing the required code files"
   ]
  },
  {
   "cell_type": "code",
   "execution_count": 1,
   "metadata": {},
   "outputs": [],
   "source": [
    "from os import getcwd, path\n",
    "import sys\n",
    "import matplotlib.pyplot as plt\n",
    "\n",
    "BASE_PATH = path.dirname(getcwd())\n",
    "sys.path.append(BASE_PATH)\n",
    "\n",
    "from entities_recognition.bilstm.train import trainIters, evaluate_all\n",
    "from config import START_TAG, STOP_TAG"
   ]
  },
  {
   "cell_type": "code",
   "execution_count": 2,
   "metadata": {},
   "outputs": [
    {
     "name": "stdout",
     "output_type": "stream",
     "text": [
      "/Users/2359media/Documents/botbot-nlp\n"
     ]
    }
   ],
   "source": [
    "print(BASE_PATH)"
   ]
  },
  {
   "cell_type": "markdown",
   "metadata": {},
   "source": [
    "The training data must be an array that:\n",
    "- Contains tuples of (sentence, tags)\n",
    "- Sentence will be splitted using nltk.wordpunct_tokenize\n",
    "- Tags will be splitted using .split() - hence spaces by default\n",
    "\n",
    "Each entity must be separated into 3 kinds of tag: B- (Begin), I- (Inside) and O- (Outside)\n",
    "\n",
    "_This is to help with separation in the case of consecutive entities_\n",
    "\n",
    "A `dictionary` to translate from these tags into consecutive indices must be defined\n",
    "This dictionary will contain:\n",
    "- The empty token\n",
    "- `START_TAG` and `END_TAG` tokens (imported from global configs - used internally to indicate start and end of sentence)\n",
    "- Entities B-, I-, O- tokens\n",
    "\n",
    "**Sample training data for email recognition:**"
   ]
  },
  {
   "cell_type": "code",
   "execution_count": 3,
   "metadata": {},
   "outputs": [],
   "source": [
    "training_data = [(\n",
    "    'My email address is at luungoc2005@gmail.com.',\n",
    "    '- - - - - - - - - - B-EMAIL I-EMAIL I-EMAIL I-EMAIL I-EMAIL I-EMAIL -'\n",
    "), (\n",
    "    'Contact me at contact@2359media.net.',\n",
    "    '- - - - - - B-EMAIL I-EMAIL I-EMAIL I-EMAIL I-EMAIL I-EMAIL -'\n",
    "), (\n",
    "    'test.email@microsoft.com is a testing email address',\n",
    "    'B-EMAIL I-EMAIL I-EMAIL I-EMAIL I-EMAIL I-EMAIL I-EMAIL - - - - - - - - - -'\n",
    "), (\n",
    "    'Any inquiries email thesloth_197@gmail.com for assistance',\n",
    "    '- - - - - - B-EMAIL I-EMAIL I-EMAIL I-EMAIL I-EMAIL I-EMAIL I-EMAIL - - - -'\n",
    "), (\n",
    "    'Email addresses include test.noreply@gmail.com hello.vietnam@hallo.org contact@rocket.net',\n",
    "    '- - - - - - B-EMAIL I-EMAIL I-EMAIL I-EMAIL I-EMAIL I-EMAIL I-EMAIL - B-EMAIL I-EMAIL I-EMAIL I-EMAIL I-EMAIL I-EMAIL I-EMAIL - B-EMAIL I-EMAIL I-EMAIL I-EMAIL I-EMAIL'\n",
    "), (\n",
    "    'Contact: tester@github.com at any hours',\n",
    "    '- - - B-EMAIL I-EMAIL I-EMAIL I-EMAIL I-EMAIL - - - - - -'\n",
    ")]\n",
    "\n",
    "tag_to_ix = {\n",
    "    '-': 0, # O tag but using '-' for readability\n",
    "    'B-EMAIL': 1,\n",
    "    'I-EMAIL': 2,\n",
    "    START_TAG: 3,\n",
    "    STOP_TAG: 4\n",
    "}"
   ]
  },
  {
   "cell_type": "code",
   "execution_count": 4,
   "metadata": {},
   "outputs": [
    {
     "name": "stdout",
     "output_type": "stream",
     "text": [
      "{'EMAIL': ['luungoc2005@gmail.com']}\n",
      "{'EMAIL': ['contact@2359media.net']}\n",
      "{'EMAIL': ['test.email@microsoft.com']}\n",
      "{'EMAIL': ['thesloth_197@gmail.com']}\n",
      "{'EMAIL': ['test.noreply@gmail.com', 'hello.vietnam@hallo.org', 'contact@rocket.net']}\n",
      "{'EMAIL': ['tester@github.com']}\n"
     ]
    }
   ],
   "source": [
    "from entities_recognition.bilstm.predict import read_tags\n",
    "from common.utils import wordpunct_space_tokenize\n",
    "\n",
    "result = []\n",
    "for sentence, tag_seq in training_data:\n",
    "    tokens_in = wordpunct_space_tokenize(sentence)\n",
    "    assert len(tokens_in) == len(tag_seq.split(' '))\n",
    "    print(read_tags(tokens_in, tag_seq.split(' ')))"
   ]
  },
  {
   "cell_type": "markdown",
   "metadata": {},
   "source": [
    "Begin training the network\n",
    "Logs will be saved into `entities_recognition/bilstm/logs` by default\n",
    "\n",
    "Run `tensorboard --logdir=entities_recognition/bilstm/logs` from the root directory for training logs\n",
    "\n",
    "Verbosity:\n",
    "- `verbose = 0` for almost no console output\n",
    "- `verbose = 1` will only log on `log_every` (10 epochs by default)\n",
    "- `verbose = 2` (default) will use tqdm for both loops\n",
    "\n",
    "In this case ~50 epochs should be sufficient (found by trial and error)"
   ]
  },
  {
   "cell_type": "code",
   "execution_count": 5,
   "metadata": {},
   "outputs": [
    {
     "name": "stdout",
     "output_type": "stream",
     "text": [
      "Importing /Users/2359media/Documents/botbot-nlp/data/fasttext/crawl-300d-2M.vec...\n",
      "0m 13s (- 2m 0s) (5 10%) 73.1881\n",
      "0m 19s (- 1m 16s) (10 20%) 11.2048\n",
      "0m 24s (- 0m 56s) (15 30%) 6.1995\n",
      "0m 29s (- 0m 44s) (20 40%) 3.2867\n",
      "0m 34s (- 0m 34s) (25 50%) 1.3743\n",
      "0m 39s (- 0m 26s) (30 60%) 0.8733\n",
      "0m 46s (- 0m 19s) (35 70%) 0.5973\n",
      "0m 51s (- 0m 12s) (40 80%) 0.4797\n",
      "0m 56s (- 0m 6s) (45 90%) 0.3373\n",
      "1m 1s (- 0m 0s) (50 100%) 0.2489\n"
     ]
    }
   ],
   "source": [
    "losses, model = trainIters(training_data, \n",
    "                           tag_to_ix,\n",
    "                           learning_rate=1e-3,\n",
    "                           n_iters=50, \n",
    "                           log_every=5,\n",
    "                           verbose=1)"
   ]
  },
  {
   "cell_type": "code",
   "execution_count": 6,
   "metadata": {
    "scrolled": true
   },
   "outputs": [
    {
     "data": {
      "text/plain": [
       "[<matplotlib.lines.Line2D at 0x1a1e6b4ba8>]"
      ]
     },
     "execution_count": 6,
     "metadata": {},
     "output_type": "execute_result"
    },
    {
     "data": {
      "text/plain": [
       "<matplotlib.figure.Figure at 0x1a1d88f278>"
      ]
     },
     "metadata": {},
     "output_type": "display_data"
    },
    {
     "data": {
      "image/png": "[encoded data removed]",
      "text/plain": [
       "<matplotlib.figure.Figure at 0x1a1d88f668>"
      ]
     },
     "metadata": {},
     "output_type": "display_data"
    }
   ],
   "source": [
    "import matplotlib.pyplot as plt\n",
    "import matplotlib.ticker as ticker\n",
    "\n",
    "plt.figure()\n",
    "fig, ax = plt.subplots()\n",
    "loc = ticker.MultipleLocator(base=25)\n",
    "ax.yaxis.set_major_locator(loc)\n",
    "plt.plot(losses)"
   ]
  },
  {
   "cell_type": "markdown",
   "metadata": {},
   "source": [
    "Evaluate model accuracy by using"
   ]
  },
  {
   "cell_type": "code",
   "execution_count": 7,
   "metadata": {},
   "outputs": [
    {
     "data": {
      "text/plain": [
       "1.0"
      ]
     },
     "execution_count": 7,
     "metadata": {},
     "output_type": "execute_result"
    }
   ],
   "source": [
    "evaluate_all(model, training_data, tag_to_ix)"
   ]
  }
 ],
 "metadata": {
  "kernelspec": {
   "display_name": "Python 3",
   "language": "python",
   "name": "python3"
  },
  "language_info": {
   "codemirror_mode": {
    "name": "ipython",
    "version": 3
   },
   "file_extension": ".py",
   "mimetype": "text/x-python",
   "name": "python",
   "nbconvert_exporter": "python",
   "pygments_lexer": "ipython3",
   "version": "3.6.4"
  }
 },
 "nbformat": 4,
 "nbformat_minor": 2
}
