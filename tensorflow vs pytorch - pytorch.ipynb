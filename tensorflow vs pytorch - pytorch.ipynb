{
 "cells": [
  {
   "cell_type": "code",
   "execution_count": 1,
   "metadata": {},
   "outputs": [],
   "source": [
    "from os import path, listdir\n",
    "import glob\n",
    "DATA_PATH = 'data/fb_test/names'"
   ]
  },
  {
   "cell_type": "code",
   "execution_count": 2,
   "metadata": {},
   "outputs": [],
   "source": [
    "import unicodedata\n",
    "import string\n",
    "\n",
    "all_letters = string.ascii_letters + \" .,;'\"\n",
    "n_letters = len(all_letters)\n",
    "\n",
    "# Turn a Unicode string to plain ASCII, thanks to https://stackoverflow.com/a/518232/2809427\n",
    "def unicodeToAscii(s):\n",
    "    return ''.join(\n",
    "        c for c in unicodedata.normalize('NFD', s)\n",
    "        if unicodedata.category(c) != 'Mn'\n",
    "        and c in all_letters\n",
    "    )\n",
    "\n",
    "def readLines(filename):\n",
    "    lines = open(filename, encoding='utf-8').read().strip().split('\\n')\n",
    "    return [unicodeToAscii(line) for line in lines]"
   ]
  },
  {
   "cell_type": "code",
   "execution_count": 3,
   "metadata": {},
   "outputs": [],
   "source": [
    "category_lines = {}\n",
    "all_categories = []\n",
    "\n",
    "for filename in listdir(DATA_PATH):\n",
    "    full_path = path.join(DATA_PATH, filename)\n",
    "    category = path.splitext(path.basename(filename))[0]\n",
    "    all_categories.append(category)\n",
    "    lines = readLines(full_path)\n",
    "    category_lines[category] = lines\n",
    "\n",
    "n_categories = len(all_categories)"
   ]
  },
  {
   "cell_type": "code",
   "execution_count": 4,
   "metadata": {},
   "outputs": [],
   "source": [
    "import numpy as np\n",
    "\n",
    "def letterToIndex(letter):\n",
    "    return all_letters.find(letter) + 1\n",
    "\n",
    "def lineToTensor(line):\n",
    "    tensor = np.zeros((len(line)))\n",
    "    for li, letter in enumerate(line):\n",
    "        tensor[li] = letterToIndex(letter)\n",
    "    return tensor\n",
    "\n",
    "def batchify(lines):\n",
    "    seq_lens = [len(line) for line in lines]\n",
    "    max_len = max(seq_lens)\n",
    "    tensor = np.zeros((len(lines), max_len))\n",
    "    for ix, line in enumerate(lines):\n",
    "        line_tensor = lineToTensor(line)\n",
    "        tensor[ix,:len(line_tensor)] = line_tensor\n",
    "    return tensor, seq_lens"
   ]
  },
  {
   "cell_type": "code",
   "execution_count": 5,
   "metadata": {},
   "outputs": [],
   "source": [
    "import time\n",
    "import math\n",
    "\n",
    "def timeSince(since):\n",
    "    now = time.time()\n",
    "    s = now - since\n",
    "    m = math.floor(s / 60)\n",
    "    s -= m * 60\n",
    "    return '%dm %ds' % (m, s)"
   ]
  },
  {
   "cell_type": "code",
   "execution_count": 6,
   "metadata": {},
   "outputs": [],
   "source": [
    "X_train = []\n",
    "y_train = []\n",
    "\n",
    "for category in category_lines:\n",
    "    X_train.extend(category_lines[category])\n",
    "    y_train.extend([all_categories.index(category)] * len(category_lines[category]))\n",
    "\n",
    "import random\n",
    "shuffle_idx = list(range(len(X_train)))\n",
    "random.shuffle(shuffle_idx)\n",
    "X_train = [X_train[idx] for idx in shuffle_idx]\n",
    "y_train = [y_train[idx] for idx in shuffle_idx]"
   ]
  },
  {
   "cell_type": "markdown",
   "metadata": {},
   "source": [
    "Some training conditions"
   ]
  },
  {
   "cell_type": "code",
   "execution_count": 7,
   "metadata": {},
   "outputs": [],
   "source": [
    "batch_size = 64\n",
    "\n",
    "n_iters = 100\n",
    "print_every = 5\n",
    "plot_every = 1"
   ]
  },
  {
   "cell_type": "markdown",
   "metadata": {},
   "source": [
    "# RNN Text classifier, Pytorch"
   ]
  },
  {
   "cell_type": "code",
   "execution_count": 8,
   "metadata": {},
   "outputs": [
    {
     "name": "stdout",
     "output_type": "stream",
     "text": [
      "1.0.0.dev20190209\n"
     ]
    }
   ],
   "source": [
    "import torch\n",
    "import torch.nn as nn\n",
    "import torch.optim as optim\n",
    "from torch.nn.utils.rnn import pack_padded_sequence, pad_packed_sequence\n",
    "\n",
    "print(torch.__version__)"
   ]
  },
  {
   "cell_type": "code",
   "execution_count": 9,
   "metadata": {},
   "outputs": [],
   "source": [
    "class TorchRNNClassifier(nn.Module):\n",
    "    def __init__(self, hidden_size, output_size):\n",
    "        super(TorchRNNClassifier, self).__init__()\n",
    "        \n",
    "        self.embedding = nn.Embedding(n_letters + 1, hidden_size)\n",
    "        self.dropout = nn.Dropout(.2)\n",
    "        self.rnn = nn.GRU(hidden_size, hidden_size, batch_first=True)\n",
    "        self.linear = nn.Linear(hidden_size, output_size)\n",
    "        \n",
    "    def forward(self, input, seq_lens):\n",
    "        emb = self.embedding(input)\n",
    "        emb = self.dropout(emb)\n",
    "        emb = pack_padded_sequence(emb, seq_lens, batch_first=True, enforce_sorted=False)\n",
    "        output = self.rnn(emb)[0]\n",
    "        output = pad_packed_sequence(output, batch_first=True)[0]\n",
    "        output = torch.max(output, 1)[0].squeeze(1)\n",
    "        output = self.linear(output)\n",
    "        \n",
    "        return output"
   ]
  },
  {
   "cell_type": "code",
   "execution_count": 10,
   "metadata": {},
   "outputs": [],
   "source": [
    "model_pytorch = TorchRNNClassifier(64, n_categories)"
   ]
  },
  {
   "cell_type": "code",
   "execution_count": 11,
   "metadata": {},
   "outputs": [],
   "source": [
    "# batch, seq_lens = batchify(['Ngoc', 'James'])\n",
    "# batch = torch.LongTensor(batch)\n",
    "# print(model_pytorch(batch, seq_lens).size())\n",
    "# print(model_pytorch(batch, seq_lens))"
   ]
  },
  {
   "cell_type": "code",
   "execution_count": 12,
   "metadata": {},
   "outputs": [],
   "source": [
    "criterion = nn.CrossEntropyLoss()\n",
    "\n",
    "def train_pytorch(model, optimizer, lines, categories):\n",
    "    model.zero_grad()\n",
    "\n",
    "    X_tensor, seq_lens = batchify(lines)\n",
    "    X_tensor = torch.LongTensor(X_tensor)\n",
    "    y_tensor = torch.LongTensor(categories)\n",
    "    \n",
    "    output = model(X_tensor, seq_lens)\n",
    "\n",
    "    loss = criterion(output, y_tensor)\n",
    "    loss.backward()\n",
    "    \n",
    "    optimizer.step()\n",
    "    \n",
    "    return output, loss.item()"
   ]
  },
  {
   "cell_type": "code",
   "execution_count": 13,
   "metadata": {},
   "outputs": [
    {
     "name": "stdout",
     "output_type": "stream",
     "text": [
      "5 5% (0m 32s) 277.0938 - accuracy: 0.74\n",
      "10 10% (1m 1s) 210.9891 - accuracy: 0.80\n",
      "15 15% (1m 31s) 180.9646 - accuracy: 0.82\n",
      "20 20% (2m 3s) 163.6553 - accuracy: 0.84\n",
      "25 25% (2m 31s) 151.1783 - accuracy: 0.85\n",
      "30 30% (2m 59s) 140.6731 - accuracy: 0.86\n",
      "35 35% (3m 31s) 133.0128 - accuracy: 0.87\n",
      "40 40% (4m 0s) 127.0053 - accuracy: 0.87\n",
      "45 45% (4m 29s) 121.0481 - accuracy: 0.88\n",
      "50 50% (4m 59s) 116.7010 - accuracy: 0.88\n",
      "55 55% (5m 31s) 112.4268 - accuracy: 0.88\n",
      "60 60% (6m 3s) 108.8677 - accuracy: 0.89\n",
      "65 65% (6m 36s) 105.0301 - accuracy: 0.89\n",
      "70 70% (7m 5s) 102.7741 - accuracy: 0.89\n",
      "75 75% (7m 36s) 101.0709 - accuracy: 0.90\n",
      "80 80% (8m 8s) 96.6039 - accuracy: 0.90\n",
      "85 85% (8m 40s) 95.6565 - accuracy: 0.90\n",
      "90 90% (9m 12s) 93.9829 - accuracy: 0.90\n",
      "95 95% (9m 43s) 90.7011 - accuracy: 0.91\n",
      "100 100% (10m 14s) 89.7329 - accuracy: 0.90\n"
     ]
    },
    {
     "data": {
      "text/plain": [
       "TorchRNNClassifier(\n",
       "  (embedding): Embedding(58, 64)\n",
       "  (dropout): Dropout(p=0.2)\n",
       "  (rnn): GRU(64, 64, batch_first=True)\n",
       "  (linear): Linear(in_features=64, out_features=18, bias=True)\n",
       ")"
      ]
     },
     "execution_count": 13,
     "metadata": {},
     "output_type": "execute_result"
    }
   ],
   "source": [
    "optimizer_pytorch = optim.Adam(model_pytorch.parameters())\n",
    "\n",
    "# Keep track of losses for plotting\n",
    "current_loss = 0\n",
    "all_losses = []\n",
    "\n",
    "start = time.time()\n",
    "\n",
    "for iter in range(1, n_iters + 1):\n",
    "    correct = 0\n",
    "    iter_loss = 0\n",
    "    \n",
    "    for start_idx in range(0, len(X_train), batch_size):\n",
    "        batch_len = min(len(X_train) - start_idx, batch_size)\n",
    "        train_lines = X_train[start_idx:start_idx + batch_len]\n",
    "        train_categories = y_train[start_idx:start_idx + batch_len]\n",
    "        \n",
    "        model_pytorch.train()\n",
    "        output, loss = train_pytorch(model_pytorch, optimizer_pytorch, train_lines, train_categories)\n",
    "        current_loss += loss\n",
    "        iter_loss += loss\n",
    "        \n",
    "        batch_correct = output.topk(1, dim=1)[1].squeeze(1) == torch.LongTensor(train_categories)\n",
    "        correct += batch_correct.float().sum()\n",
    "\n",
    "    # Print iter number, loss, name and guess\n",
    "    if iter % print_every == 0:\n",
    "        accuracy = correct / len(X_train)\n",
    "        print('%d %d%% (%s) %.4f - accuracy: %.2f' % (iter, iter / n_iters * 100, timeSince(start), iter_loss, accuracy))\n",
    "\n",
    "    # Add current loss avg to list of losses\n",
    "    if iter % plot_every == 0:\n",
    "        all_losses.append(current_loss / plot_every)\n",
    "        current_loss = 0\n",
    "        \n",
    "model_pytorch.eval()"
   ]
  },
  {
   "cell_type": "code",
   "execution_count": 14,
   "metadata": {},
   "outputs": [],
   "source": [
    "def predict(lines, n_predictions):\n",
    "    with torch.no_grad():\n",
    "        X_tensor, seq_lens = batchify(lines)\n",
    "        X_tensor = torch.LongTensor(X_tensor)\n",
    "        result = model_pytorch(X_tensor, seq_lens)\n",
    "        \n",
    "        topv, topi = result.topk(n_predictions, 1, True)\n",
    "        predictions = []\n",
    "        \n",
    "        for idx, input_line in enumerate(lines):\n",
    "            print('\\n> %s' % input_line)\n",
    "            \n",
    "            for i in range(n_predictions):\n",
    "                value = topv[idx][i].item()\n",
    "                category_index = topi[idx][i].item()\n",
    "                print('(%.2f) %s' % (value, all_categories[category_index]))\n",
    "                predictions.append([value, all_categories[category_index]])"
   ]
  },
  {
   "cell_type": "code",
   "execution_count": 15,
   "metadata": {},
   "outputs": [
    {
     "name": "stdout",
     "output_type": "stream",
     "text": [
      "\n",
      "> Dovesky\n",
      "(4.51) Russian\n",
      "(2.52) Czech\n",
      "(-2.26) English\n",
      "\n",
      "> Jackson\n",
      "(5.13) English\n",
      "(1.81) Scottish\n",
      "(-0.35) Russian\n",
      "\n",
      "> Ngoc\n",
      "(3.02) Vietnamese\n",
      "(0.97) English\n",
      "(0.77) Czech\n",
      "\n",
      "> Satoshi\n",
      "(12.42) Japanese\n",
      "(5.93) Arabic\n",
      "(0.08) Greek\n"
     ]
    }
   ],
   "source": [
    "predict(['Dovesky', 'Jackson', 'Ngoc', 'Satoshi'], 3)"
   ]
  }
 ],
 "metadata": {
  "kernelspec": {
   "display_name": "Python 3",
   "language": "python",
   "name": "python3"
  },
  "language_info": {
   "codemirror_mode": {
    "name": "ipython",
    "version": 3
   },
   "file_extension": ".py",
   "mimetype": "text/x-python",
   "name": "python",
   "nbconvert_exporter": "python",
   "pygments_lexer": "ipython3",
   "version": "3.6.7"
  }
 },
 "nbformat": 4,
 "nbformat_minor": 2
}
