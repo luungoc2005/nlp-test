{
 "cells": [
  {
   "cell_type": "markdown",
   "metadata": {},
   "source": [
    "Load the scripts for predicting using the ConvNet model"
   ]
  },
  {
   "cell_type": "code",
   "execution_count": null,
   "metadata": {},
   "outputs": [],
   "source": [
    "from os import getcwd, path\n",
    "import matplotlib.pyplot as plt\n",
    "import numpy as np\n",
    "\n",
    "BASE_PATH = getcwd()\n",
    "\n",
    "DATA_UTILS = path.join(BASE_PATH, 'data_utils.py')\n",
    "CONV_MODEL = path.join(BASE_PATH, 'convnet/predict.py')\n",
    "\n",
    "exec(open(DATA_UTILS).read())\n",
    "exec(open(CONV_MODEL).read())"
   ]
  },
  {
   "cell_type": "code",
   "execution_count": null,
   "metadata": {},
   "outputs": [],
   "source": [
    "MODEL_PATH = path.join(BASE_PATH, 'convnet/model/')\n",
    "TOKENIZER_PATH = path.join(BASE_PATH, 'convnet/model/tokenizer.pickle')\n",
    "CLASSES_PATH = path.join(BASE_PATH, 'convnet/model/classes.json')\n",
    "\n",
    "load_saved_model(MODEL_PATH, ignore_cache=True)\n",
    "load_tokenizer(TOKENIZER_PATH, ignore_cache=True)\n",
    "load_classes(CLASSES_PATH, ignore_cache=True)"
   ]
  },
  {
   "cell_type": "code",
   "execution_count": null,
   "metadata": {},
   "outputs": [],
   "source": [
    "run_predict('I like babies')"
   ]
  }
 ],
 "metadata": {
  "kernelspec": {
   "display_name": "Python 3",
   "language": "python",
   "name": "python3"
  },
  "language_info": {
   "codemirror_mode": {
    "name": "ipython",
    "version": 3
   },
   "file_extension": ".py",
   "mimetype": "text/x-python",
   "name": "python",
   "nbconvert_exporter": "python",
   "pygments_lexer": "ipython3",
   "version": "3.6.4"
  }
 },
 "nbformat": 4,
 "nbformat_minor": 2
}
