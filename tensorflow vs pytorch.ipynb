{
 "cells": [
  {
   "cell_type": "code",
   "execution_count": 1,
   "metadata": {},
   "outputs": [],
   "source": [
    "from os import path, listdir\n",
    "import glob\n",
    "DATA_PATH = 'data/fb_test/names'"
   ]
  },
  {
   "cell_type": "code",
   "execution_count": 2,
   "metadata": {},
   "outputs": [],
   "source": [
    "import unicodedata\n",
    "import string\n",
    "\n",
    "all_letters = string.ascii_letters + \" .,;'\"\n",
    "n_letters = len(all_letters)\n",
    "\n",
    "# Turn a Unicode string to plain ASCII, thanks to https://stackoverflow.com/a/518232/2809427\n",
    "def unicodeToAscii(s):\n",
    "    return ''.join(\n",
    "        c for c in unicodedata.normalize('NFD', s)\n",
    "        if unicodedata.category(c) != 'Mn'\n",
    "        and c in all_letters\n",
    "    )\n",
    "\n",
    "def readLines(filename):\n",
    "    lines = open(filename, encoding='utf-8').read().strip().split('\\n')\n",
    "    return [unicodeToAscii(line) for line in lines]"
   ]
  },
  {
   "cell_type": "code",
   "execution_count": 3,
   "metadata": {},
   "outputs": [],
   "source": [
    "category_lines = {}\n",
    "all_categories = []\n",
    "\n",
    "for filename in listdir(DATA_PATH):\n",
    "    full_path = path.join(DATA_PATH, filename)\n",
    "    category = path.splitext(path.basename(filename))[0]\n",
    "    all_categories.append(category)\n",
    "    lines = readLines(full_path)\n",
    "    category_lines[category] = lines\n",
    "\n",
    "n_categories = len(all_categories)"
   ]
  },
  {
   "cell_type": "code",
   "execution_count": 4,
   "metadata": {},
   "outputs": [],
   "source": [
    "import numpy as np\n",
    "\n",
    "def letterToIndex(letter):\n",
    "    return all_letters.find(letter) + 1\n",
    "\n",
    "def lineToTensor(line):\n",
    "    tensor = np.zeros((len(line)))\n",
    "    for li, letter in enumerate(line):\n",
    "        tensor[li] = letterToIndex(letter)\n",
    "    return tensor\n",
    "\n",
    "def batchify(lines):\n",
    "    seq_lens = [len(line) for line in lines]\n",
    "    max_len = max(seq_lens)\n",
    "    tensor = np.zeros((len(lines), max_len))\n",
    "    for ix, line in enumerate(lines):\n",
    "        line_tensor = lineToTensor(line)\n",
    "        tensor[ix,:len(line_tensor)] = line_tensor\n",
    "    return tensor, seq_lens"
   ]
  },
  {
   "cell_type": "code",
   "execution_count": 5,
   "metadata": {},
   "outputs": [],
   "source": [
    "import time\n",
    "import math\n",
    "\n",
    "def timeSince(since):\n",
    "    now = time.time()\n",
    "    s = now - since\n",
    "    m = math.floor(s / 60)\n",
    "    s -= m * 60\n",
    "    return '%dm %ds' % (m, s)"
   ]
  },
  {
   "cell_type": "code",
   "execution_count": 6,
   "metadata": {},
   "outputs": [],
   "source": [
    "X_train = []\n",
    "y_train = []\n",
    "\n",
    "for category in category_lines:\n",
    "    X_train.extend(category_lines[category])\n",
    "    y_train.extend([all_categories.index(category)] * len(category_lines[category]))\n",
    "\n",
    "import random\n",
    "shuffle_idx = list(range(len(X_train)))\n",
    "random.shuffle(shuffle_idx)\n",
    "X_train = [X_train[idx] for idx in shuffle_idx]\n",
    "y_train = [y_train[idx] for idx in shuffle_idx]"
   ]
  },
  {
   "cell_type": "markdown",
   "metadata": {},
   "source": [
    "Some training conditions"
   ]
  },
  {
   "cell_type": "code",
   "execution_count": 7,
   "metadata": {},
   "outputs": [],
   "source": [
    "batch_size = 64\n",
    "\n",
    "n_iters = 100\n",
    "print_every = 5\n",
    "plot_every = 1"
   ]
  },
  {
   "cell_type": "markdown",
   "metadata": {},
   "source": [
    "# RNN Text classifier, Pytorch"
   ]
  },
  {
   "cell_type": "code",
   "execution_count": null,
   "metadata": {},
   "outputs": [],
   "source": [
    "import torch\n",
    "import torch.nn as nn\n",
    "import torch.optim as optim\n",
    "from torch.nn.utils.rnn import pack_padded_sequence, pad_packed_sequence\n",
    "\n",
    "print(torch.__version__)"
   ]
  },
  {
   "cell_type": "code",
   "execution_count": null,
   "metadata": {},
   "outputs": [],
   "source": [
    "class TorchRNNClassifier(nn.Module):\n",
    "    def __init__(self, hidden_size, output_size):\n",
    "        super(TorchRNNClassifier, self).__init__()\n",
    "        \n",
    "        self.embedding = nn.Embedding(n_letters + 1, hidden_size)\n",
    "        self.dropout = nn.Dropout(.2)\n",
    "        self.rnn = nn.GRU(hidden_size, hidden_size, batch_first=True)\n",
    "        self.linear = nn.Linear(hidden_size, output_size)\n",
    "        \n",
    "    def forward(self, input, seq_lens):\n",
    "        emb = self.embedding(input)\n",
    "        emb = self.dropout(emb)\n",
    "        emb = pack_padded_sequence(emb, seq_lens, batch_first=True, enforce_sorted=False)\n",
    "        output = self.rnn(emb)[0]\n",
    "        output = pad_packed_sequence(output, batch_first=True)[0]\n",
    "        output = torch.max(output, 1)[0].squeeze(1)\n",
    "        output = self.linear(output)\n",
    "        \n",
    "        return output"
   ]
  },
  {
   "cell_type": "code",
   "execution_count": null,
   "metadata": {},
   "outputs": [],
   "source": [
    "model_pytorch = TorchRNNClassifier(64, n_categories)"
   ]
  },
  {
   "cell_type": "code",
   "execution_count": null,
   "metadata": {},
   "outputs": [],
   "source": [
    "# batch, seq_lens = batchify(['Ngoc', 'James'])\n",
    "# batch = torch.LongTensor(batch)\n",
    "# print(model_pytorch(batch, seq_lens).size())\n",
    "# print(model_pytorch(batch, seq_lens))"
   ]
  },
  {
   "cell_type": "code",
   "execution_count": null,
   "metadata": {},
   "outputs": [],
   "source": [
    "criterion = nn.CrossEntropyLoss()\n",
    "\n",
    "def train_pytorch(model, optimizer, lines, categories):\n",
    "    model.zero_grad()\n",
    "\n",
    "    X_tensor, seq_lens = batchify(lines)\n",
    "    X_tensor = torch.LongTensor(X_tensor)\n",
    "    y_tensor = torch.LongTensor(categories)\n",
    "    \n",
    "    output = model(X_tensor, seq_lens)\n",
    "\n",
    "    loss = criterion(output, y_tensor)\n",
    "    loss.backward()\n",
    "    \n",
    "    optimizer.step()\n",
    "    \n",
    "    return output, loss.item()"
   ]
  },
  {
   "cell_type": "code",
   "execution_count": null,
   "metadata": {},
   "outputs": [],
   "source": [
    "optimizer_pytorch = optim.Adam(model_pytorch.parameters())\n",
    "\n",
    "# Keep track of losses for plotting\n",
    "current_loss = 0\n",
    "all_losses = []\n",
    "\n",
    "start = time.time()\n",
    "\n",
    "for iter in range(1, n_iters + 1):\n",
    "    correct = 0\n",
    "    iter_loss = 0\n",
    "    \n",
    "    for start_idx in range(0, len(X_train), batch_size):\n",
    "        batch_len = min(len(X_train) - start_idx, batch_size)\n",
    "        train_lines = X_train[start_idx:start_idx + batch_len]\n",
    "        train_categories = y_train[start_idx:start_idx + batch_len]\n",
    "        \n",
    "        model_pytorch.train()\n",
    "        output, loss = train_pytorch(model_pytorch, optimizer_pytorch, train_lines, train_categories)\n",
    "        current_loss += loss\n",
    "        iter_loss += loss\n",
    "        \n",
    "        batch_correct = output.topk(1, dim=1)[1].squeeze(1) == torch.LongTensor(train_categories)\n",
    "        correct += batch_correct.float().sum()\n",
    "\n",
    "    # Print iter number, loss, name and guess\n",
    "    if iter % print_every == 0:\n",
    "        accuracy = correct / len(X_train)\n",
    "        print('%d %d%% (%s) %.4f - accuracy: %.2f' % (iter, iter / n_iters * 100, timeSince(start), iter_loss, accuracy))\n",
    "\n",
    "    # Add current loss avg to list of losses\n",
    "    if iter % plot_every == 0:\n",
    "        all_losses.append(current_loss / plot_every)\n",
    "        current_loss = 0\n",
    "        \n",
    "model_pytorch.eval()"
   ]
  },
  {
   "cell_type": "markdown",
   "metadata": {},
   "source": [
    "# RNN Text classifier, Tensorflow"
   ]
  },
  {
   "cell_type": "code",
   "execution_count": 10,
   "metadata": {},
   "outputs": [
    {
     "data": {
      "text/plain": [
       "'1.12.0'"
      ]
     },
     "execution_count": 10,
     "metadata": {},
     "output_type": "execute_result"
    }
   ],
   "source": [
    "import tensorflow as tf\n",
    "from tensorflow.keras import layers\n",
    "from tensorflow.keras.utils import to_categorical\n",
    "\n",
    "tf.enable_eager_execution()\n",
    "tf.__version__"
   ]
  },
  {
   "cell_type": "code",
   "execution_count": 11,
   "metadata": {},
   "outputs": [],
   "source": [
    "class TFRNNClassifier(tf.keras.Model):\n",
    "    def __init__(self, hidden_size, output_size):\n",
    "        super(TFRNNClassifier, self).__init__()\n",
    "        \n",
    "        self.embedding = layers.Embedding(n_letters + 1, hidden_size)\n",
    "        self.dropout = layers.Dropout(.2)\n",
    "        self.rnn = layers.GRU(hidden_size, return_sequences=True)\n",
    "        self.linear = layers.Dense(output_size)\n",
    "        \n",
    "    def __call__(self, input, seq_lens):\n",
    "        mask = tf.sequence_mask(seq_lens)\n",
    "        emb = self.embedding(input)\n",
    "        emb = self.dropout(emb)\n",
    "        output = self.rnn(emb)\n",
    "        output = tf.reduce_max(output, axis=1)\n",
    "        output = self.linear(output)\n",
    "        \n",
    "        return output"
   ]
  },
  {
   "cell_type": "code",
   "execution_count": 12,
   "metadata": {},
   "outputs": [],
   "source": [
    "model_tf = TFRNNClassifier(64, n_categories)\n",
    "# batch, seq_lens = batchify(['Ngoc', 'James'])\n",
    "# batch = tf.convert_to_tensor(batch, np.int32)\n",
    "# print(tf_model(batch, seq_lens))"
   ]
  },
  {
   "cell_type": "code",
   "execution_count": 13,
   "metadata": {},
   "outputs": [],
   "source": [
    "def train_tf(model, optimizer, lines, categories):\n",
    "    X_tensor, seq_lens = batchify(lines)\n",
    "    X_tensor = tf.convert_to_tensor(X_tensor, np.int32)\n",
    "    y_tensor = to_categorical(categories, num_classes=n_categories)\n",
    "    \n",
    "    with tf.GradientTape() as tape:\n",
    "        output = model(X_tensor, seq_lens)\n",
    "        loss = tf.reduce_mean(tf.nn.softmax_cross_entropy_with_logits_v2(logits=output, labels=y_tensor))\n",
    "        \n",
    "        variables = model.variables\n",
    "        gradients = tape.gradient(loss, variables)\n",
    "        optimizer.apply_gradients(zip(gradients, variables))\n",
    "    \n",
    "    return output, loss"
   ]
  },
  {
   "cell_type": "code",
   "execution_count": 14,
   "metadata": {},
   "outputs": [
    {
     "name": "stdout",
     "output_type": "stream",
     "text": [
      "5 5% (4m 27s) 285.6721 - accuracy: 0.73\n",
      "10 10% (9m 25s) 205.2093 - accuracy: 0.80\n",
      "15 15% (14m 29s) 169.9141 - accuracy: 0.83\n",
      "20 20% (19m 16s) 147.9848 - accuracy: 0.85\n",
      "25 25% (24m 10s) 131.5602 - accuracy: 0.87\n",
      "30 30% (28m 53s) 117.9902 - accuracy: 0.88\n",
      "35 35% (33m 24s) 106.8181 - accuracy: 0.89\n",
      "40 40% (38m 16s) 96.6020 - accuracy: 0.90\n",
      "45 45% (42m 52s) 87.6815 - accuracy: 0.91\n",
      "50 50% (47m 15s) 79.1372 - accuracy: 0.92\n",
      "55 55% (51m 36s) 71.9096 - accuracy: 0.93\n",
      "60 60% (55m 57s) 67.9141 - accuracy: 0.93\n",
      "65 65% (60m 31s) 62.9381 - accuracy: 0.94\n",
      "70 70% (65m 2s) 57.4143 - accuracy: 0.94\n",
      "75 75% (69m 46s) 53.6563 - accuracy: 0.95\n",
      "80 80% (74m 54s) 47.8101 - accuracy: 0.95\n",
      "85 85% (79m 15s) 43.9958 - accuracy: 0.96\n",
      "90 90% (83m 37s) 41.5539 - accuracy: 0.96\n",
      "95 95% (88m 0s) 40.5338 - accuracy: 0.96\n",
      "100 100% (92m 21s) 38.1611 - accuracy: 0.96\n"
     ]
    }
   ],
   "source": [
    "optimizer_tf = tf.train.AdamOptimizer()\n",
    "\n",
    "# Keep track of losses for plotting\n",
    "current_loss = 0\n",
    "all_losses = []\n",
    "\n",
    "start = time.time()\n",
    "\n",
    "for iter in range(1, n_iters + 1):\n",
    "    correct = 0\n",
    "    iter_loss = 0\n",
    "    \n",
    "    for start_idx in range(0, len(X_train), batch_size):\n",
    "        batch_len = min(len(X_train) - start_idx, batch_size)\n",
    "        train_lines = X_train[start_idx:start_idx + batch_len]\n",
    "        train_categories = y_train[start_idx:start_idx + batch_len]\n",
    "        \n",
    "        output, loss = train_tf(model_tf, optimizer_tf, train_lines, train_categories)\n",
    "        current_loss += loss\n",
    "        iter_loss += loss\n",
    "        \n",
    "        batch_correct = tf.equal(\n",
    "            tf.squeeze(tf.math.top_k(output, k=1)[1], axis=1),\n",
    "            tf.convert_to_tensor(train_categories, np.int32)\n",
    "        )\n",
    "        correct += tf.reduce_sum(tf.to_float(batch_correct))\n",
    "\n",
    "    # Print iter number, loss, name and guess\n",
    "    if iter % print_every == 0:\n",
    "        accuracy = correct / len(X_train)\n",
    "        print('%d %d%% (%s) %.4f - accuracy: %.2f' % (iter, iter / n_iters * 100, timeSince(start), iter_loss, accuracy))\n",
    "\n",
    "    # Add current loss avg to list of losses\n",
    "    if iter % plot_every == 0:\n",
    "        all_losses.append(current_loss / plot_every)\n",
    "        current_loss = 0"
   ]
  }
 ],
 "metadata": {
  "kernelspec": {
   "display_name": "Python 3",
   "language": "python",
   "name": "python3"
  },
  "language_info": {
   "codemirror_mode": {
    "name": "ipython",
    "version": 3
   },
   "file_extension": ".py",
   "mimetype": "text/x-python",
   "name": "python",
   "nbconvert_exporter": "python",
   "pygments_lexer": "ipython3",
   "version": "3.6.7"
  }
 },
 "nbformat": 4,
 "nbformat_minor": 2
}
