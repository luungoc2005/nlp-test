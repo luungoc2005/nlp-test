{
 "cells": [
  {
   "cell_type": "code",
   "execution_count": 1,
   "metadata": {},
   "outputs": [],
   "source": [
    "from os import getcwd, path\n",
    "import sys\n",
    "import matplotlib.pyplot as plt\n",
    "import numpy as np\n",
    "\n",
    "BASE_PATH = path.dirname(getcwd())\n",
    "sys.path.append(BASE_PATH)\n",
    "\n",
    "from text_classification.fast_text.train import trainIters"
   ]
  },
  {
   "cell_type": "code",
   "execution_count": 2,
   "metadata": {
    "scrolled": true
   },
   "outputs": [
    {
     "name": "stderr",
     "output_type": "stream",
     "text": [
      "/Users/2359media/anaconda/envs/botbot-nlp/lib/python3.6/site-packages/h5py/__init__.py:36: FutureWarning: Conversion of the second argument of issubdtype from `float` to `np.floating` is deprecated. In future, it will be treated as `np.float64 == np.dtype(float).type`.\n",
      "  from ._conv import register_converters as _register_converters\n",
      "Using TensorFlow backend.\n"
     ]
    }
   ],
   "source": [
    "from keras.datasets import imdb\n",
    "\n",
    "(x_train, y_train), (x_test, y_test) = imdb.load_data(path=\"imdb.npz\",\n",
    "                                                      num_words=None,\n",
    "                                                      skip_top=0,\n",
    "                                                      maxlen=None,\n",
    "                                                      seed=113,\n",
    "                                                      start_char=1,\n",
    "                                                      oov_char=2,\n",
    "                                                      index_from=3)"
   ]
  },
  {
   "cell_type": "markdown",
   "metadata": {},
   "source": [
    "Transform the data back to plain text"
   ]
  },
  {
   "cell_type": "code",
   "execution_count": 3,
   "metadata": {},
   "outputs": [],
   "source": [
    "word_to_id = imdb.get_word_index()\n",
    "word_to_id = {k:(v+3) for k,v in word_to_id.items()}\n",
    "word_to_id[\"<PAD>\"] = 0\n",
    "word_to_id[\"<START>\"] = 1\n",
    "word_to_id[\"<UNK>\"] = 2\n",
    "id_to_word = {value:key for key,value in word_to_id.items()}\n",
    "# We actually don't need these tokens\n",
    "id_to_word[0] = \"\"\n",
    "id_to_word[1] = \"\"\n",
    "id_to_word[2] = \"\"\n",
    "\n",
    "def inverse_transform(seq):\n",
    "    try:\n",
    "        return ' '.join(id_to_word[id] for id in seq).strip()\n",
    "    except:\n",
    "        print(seq)\n",
    "        return seq"
   ]
  },
  {
   "cell_type": "code",
   "execution_count": 4,
   "metadata": {},
   "outputs": [],
   "source": [
    "x_train_text = [inverse_transform(item) for item in x_train]\n",
    "x_test_text  = [inverse_transform(item) for item in x_test]"
   ]
  },
  {
   "cell_type": "code",
   "execution_count": 5,
   "metadata": {},
   "outputs": [
    {
     "name": "stdout",
     "output_type": "stream",
     "text": [
      "Training started\n",
      "Importing /Users/2359media/Documents/botbot-nlp/data/fasttext/crawl-300d-2M.vec...\n",
      "4m 25s (- 17m 42s) (1 20%) 0.0086 - accuracy: 0.7486\n",
      "8m 26s (- 12m 40s) (2 40%) 0.0064 - accuracy: 0.8391\n",
      "12m 36s (- 8m 24s) (3 60%) 0.0058 - accuracy: 0.8546\n",
      "16m 35s (- 4m 8s) (4 80%) 0.0055 - accuracy: 0.8610\n",
      "20m 52s (- 0m 0s) (5 100%) 0.0054 - accuracy: 0.8643\n"
     ]
    }
   ],
   "source": [
    "training_data = [(item, y_train[idx]) for idx, item in enumerate(x_train_text)]\n",
    "classes = ['negative', 'positive']\n",
    "\n",
    "losses, model = trainIters(training_data, \n",
    "                           classes, \n",
    "                           n_iters=5, \n",
    "                           log_every=1, \n",
    "                           verbose=1,\n",
    "                           learning_rate=1e-3, \n",
    "                           batch_size=64)"
   ]
  },
  {
   "cell_type": "code",
   "execution_count": 6,
   "metadata": {
    "scrolled": true
   },
   "outputs": [
    {
     "data": {
      "text/plain": [
       "[<matplotlib.lines.Line2D at 0x10461e940>]"
      ]
     },
     "execution_count": 6,
     "metadata": {},
     "output_type": "execute_result"
    },
    {
     "data": {
      "text/plain": [
       "<matplotlib.figure.Figure at 0x1a2a3f9518>"
      ]
     },
     "metadata": {},
     "output_type": "display_data"
    },
    {
     "data": {
      "image/png": "[encoded data removed]",
      "text/plain": [
       "<matplotlib.figure.Figure at 0x1a2a3f92e8>"
      ]
     },
     "metadata": {},
     "output_type": "display_data"
    }
   ],
   "source": [
    "import matplotlib.pyplot as plt\n",
    "import matplotlib.ticker as ticker\n",
    "\n",
    "plt.figure()\n",
    "fig, ax = plt.subplots()\n",
    "loc = ticker.MultipleLocator(base=5)\n",
    "ax.yaxis.set_major_locator(loc)\n",
    "plt.plot(losses)"
   ]
  },
  {
   "cell_type": "code",
   "execution_count": 7,
   "metadata": {},
   "outputs": [
    {
     "name": "stdout",
     "output_type": "stream",
     "text": [
      "0.84992\n"
     ]
    }
   ],
   "source": [
    "from text_classification.fast_text.train import evaluate_all\n",
    "test_data = [(item, y_test[idx]) for idx, item in enumerate(x_test_text)]\n",
    "print(evaluate_all(model, test_data))"
   ]
  },
  {
   "cell_type": "code",
   "execution_count": 8,
   "metadata": {},
   "outputs": [
    {
     "name": "stdout",
     "output_type": "stream",
     "text": [
      "a lack of character development proves fatal for this movie valeria character grazia starts out looking like a bipolar personality but quickly degenerates into a caricature and seems unreal the other characters are thin probably the writer's fault not the actors' the only exception is as the younger son his energy and bravado are funny and convincing br br i suppose the children's petty cruelty is supposed to contribute to an atmosphere of bleakness and emphasize the pervasive primal spirits in the town but for me the gratuitous cruelty is redundant and contributes to the overall boredom of the film some scenes were amusing but not necessarily intended that way for example when the mistreated dogs turn out to be fat and healthy and look like they are ready to show the pretty cast and setting make for an appealing trailer but cannot carry the whole movie\n",
      "\r\n",
      "(Ground truth: negative)\n",
      "('negative', 0.9999744892120361)\n"
     ]
    }
   ],
   "source": [
    "import torch.nn.functional as F\n",
    "from common.utils import argmax, to_scalar\n",
    "from text_classification.fast_text.train import process_sentences\n",
    "# from text_classification.crnn.predict import *\n",
    "\n",
    "TEST_IDX = np.random.randint(len(x_test_text) - 1)\n",
    "TEST_SENTENCE = x_test_text[TEST_IDX]\n",
    "print(TEST_SENTENCE)\n",
    "print('\\r\\n(Ground truth: %s)' % classes[y_test[TEST_IDX]])\n",
    "\n",
    "# TEST_SENTENCE = 'The Emoji Movie is a terrible movie with an awful plot'\n",
    "\n",
    "# tokens_in = wordpunct_tokenize(TEST_SENTENCE)\n",
    "# sentence_in = prepare_vec_sequence(tokens_in, word_to_vec, SENTENCE_DIM, output='variable')\n",
    "# result = model(sentence_in.unsqueeze(0)) # Add a batch dimension\n",
    "result = model(*process_sentences([TEST_SENTENCE]))\n",
    "result = F.softmax(result, dim=1)\n",
    "max_idx = argmax(result)\n",
    "print((classes[max_idx], to_scalar(result[0][max_idx])))"
   ]
  }
 ],
 "metadata": {
  "kernelspec": {
   "display_name": "Python 3",
   "language": "python",
   "name": "python3"
  },
  "language_info": {
   "codemirror_mode": {
    "name": "ipython",
    "version": 3
   },
   "file_extension": ".py",
   "mimetype": "text/x-python",
   "name": "python",
   "nbconvert_exporter": "python",
   "pygments_lexer": "ipython3",
   "version": "3.6.4"
  }
 },
 "nbformat": 4,
 "nbformat_minor": 2
}
