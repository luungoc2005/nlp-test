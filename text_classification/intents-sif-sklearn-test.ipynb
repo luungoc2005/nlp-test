{
 "cells": [
  {
   "cell_type": "markdown",
   "metadata": {},
   "source": [
    "# Training an intents classification model\n",
    "\n",
    "Define constants"
   ]
  },
  {
   "cell_type": "code",
   "execution_count": 1,
   "metadata": {},
   "outputs": [],
   "source": [
    "from os import getcwd, path\n",
    "import sys\n",
    "import numpy as np\n",
    "\n",
    "BASE_PATH = path.dirname(getcwd())\n",
    "sys.path.append(BASE_PATH)\n",
    "\n",
    "DATA_UTILS = path.join(BASE_PATH, 'common/data_utils.py')\n",
    "TRAIN_PATH = path.join(BASE_PATH, 'kc_data.json')\n",
    "CLASSES_FILE = path.join(BASE_PATH, 'classes.json')"
   ]
  },
  {
   "cell_type": "code",
   "execution_count": 2,
   "metadata": {
    "scrolled": true
   },
   "outputs": [],
   "source": [
    "exec(open(DATA_UTILS).read())"
   ]
  },
  {
   "cell_type": "markdown",
   "metadata": {},
   "source": [
    "Use functions from the utils to extract and preprocess the training data\n",
    "Refer to `kc_data.json` for the sample data format\n",
    "`get_data_pairs` is then used to parse data into a tuple of `([list_of_sentences], [list_of_labels])`"
   ]
  },
  {
   "cell_type": "code",
   "execution_count": 3,
   "metadata": {},
   "outputs": [],
   "source": [
    "X_train, y_train = get_data_pairs(data_from_json(TRAIN_PATH))"
   ]
  },
  {
   "cell_type": "markdown",
   "metadata": {},
   "source": [
    "Save the classes descriptions as json"
   ]
  },
  {
   "cell_type": "code",
   "execution_count": 4,
   "metadata": {},
   "outputs": [
    {
     "data": {
      "text/plain": [
       "'0.4.1'"
      ]
     },
     "execution_count": 4,
     "metadata": {},
     "output_type": "execute_result"
    }
   ],
   "source": [
    "import torch\n",
    "torch.__version__"
   ]
  },
  {
   "cell_type": "markdown",
   "metadata": {},
   "source": [
    "Start training the classification model and save"
   ]
  },
  {
   "cell_type": "code",
   "execution_count": 5,
   "metadata": {},
   "outputs": [],
   "source": [
    "from text_classification.ensemble.model import EnsembleWrapper\n",
    "from text_classification.ensemble.train import EnsembleLearner\n",
    "from common.callbacks import PrintLoggerCallback\n",
    "\n",
    "model = EnsembleWrapper()\n",
    "learner = EnsembleLearner(model)"
   ]
  },
  {
   "cell_type": "code",
   "execution_count": 6,
   "metadata": {},
   "outputs": [
    {
     "name": "stdout",
     "output_type": "stream",
     "text": [
      "Iteration 1, loss = 7.14920439\n",
      "Iteration 2, loss = 6.75708482\n",
      "Iteration 3, loss = 6.30426374\n",
      "Iteration 4, loss = 5.69914163\n",
      "Iteration 5, loss = 5.03559859\n",
      "Iteration 6, loss = 4.38284617\n",
      "Iteration 7, loss = 3.78405135\n",
      "Iteration 8, loss = 3.25888070\n",
      "Iteration 9, loss = 2.81200426\n",
      "Iteration 10, loss = 2.43982101\n",
      "Iteration 11, loss = 2.13029699\n",
      "Iteration 12, loss = 1.87757470\n",
      "Iteration 13, loss = 1.66673218\n",
      "Iteration 14, loss = 1.49297809\n",
      "Iteration 15, loss = 1.34939152\n",
      "Iteration 16, loss = 1.22900989\n",
      "Iteration 17, loss = 1.12393607\n",
      "Iteration 18, loss = 1.03834087\n",
      "Iteration 19, loss = 0.96445730\n",
      "Iteration 20, loss = 0.89685500\n",
      "Iteration 21, loss = 0.83919004\n",
      "Iteration 22, loss = 0.78776999\n",
      "Iteration 23, loss = 0.74265919\n",
      "Iteration 24, loss = 0.70269262\n",
      "Iteration 25, loss = 0.66622883\n",
      "Iteration 26, loss = 0.63310291\n",
      "Iteration 27, loss = 0.60496035\n",
      "Iteration 28, loss = 0.57720630\n",
      "Iteration 29, loss = 0.55415869\n",
      "Iteration 30, loss = 0.53090876\n",
      "Iteration 31, loss = 0.51013797\n",
      "Iteration 32, loss = 0.49251979\n",
      "Iteration 33, loss = 0.47359406\n",
      "Iteration 34, loss = 0.45830137\n",
      "Iteration 35, loss = 0.44237871\n",
      "Iteration 36, loss = 0.42805932\n",
      "Iteration 37, loss = 0.41667938\n",
      "Iteration 38, loss = 0.40473079\n",
      "Iteration 39, loss = 0.39207049\n",
      "Iteration 40, loss = 0.38183728\n",
      "Iteration 41, loss = 0.37281784\n",
      "Iteration 42, loss = 0.36431057\n",
      "Iteration 43, loss = 0.35464324\n",
      "Iteration 44, loss = 0.34848411\n",
      "Iteration 45, loss = 0.34066173\n",
      "Iteration 46, loss = 0.33455843\n",
      "Iteration 47, loss = 0.32742050\n",
      "Iteration 48, loss = 0.31887124\n",
      "Iteration 49, loss = 0.31253350\n",
      "Iteration 50, loss = 0.30797895\n",
      "Iteration 51, loss = 0.30540203\n",
      "Iteration 52, loss = 0.29941733\n",
      "Iteration 53, loss = 0.29214944\n",
      "Iteration 54, loss = 0.28790237\n",
      "Iteration 55, loss = 0.28562253\n",
      "Iteration 56, loss = 0.27976810\n",
      "Iteration 57, loss = 0.27539928\n",
      "Iteration 58, loss = 0.27390475\n",
      "Iteration 59, loss = 0.26826463\n",
      "Iteration 60, loss = 0.26151780\n",
      "Iteration 61, loss = 0.26094783\n",
      "Iteration 62, loss = 0.25957108\n",
      "Iteration 63, loss = 0.25623046\n",
      "Iteration 64, loss = 0.25419414\n",
      "Iteration 65, loss = 0.24800822\n",
      "Iteration 66, loss = 0.24727235\n",
      "Iteration 67, loss = 0.24503309\n",
      "Iteration 68, loss = 0.24319005\n",
      "Iteration 69, loss = 0.23879625\n",
      "Iteration 70, loss = 0.23843359\n",
      "Iteration 71, loss = 0.23585328\n",
      "Iteration 72, loss = 0.23296154\n",
      "Iteration 73, loss = 0.23335116\n",
      "Iteration 74, loss = 0.23071708\n",
      "Iteration 75, loss = 0.22820875\n",
      "Iteration 76, loss = 0.22625738\n",
      "Iteration 77, loss = 0.22319613\n",
      "Iteration 78, loss = 0.22354837\n",
      "Iteration 79, loss = 0.22222144\n",
      "Iteration 80, loss = 0.21830769\n",
      "Iteration 81, loss = 0.21868588\n",
      "Iteration 82, loss = 0.21707108\n",
      "Iteration 83, loss = 0.21681933\n",
      "Iteration 84, loss = 0.21593140\n",
      "Iteration 85, loss = 0.21183043\n",
      "Iteration 86, loss = 0.21041609\n",
      "Iteration 87, loss = 0.21016718\n",
      "Iteration 88, loss = 0.21218037\n",
      "Iteration 89, loss = 0.21202556\n",
      "Iteration 90, loss = 0.20797067\n",
      "Iteration 91, loss = 0.20539746\n",
      "Iteration 92, loss = 0.20276277\n",
      "Iteration 93, loss = 0.20225102\n",
      "Iteration 94, loss = 0.20222390\n",
      "Iteration 95, loss = 0.20239906\n",
      "Iteration 96, loss = 0.20019342\n",
      "Iteration 97, loss = 0.20092146\n",
      "Iteration 98, loss = 0.20167262\n",
      "Iteration 99, loss = 0.19879383\n",
      "Iteration 100, loss = 0.19811279\n",
      "Iteration 101, loss = 0.19708662\n",
      "Iteration 102, loss = 0.19555975\n",
      "Iteration 103, loss = 0.19482067\n",
      "Iteration 104, loss = 0.19319766\n",
      "Iteration 105, loss = 0.19241434\n",
      "Iteration 106, loss = 0.19300399\n",
      "Iteration 107, loss = 0.19324945\n",
      "Iteration 108, loss = 0.19174882\n",
      "Iteration 109, loss = 0.18968674\n",
      "Iteration 110, loss = 0.18897660\n",
      "Iteration 111, loss = 0.19175360\n",
      "Iteration 112, loss = 0.18895057\n",
      "Iteration 113, loss = 0.18917784\n",
      "Training loss did not improve more than tol=0.000100 for two consecutive epochs. Stopping.\n",
      "Model score: 0.9478354134165367\n"
     ]
    }
   ],
   "source": [
    "learner.fit(\n",
    "    training_data=(X_train, y_train),\n",
    "    batch_size=64\n",
    ")"
   ]
  },
  {
   "cell_type": "code",
   "execution_count": 7,
   "metadata": {},
   "outputs": [
    {
     "name": "stderr",
     "output_type": "stream",
     "text": [
      "/Users/2359media/anaconda/envs/botbot-nlp/lib/python3.5/site-packages/sklearn/preprocessing/label.py:151: DeprecationWarning: The truth value of an empty array is ambiguous. Returning False, but in future this will result in an error. Use `array.size > 0` to check that an array is not empty.\n",
      "  if diff:\n"
     ]
    },
    {
     "data": {
      "text/plain": [
       "[[{'confidence': 0.8896200656890869, 'intent': 'Greeting - Morning'},\n",
       "  {'confidence': 0.0961485430598259, 'intent': 'SmallTalk - Goodbye'},\n",
       "  {'confidence': 0.01366744190454483, 'intent': 'Diet - What Can Eat - Snack'},\n",
       "  {'confidence': 0.0001321075251325965, 'intent': 'SmallTalk - Thanks'},\n",
       "  {'confidence': 0.0001188839232781902, 'intent': 'General - IAmTired'}]]"
      ]
     },
     "execution_count": 7,
     "metadata": {},
     "output_type": "execute_result"
    }
   ],
   "source": [
    "model(['good morning!'])"
   ]
  },
  {
   "cell_type": "code",
   "execution_count": 9,
   "metadata": {},
   "outputs": [
    {
     "name": "stderr",
     "output_type": "stream",
     "text": [
      "/Users/2359media/anaconda/envs/botbot-nlp/lib/python3.5/site-packages/sklearn/preprocessing/label.py:151: DeprecationWarning: The truth value of an empty array is ambiguous. Returning False, but in future this will result in an error. Use `array.size > 0` to check that an array is not empty.\n",
      "  if diff:\n"
     ]
    },
    {
     "data": {
      "text/plain": [
       "[[{'confidence': 0.5771874785423279,\n",
       "   'intent': 'Trimester - Third - How big IT'},\n",
       "  {'confidence': 0.17469282448291779, 'intent': 'Medical - Belly Is Big'},\n",
       "  {'confidence': 0.11658650636672974, 'intent': 'Trimester - Third - How big'},\n",
       "  {'confidence': 0.03539244085550308,\n",
       "   'intent': 'Trimester - Second - how big'},\n",
       "  {'confidence': 0.03504170849919319,\n",
       "   'intent': 'Medical - Down Syndrome - Risk'}]]"
      ]
     },
     "execution_count": 9,
     "metadata": {},
     "output_type": "execute_result"
    }
   ],
   "source": [
    "model(['my baby\\'s head is too big'])"
   ]
  }
 ],
 "metadata": {
  "kernelspec": {
   "display_name": "Python 3",
   "language": "python",
   "name": "python3"
  },
  "language_info": {
   "codemirror_mode": {
    "name": "ipython",
    "version": 3
   },
   "file_extension": ".py",
   "mimetype": "text/x-python",
   "name": "python",
   "nbconvert_exporter": "python",
   "pygments_lexer": "ipython3",
   "version": "3.5.0"
  }
 },
 "nbformat": 4,
 "nbformat_minor": 2
}
