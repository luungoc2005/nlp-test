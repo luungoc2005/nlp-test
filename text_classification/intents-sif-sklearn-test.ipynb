{
 "cells": [
  {
   "cell_type": "markdown",
   "metadata": {},
   "source": [
    "# Training an intents classification model\n",
    "\n",
    "Define constants"
   ]
  },
  {
   "cell_type": "code",
   "execution_count": 1,
   "metadata": {},
   "outputs": [],
   "source": [
    "from os import getcwd, path\n",
    "import sys\n",
    "import numpy as np\n",
    "\n",
    "BASE_PATH = path.dirname(getcwd())\n",
    "sys.path.append(BASE_PATH)\n",
    "\n",
    "DATA_UTILS = path.join(BASE_PATH, 'common/data_utils.py')\n",
    "TRAIN_PATH = path.join(BASE_PATH, 'kc_data.json')\n",
    "CLASSES_FILE = path.join(BASE_PATH, 'classes.json')"
   ]
  },
  {
   "cell_type": "code",
   "execution_count": 2,
   "metadata": {
    "scrolled": true
   },
   "outputs": [],
   "source": [
    "exec(open(DATA_UTILS).read())"
   ]
  },
  {
   "cell_type": "markdown",
   "metadata": {},
   "source": [
    "Use functions from the utils to extract and preprocess the training data\n",
    "Refer to `kc_data.json` for the sample data format\n",
    "`get_data_pairs` is then used to parse data into a tuple of `([list_of_sentences], [list_of_labels])`"
   ]
  },
  {
   "cell_type": "code",
   "execution_count": 3,
   "metadata": {},
   "outputs": [],
   "source": [
    "X_train, y_train = get_data_pairs(data_from_json(TRAIN_PATH))"
   ]
  },
  {
   "cell_type": "markdown",
   "metadata": {},
   "source": [
    "Save the classes descriptions as json"
   ]
  },
  {
   "cell_type": "code",
   "execution_count": 4,
   "metadata": {},
   "outputs": [
    {
     "data": {
      "text/plain": [
       "'0.4.1'"
      ]
     },
     "execution_count": 4,
     "metadata": {},
     "output_type": "execute_result"
    }
   ],
   "source": [
    "import torch\n",
    "torch.__version__"
   ]
  },
  {
   "cell_type": "markdown",
   "metadata": {},
   "source": [
    "Start training the classification model and save"
   ]
  },
  {
   "cell_type": "code",
   "execution_count": 5,
   "metadata": {},
   "outputs": [],
   "source": [
    "from text_classification.ensemble.model import EnsembleWrapper\n",
    "from text_classification.ensemble.train import EnsembleLearner\n",
    "from common.callbacks import PrintLoggerCallback\n",
    "\n",
    "model = EnsembleWrapper()\n",
    "learner = EnsembleLearner(model)"
   ]
  },
  {
   "cell_type": "code",
   "execution_count": 6,
   "metadata": {},
   "outputs": [
    {
     "name": "stdout",
     "output_type": "stream",
     "text": [
      "Iteration 1, loss = 7.15302609\n",
      "Iteration 2, loss = 6.75358355\n",
      "Iteration 3, loss = 6.29351703\n",
      "Iteration 4, loss = 5.69058522\n",
      "Iteration 5, loss = 5.03504465\n",
      "Iteration 6, loss = 4.38733521\n",
      "Iteration 7, loss = 3.78765651\n",
      "Iteration 8, loss = 3.25905688\n",
      "Iteration 9, loss = 2.81315959\n",
      "Iteration 10, loss = 2.43811695\n",
      "Iteration 11, loss = 2.12791411\n",
      "Iteration 12, loss = 1.87443303\n",
      "Iteration 13, loss = 1.66635126\n",
      "Iteration 14, loss = 1.49074848\n",
      "Iteration 15, loss = 1.34690295\n",
      "Iteration 16, loss = 1.22706702\n",
      "Iteration 17, loss = 1.12538576\n",
      "Iteration 18, loss = 1.03663595\n",
      "Iteration 19, loss = 0.96185606\n",
      "Iteration 20, loss = 0.89732125\n",
      "Iteration 21, loss = 0.84072673\n",
      "Iteration 22, loss = 0.78694415\n",
      "Iteration 23, loss = 0.74238454\n",
      "Iteration 24, loss = 0.70268385\n",
      "Iteration 25, loss = 0.66824649\n",
      "Iteration 26, loss = 0.63265816\n",
      "Iteration 27, loss = 0.60534400\n",
      "Iteration 28, loss = 0.57856664\n",
      "Iteration 29, loss = 0.55380625\n",
      "Iteration 30, loss = 0.53051573\n",
      "Iteration 31, loss = 0.51216545\n",
      "Iteration 32, loss = 0.49048914\n",
      "Iteration 33, loss = 0.47405500\n",
      "Iteration 34, loss = 0.45796495\n",
      "Iteration 35, loss = 0.44462816\n",
      "Iteration 36, loss = 0.42848781\n",
      "Iteration 37, loss = 0.41822139\n",
      "Iteration 38, loss = 0.40525376\n",
      "Iteration 39, loss = 0.39505051\n",
      "Iteration 40, loss = 0.38288179\n",
      "Iteration 41, loss = 0.37405163\n",
      "Iteration 42, loss = 0.36499929\n",
      "Iteration 43, loss = 0.35560065\n",
      "Iteration 44, loss = 0.34947930\n",
      "Iteration 45, loss = 0.33929790\n",
      "Iteration 46, loss = 0.33268533\n",
      "Iteration 47, loss = 0.32562122\n",
      "Iteration 48, loss = 0.31979869\n",
      "Iteration 49, loss = 0.31367284\n",
      "Iteration 50, loss = 0.30939277\n",
      "Iteration 51, loss = 0.30715207\n",
      "Iteration 52, loss = 0.29920679\n",
      "Iteration 53, loss = 0.29493942\n",
      "Iteration 54, loss = 0.28847591\n",
      "Iteration 55, loss = 0.28409814\n",
      "Iteration 56, loss = 0.28188499\n",
      "Iteration 57, loss = 0.27738998\n",
      "Iteration 58, loss = 0.27063456\n",
      "Iteration 59, loss = 0.26842873\n",
      "Iteration 60, loss = 0.26634276\n",
      "Iteration 61, loss = 0.26350974\n",
      "Iteration 62, loss = 0.25881850\n",
      "Iteration 63, loss = 0.25482354\n",
      "Iteration 64, loss = 0.25431229\n",
      "Iteration 65, loss = 0.25089155\n",
      "Iteration 66, loss = 0.24791093\n",
      "Iteration 67, loss = 0.24571237\n",
      "Iteration 68, loss = 0.24463135\n",
      "Iteration 69, loss = 0.24097619\n",
      "Iteration 70, loss = 0.23914572\n",
      "Iteration 71, loss = 0.23580869\n",
      "Iteration 72, loss = 0.23300663\n",
      "Iteration 73, loss = 0.23128195\n",
      "Iteration 74, loss = 0.22935009\n",
      "Iteration 75, loss = 0.22768463\n",
      "Iteration 76, loss = 0.22660198\n",
      "Iteration 77, loss = 0.22500680\n",
      "Iteration 78, loss = 0.22441879\n",
      "Iteration 79, loss = 0.22285965\n",
      "Iteration 80, loss = 0.22072215\n",
      "Iteration 81, loss = 0.21883708\n",
      "Iteration 82, loss = 0.21674878\n",
      "Iteration 83, loss = 0.21539024\n",
      "Iteration 84, loss = 0.21518424\n",
      "Iteration 85, loss = 0.21342433\n",
      "Iteration 86, loss = 0.21065391\n",
      "Iteration 87, loss = 0.21061260\n",
      "Iteration 88, loss = 0.20786982\n",
      "Iteration 89, loss = 0.20982447\n",
      "Iteration 90, loss = 0.20694908\n",
      "Iteration 91, loss = 0.20677230\n",
      "Iteration 92, loss = 0.20229590\n",
      "Iteration 93, loss = 0.20519527\n",
      "Iteration 94, loss = 0.20301006\n",
      "Iteration 95, loss = 0.20306383\n",
      "Training loss did not improve more than tol=0.000100 for two consecutive epochs. Stopping.\n",
      "Model score: 0.9465678627145085\n"
     ]
    }
   ],
   "source": [
    "learner.fit(\n",
    "    training_data=(X_train, y_train),\n",
    "    batch_size=64\n",
    ")"
   ]
  },
  {
   "cell_type": "code",
   "execution_count": 7,
   "metadata": {},
   "outputs": [
    {
     "name": "stderr",
     "output_type": "stream",
     "text": [
      "/Users/2359media/anaconda/envs/botbot-nlp/lib/python3.5/site-packages/sklearn/preprocessing/label.py:151: DeprecationWarning: The truth value of an empty array is ambiguous. Returning False, but in future this will result in an error. Use `array.size > 0` to check that an array is not empty.\n",
      "  if diff:\n"
     ]
    },
    {
     "data": {
      "text/plain": [
       "[[{'confidence': 0.9557663202285767, 'intent': 'Greeting - Morning'},\n",
       "  {'confidence': 0.035246167331933975, 'intent': 'SmallTalk - Goodbye'},\n",
       "  {'confidence': 0.006699211895465851, 'intent': 'General - IAmTired'},\n",
       "  {'confidence': 0.0009792317869141698,\n",
       "   'intent': 'Diet - What Can Eat - Snack'},\n",
       "  {'confidence': 0.00041592770139686763,\n",
       "   'intent': 'Postnatal - Confinement - Practices'}]]"
      ]
     },
     "execution_count": 7,
     "metadata": {},
     "output_type": "execute_result"
    }
   ],
   "source": [
    "model(['good morning!'])"
   ]
  },
  {
   "cell_type": "code",
   "execution_count": 8,
   "metadata": {},
   "outputs": [
    {
     "name": "stderr",
     "output_type": "stream",
     "text": [
      "/Users/2359media/anaconda/envs/botbot-nlp/lib/python3.5/site-packages/sklearn/preprocessing/label.py:151: DeprecationWarning: The truth value of an empty array is ambiguous. Returning False, but in future this will result in an error. Use `array.size > 0` to check that an array is not empty.\n",
      "  if diff:\n"
     ]
    },
    {
     "data": {
      "text/plain": [
       "[[{'confidence': 0.8279853463172913,\n",
       "   'intent': 'Trimester - Third - How big IT'},\n",
       "  {'confidence': 0.029442988336086273,\n",
       "   'intent': 'Trimester - Third - How big'},\n",
       "  {'confidence': 0.027228983119130135,\n",
       "   'intent': 'Trimester - First - How big'},\n",
       "  {'confidence': 0.023028625175356865,\n",
       "   'intent': 'Trimester - Second - how big'},\n",
       "  {'confidence': 0.011571577750146389, 'intent': 'Medical - Belly Is Big'}]]"
      ]
     },
     "execution_count": 8,
     "metadata": {},
     "output_type": "execute_result"
    }
   ],
   "source": [
    "model(['my baby\\'s head is too big'])"
   ]
  }
 ],
 "metadata": {
  "kernelspec": {
   "display_name": "Python 3",
   "language": "python",
   "name": "python3"
  },
  "language_info": {
   "codemirror_mode": {
    "name": "ipython",
    "version": 3
   },
   "file_extension": ".py",
   "mimetype": "text/x-python",
   "name": "python",
   "nbconvert_exporter": "python",
   "pygments_lexer": "ipython3",
   "version": "3.5.0"
  }
 },
 "nbformat": 4,
 "nbformat_minor": 2
}
