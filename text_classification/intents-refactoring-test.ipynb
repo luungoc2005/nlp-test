{
 "cells": [
  {
   "cell_type": "markdown",
   "metadata": {},
   "source": [
    "# Training an intents classification model\n",
    "\n",
    "Define constants"
   ]
  },
  {
   "cell_type": "code",
   "execution_count": 1,
   "metadata": {},
   "outputs": [],
   "source": [
    "from os import getcwd, path\n",
    "import sys\n",
    "import matplotlib.pyplot as plt\n",
    "import numpy as np\n",
    "\n",
    "BASE_PATH = path.dirname(getcwd())\n",
    "sys.path.append(BASE_PATH)\n",
    "\n",
    "DATA_UTILS = path.join(BASE_PATH, 'common/data_utils.py')\n",
    "TRAIN_PATH = path.join(BASE_PATH, 'kc_data.json')\n",
    "CLASSES_FILE = path.join(BASE_PATH, 'classes.json')"
   ]
  },
  {
   "cell_type": "code",
   "execution_count": 2,
   "metadata": {
    "scrolled": true
   },
   "outputs": [],
   "source": [
    "exec(open(DATA_UTILS).read())"
   ]
  },
  {
   "cell_type": "markdown",
   "metadata": {},
   "source": [
    "Use functions from the utils to extract and preprocess the training data\n",
    "Refer to `kc_data.json` for the sample data format\n",
    "`get_data_pairs` is then used to parse data into a tuple of `([list_of_sentences], [list_of_labels])`"
   ]
  },
  {
   "cell_type": "code",
   "execution_count": 3,
   "metadata": {},
   "outputs": [],
   "source": [
    "X_train, y_train = get_data_pairs(data_from_json(TRAIN_PATH))"
   ]
  },
  {
   "cell_type": "code",
   "execution_count": 4,
   "metadata": {},
   "outputs": [
    {
     "data": {
      "text/plain": [
       "'0.4.1'"
      ]
     },
     "execution_count": 4,
     "metadata": {},
     "output_type": "execute_result"
    }
   ],
   "source": [
    "import torch\n",
    "torch.__version__"
   ]
  },
  {
   "cell_type": "markdown",
   "metadata": {},
   "source": [
    "Start training the classification model and save"
   ]
  },
  {
   "cell_type": "code",
   "execution_count": 5,
   "metadata": {},
   "outputs": [],
   "source": [
    "from text_classification.fast_text.model import FastTextWrapper\n",
    "from text_classification.fast_text.train import FastTextLearner\n",
    "from common.callbacks import PrintLoggerCallback\n",
    "\n",
    "model = FastTextWrapper()\n",
    "learner = FastTextLearner(\n",
    "    model,\n",
    "    optimizer_fn='adam'\n",
    "#     optimizer_fn='sgd',\n",
    "#     optimizer_kwargs={'lr': 1e-2, 'momentum': .9}\n",
    ")"
   ]
  },
  {
   "cell_type": "code",
   "execution_count": null,
   "metadata": {},
   "outputs": [
    {
     "name": "stdout",
     "output_type": "stream",
     "text": [
      "3m 58s (- 75m 31s) (5 5%) - loss: 7.3131 - accuracy: 0.0004\n",
      "8m 10s (- 73m 31s) (10 10%) - loss: 7.2986 - accuracy: 0.0000\n",
      "12m 27s (- 70m 35s) (15 15%) - loss: 7.2694 - accuracy: 0.0004\n",
      "16m 33s (- 66m 12s) (20 20%) - loss: 7.0779 - accuracy: 0.0047\n",
      "20m 26s (- 61m 18s) (25 25%) - loss: 6.3776 - accuracy: 0.0146\n",
      "24m 26s (- 57m 2s) (30 30%) - loss: 5.5605 - accuracy: 0.0550\n",
      "27m 59s (- 51m 59s) (35 35%) - loss: 4.7425 - accuracy: 0.1226\n",
      "31m 46s (- 47m 40s) (40 40%) - loss: 3.9918 - accuracy: 0.2061\n",
      "35m 45s (- 43m 42s) (45 45%) - loss: 3.3124 - accuracy: 0.3014\n",
      "39m 44s (- 39m 44s) (50 50%) - loss: 2.7037 - accuracy: 0.4050\n",
      "43m 38s (- 35m 42s) (55 55%) - loss: 2.1830 - accuracy: 0.5024\n",
      "47m 41s (- 31m 47s) (60 60%) - loss: 1.7432 - accuracy: 0.5838\n",
      "51m 52s (- 27m 55s) (65 65%) - loss: 1.3926 - accuracy: 0.6576\n",
      "56m 1s (- 24m 0s) (70 70%) - loss: 1.1112 - accuracy: 0.7242\n",
      "59m 56s (- 19m 58s) (75 75%) - loss: 0.8971 - accuracy: 0.7717\n",
      "64m 1s (- 16m 0s) (80 80%) - loss: 0.7308 - accuracy: 0.8098\n"
     ]
    }
   ],
   "source": [
    "learner.fit(\n",
    "    training_data=(X_train, y_train), \n",
    "    epochs=100, \n",
    "    callbacks=[PrintLoggerCallback(log_every=5)]\n",
    ")"
   ]
  },
  {
   "cell_type": "code",
   "execution_count": null,
   "metadata": {},
   "outputs": [],
   "source": [
    "model(['the earth is flat'])"
   ]
  }
 ],
 "metadata": {
  "kernelspec": {
   "display_name": "Python 3",
   "language": "python",
   "name": "python3"
  },
  "language_info": {
   "codemirror_mode": {
    "name": "ipython",
    "version": 3
   },
   "file_extension": ".py",
   "mimetype": "text/x-python",
   "name": "python",
   "nbconvert_exporter": "python",
   "pygments_lexer": "ipython3",
   "version": "3.5.0"
  }
 },
 "nbformat": 4,
 "nbformat_minor": 2
}
