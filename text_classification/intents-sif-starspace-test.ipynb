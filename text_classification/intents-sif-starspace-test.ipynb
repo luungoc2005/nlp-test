{
 "cells": [
  {
   "cell_type": "markdown",
   "metadata": {},
   "source": [
    "# Training an intents classification model\n",
    "\n",
    "Define constants"
   ]
  },
  {
   "cell_type": "code",
   "execution_count": 1,
   "metadata": {},
   "outputs": [],
   "source": [
    "from os import getcwd, path\n",
    "import sys\n",
    "import numpy as np\n",
    "\n",
    "BASE_PATH = path.dirname(getcwd())\n",
    "sys.path.append(BASE_PATH)\n",
    "\n",
    "DATA_UTILS = path.join(BASE_PATH, 'common/data_utils.py')\n",
    "TRAIN_PATH = path.join(BASE_PATH, 'kc_data.json')\n",
    "CLASSES_FILE = path.join(BASE_PATH, 'classes.json')"
   ]
  },
  {
   "cell_type": "code",
   "execution_count": 2,
   "metadata": {
    "scrolled": true
   },
   "outputs": [],
   "source": [
    "exec(open(DATA_UTILS).read())"
   ]
  },
  {
   "cell_type": "markdown",
   "metadata": {},
   "source": [
    "Use functions from the utils to extract and preprocess the training data\n",
    "Refer to `kc_data.json` for the sample data format\n",
    "`get_data_pairs` is then used to parse data into a tuple of `([list_of_sentences], [list_of_labels])`"
   ]
  },
  {
   "cell_type": "code",
   "execution_count": 3,
   "metadata": {},
   "outputs": [],
   "source": [
    "X_train, y_train = get_data_pairs(data_from_json(TRAIN_PATH))"
   ]
  },
  {
   "cell_type": "code",
   "execution_count": 4,
   "metadata": {},
   "outputs": [
    {
     "data": {
      "text/plain": [
       "'1.0.0'"
      ]
     },
     "execution_count": 4,
     "metadata": {},
     "output_type": "execute_result"
    }
   ],
   "source": [
    "import torch\n",
    "torch.__version__"
   ]
  },
  {
   "cell_type": "markdown",
   "metadata": {},
   "source": [
    "Start training the classification model and save"
   ]
  },
  {
   "cell_type": "code",
   "execution_count": null,
   "metadata": {},
   "outputs": [],
   "source": [
    "import torch.optim as optim\n",
    "from text_classification.sif_starspace.model import StarspaceClassifierWrapper\n",
    "from text_classification.sif_starspace.train import StarspaceClassifierLearner\n",
    "from common.callbacks import PrintLoggerCallback, EarlyStoppingCallback\n",
    "\n",
    "model = StarspaceClassifierWrapper()\n",
    "# learner = StarspaceClassifierLearner(model, \n",
    "#     optimizer_fn=optim.SGD, \n",
    "#     optimizer_kwargs={'lr': 0.01, 'momentum': 0.9}\n",
    "# )\n",
    "learner = StarspaceClassifierLearner(model)"
   ]
  },
  {
   "cell_type": "code",
   "execution_count": null,
   "metadata": {},
   "outputs": [
    {
     "name": "stdout",
     "output_type": "stream",
     "text": [
      "1m 35s (- 478m 9s) (1 0%) - loss: 840.8917 - accuracy: 0.0613\n",
      "3m 9s (- 471m 13s) (2 0%) - loss: 533.6513 - accuracy: 0.1703\n",
      "4m 49s (- 477m 6s) (3 1%) - loss: 399.9800 - accuracy: 0.2182\n",
      "6m 29s (- 479m 48s) (4 1%) - loss: 333.0334 - accuracy: 0.2424\n",
      "8m 6s (- 478m 45s) (5 1%) - loss: 296.5925 - accuracy: 0.2654\n",
      "9m 47s (- 480m 4s) (6 2%) - loss: 274.2288 - accuracy: 0.2812\n",
      "11m 27s (- 479m 17s) (7 2%) - loss: 258.0945 - accuracy: 0.3020\n",
      "13m 6s (- 478m 19s) (8 2%) - loss: 244.4308 - accuracy: 0.3164\n",
      "14m 50s (- 479m 38s) (9 3%) - loss: 235.3286 - accuracy: 0.3290\n",
      "16m 31s (- 479m 24s) (10 3%) - loss: 228.3764 - accuracy: 0.3474\n",
      "18m 11s (- 478m 1s) (11 3%) - loss: 222.0499 - accuracy: 0.3483\n",
      "19m 48s (- 475m 19s) (12 4%) - loss: 217.2993 - accuracy: 0.3591\n",
      "21m 26s (- 473m 30s) (13 4%) - loss: 213.0368 - accuracy: 0.3687\n",
      "23m 13s (- 474m 25s) (14 4%) - loss: 209.4046 - accuracy: 0.3788\n",
      "24m 52s (- 472m 35s) (15 5%) - loss: 207.3456 - accuracy: 0.3846\n",
      "26m 31s (- 470m 50s) (16 5%) - loss: 204.8040 - accuracy: 0.3867\n",
      "43m 28s (- 723m 37s) (17 5%) - loss: 202.0229 - accuracy: 0.3992\n",
      "45m 40s (- 715m 34s) (18 6%) - loss: 200.5328 - accuracy: 0.3972\n",
      "47m 40s (- 705m 6s) (19 6%) - loss: 197.9711 - accuracy: 0.4080\n",
      "49m 32s (- 693m 28s) (20 6%) - loss: 196.6793 - accuracy: 0.4050\n",
      "51m 17s (- 681m 26s) (21 7%) - loss: 196.2889 - accuracy: 0.4064\n",
      "52m 53s (- 668m 18s) (22 7%) - loss: 193.6233 - accuracy: 0.4182\n",
      "54m 35s (- 657m 27s) (23 7%) - loss: 192.4042 - accuracy: 0.4198\n",
      "56m 9s (- 645m 54s) (24 8%) - loss: 192.1751 - accuracy: 0.4190\n",
      "57m 56s (- 637m 19s) (25 8%) - loss: 190.1238 - accuracy: 0.4219\n",
      "59m 38s (- 628m 36s) (26 8%) - loss: 189.7441 - accuracy: 0.4189\n",
      "165m 47s (- 1676m 22s) (27 9%) - loss: 188.8622 - accuracy: 0.4293\n",
      "167m 23s (- 1626m 9s) (28 9%) - loss: 187.6693 - accuracy: 0.4272\n",
      "168m 59s (- 1579m 11s) (29 9%) - loss: 187.0137 - accuracy: 0.4279\n",
      "170m 33s (- 1535m 5s) (30 10%) - loss: 187.1672 - accuracy: 0.4367\n",
      "172m 11s (- 1494m 7s) (31 10%) - loss: 186.3743 - accuracy: 0.4314\n",
      "174m 2s (- 1457m 37s) (32 10%) - loss: 184.5837 - accuracy: 0.4372\n",
      "175m 53s (- 1423m 8s) (33 11%) - loss: 185.2000 - accuracy: 0.4381\n",
      "177m 41s (- 1390m 13s) (34 11%) - loss: 184.7305 - accuracy: 0.4397\n",
      "179m 20s (- 1357m 52s) (35 11%) - loss: 184.6213 - accuracy: 0.4411\n",
      "181m 0s (- 1327m 23s) (36 12%) - loss: 183.6345 - accuracy: 0.4464\n",
      "265m 23s (- 1886m 26s) (37 12%) - loss: 184.3587 - accuracy: 0.4433\n",
      "267m 12s (- 1842m 19s) (38 12%) - loss: 182.6428 - accuracy: 0.4476\n",
      "269m 10s (- 1801m 25s) (39 13%) - loss: 182.0900 - accuracy: 0.4555\n",
      "271m 7s (- 1762m 20s) (40 13%) - loss: 182.4896 - accuracy: 0.4553\n",
      "273m 6s (- 1725m 11s) (41 13%) - loss: 182.6725 - accuracy: 0.4467\n",
      "274m 59s (- 1689m 11s) (42 14%) - loss: 181.2968 - accuracy: 0.4522\n",
      "277m 1s (- 1655m 43s) (43 14%) - loss: 180.6429 - accuracy: 0.4552\n",
      "279m 3s (- 1623m 36s) (44 14%) - loss: 180.1524 - accuracy: 0.4595\n",
      "281m 7s (- 1593m 1s) (45 15%) - loss: 179.7724 - accuracy: 0.4603\n",
      "283m 3s (- 1563m 0s) (46 15%) - loss: 179.1051 - accuracy: 0.4565\n",
      "285m 0s (- 1534m 8s) (47 15%) - loss: 179.2269 - accuracy: 0.4677\n",
      "286m 57s (- 1506m 34s) (48 16%) - loss: 179.2636 - accuracy: 0.4615\n",
      "288m 50s (- 1479m 33s) (49 16%) - loss: 178.8728 - accuracy: 0.4552\n",
      "290m 56s (- 1454m 44s) (50 16%) - loss: 178.4671 - accuracy: 0.4665\n",
      "293m 9s (- 1431m 20s) (51 17%) - loss: 178.1655 - accuracy: 0.4598\n",
      "294m 56s (- 1406m 39s) (52 17%) - loss: 176.9003 - accuracy: 0.4624\n",
      "296m 45s (- 1382m 59s) (53 17%) - loss: 176.1941 - accuracy: 0.4610\n",
      "298m 34s (- 1360m 10s) (54 18%) - loss: 178.7478 - accuracy: 0.4660\n",
      "300m 22s (- 1338m 2s) (55 18%) - loss: 178.0681 - accuracy: 0.4525\n",
      "302m 12s (- 1316m 45s) (56 18%) - loss: 176.7119 - accuracy: 0.4710\n",
      "304m 6s (- 1296m 28s) (57 19%) - loss: 176.7563 - accuracy: 0.4633\n",
      "305m 52s (- 1276m 14s) (58 19%) - loss: 175.5216 - accuracy: 0.4591\n",
      "308m 32s (- 1260m 17s) (59 19%) - loss: 175.2520 - accuracy: 0.4641\n"
     ]
    }
   ],
   "source": [
    "learner.fit(\n",
    "    training_data=(X_train, y_train),\n",
    "    batch_size=64,\n",
    "    epochs=300,\n",
    "    callbacks=[\n",
    "        PrintLoggerCallback(log_every=1),\n",
    "        EarlyStoppingCallback(tolerance=0)\n",
    "    ]\n",
    ")"
   ]
  },
  {
   "cell_type": "code",
   "execution_count": null,
   "metadata": {},
   "outputs": [],
   "source": [
    "model(['I\\'m having diahrea'])"
   ]
  },
  {
   "cell_type": "code",
   "execution_count": null,
   "metadata": {},
   "outputs": [],
   "source": [
    "model(['the earth is flat'])"
   ]
  }
 ],
 "metadata": {
  "kernelspec": {
   "display_name": "Python 3",
   "language": "python",
   "name": "python3"
  },
  "language_info": {
   "codemirror_mode": {
    "name": "ipython",
    "version": 3
   },
   "file_extension": ".py",
   "mimetype": "text/x-python",
   "name": "python",
   "nbconvert_exporter": "python",
   "pygments_lexer": "ipython3",
   "version": "3.6.7"
  }
 },
 "nbformat": 4,
 "nbformat_minor": 2
}
