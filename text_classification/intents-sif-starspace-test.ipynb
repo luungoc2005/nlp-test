{
 "cells": [
  {
   "cell_type": "markdown",
   "metadata": {},
   "source": [
    "# Training an intents classification model\n",
    "\n",
    "Define constants"
   ]
  },
  {
   "cell_type": "code",
   "execution_count": 1,
   "metadata": {},
   "outputs": [],
   "source": [
    "from os import getcwd, path\n",
    "import sys\n",
    "import matplotlib.pyplot as plt\n",
    "import numpy as np\n",
    "\n",
    "BASE_PATH = path.dirname(getcwd())\n",
    "sys.path.append(BASE_PATH)\n",
    "\n",
    "DATA_UTILS = path.join(BASE_PATH, 'common/data_utils.py')\n",
    "TRAIN_PATH = path.join(BASE_PATH, 'kc_data.json')\n",
    "CLASSES_FILE = path.join(BASE_PATH, 'classes.json')"
   ]
  },
  {
   "cell_type": "code",
   "execution_count": 2,
   "metadata": {
    "scrolled": true
   },
   "outputs": [],
   "source": [
    "exec(open(DATA_UTILS).read())"
   ]
  },
  {
   "cell_type": "markdown",
   "metadata": {},
   "source": [
    "Use functions from the utils to extract and preprocess the training data\n",
    "Refer to `kc_data.json` for the sample data format\n",
    "`get_data_pairs` is then used to parse data into a tuple of `([list_of_sentences], [list_of_labels])`"
   ]
  },
  {
   "cell_type": "code",
   "execution_count": 3,
   "metadata": {},
   "outputs": [],
   "source": [
    "X_train, y_train = get_data_pairs(data_from_json(TRAIN_PATH))"
   ]
  },
  {
   "cell_type": "code",
   "execution_count": 4,
   "metadata": {},
   "outputs": [
    {
     "data": {
      "text/plain": [
       "'0.5.0a0+a24163a'"
      ]
     },
     "execution_count": 4,
     "metadata": {},
     "output_type": "execute_result"
    }
   ],
   "source": [
    "import torch\n",
    "torch.__version__"
   ]
  },
  {
   "cell_type": "markdown",
   "metadata": {},
   "source": [
    "Start training the classification model and save"
   ]
  },
  {
   "cell_type": "code",
   "execution_count": 5,
   "metadata": {},
   "outputs": [],
   "source": [
    "import torch.optim as optim\n",
    "from text_classification.sif_starspace.model import StarspaceClassifierWrapper\n",
    "from text_classification.sif_starspace.train import StarspaceClassifierLearner\n",
    "from common.callbacks import PrintLoggerCallback, EarlyStoppingCallback\n",
    "\n",
    "model = StarspaceClassifierWrapper()\n",
    "# learner = StarspaceClassifierLearner(model, \n",
    "#     optimizer_fn=optim.SGD, \n",
    "#     optimizer_kwargs={'lr': 0.01, 'momentum': 0.9}\n",
    "# )\n",
    "learner = StarspaceClassifierLearner(model)"
   ]
  },
  {
   "cell_type": "code",
   "execution_count": 6,
   "metadata": {},
   "outputs": [
    {
     "name": "stdout",
     "output_type": "stream",
     "text": [
      "1m 53s (- 563m 22s) (1 0%) - loss: 914.5382 - accuracy: 0.0923\n",
      "3m 46s (- 562m 19s) (2 0%) - loss: 734.0002 - accuracy: 0.3298\n",
      "5m 28s (- 542m 3s) (3 1%) - loss: 649.9254 - accuracy: 0.4224\n",
      "7m 19s (- 542m 32s) (4 1%) - loss: 596.3769 - accuracy: 0.4661\n",
      "9m 5s (- 535m 55s) (5 1%) - loss: 555.8648 - accuracy: 0.4962\n",
      "11m 33s (- 565m 59s) (6 2%) - loss: 521.5937 - accuracy: 0.5206\n",
      "13m 18s (- 557m 4s) (7 2%) - loss: 491.3354 - accuracy: 0.5337\n",
      "15m 6s (- 551m 39s) (8 2%) - loss: 462.9839 - accuracy: 0.5519\n",
      "16m 47s (- 543m 11s) (9 3%) - loss: 437.1207 - accuracy: 0.5641\n",
      "18m 28s (- 535m 51s) (10 3%) - loss: 412.1628 - accuracy: 0.5780\n",
      "20m 7s (- 528m 51s) (11 3%) - loss: 388.2298 - accuracy: 0.5929\n",
      "21m 56s (- 526m 34s) (12 4%) - loss: 366.4929 - accuracy: 0.5995\n",
      "23m 36s (- 521m 18s) (13 4%) - loss: 345.0561 - accuracy: 0.6071\n",
      "25m 23s (- 518m 38s) (14 4%) - loss: 325.2444 - accuracy: 0.6194\n",
      "27m 6s (- 514m 59s) (15 5%) - loss: 307.4852 - accuracy: 0.6314\n",
      "28m 44s (- 510m 15s) (16 5%) - loss: 290.1102 - accuracy: 0.6393\n",
      "30m 25s (- 506m 33s) (17 5%) - loss: 274.4192 - accuracy: 0.6481\n",
      "32m 8s (- 503m 30s) (18 6%) - loss: 259.8270 - accuracy: 0.6557\n",
      "33m 53s (- 501m 21s) (19 6%) - loss: 245.2848 - accuracy: 0.6645\n",
      "35m 28s (- 496m 36s) (20 6%) - loss: 232.8004 - accuracy: 0.6697\n",
      "37m 0s (- 491m 43s) (21 7%) - loss: 221.4317 - accuracy: 0.6811\n",
      "38m 40s (- 488m 41s) (22 7%) - loss: 210.3264 - accuracy: 0.6883\n",
      "40m 50s (- 491m 57s) (23 7%) - loss: 200.8937 - accuracy: 0.6965\n",
      "44m 0s (- 506m 8s) (24 8%) - loss: 191.8334 - accuracy: 0.7026\n",
      "48m 25s (- 532m 38s) (25 8%) - loss: 182.8441 - accuracy: 0.7098\n",
      "51m 46s (- 545m 42s) (26 8%) - loss: 175.2933 - accuracy: 0.7168\n",
      "53m 34s (- 541m 42s) (27 9%) - loss: 168.5460 - accuracy: 0.7239\n",
      "55m 9s (- 535m 50s) (28 9%) - loss: 162.1409 - accuracy: 0.7299\n",
      "56m 47s (- 530m 42s) (29 9%) - loss: 156.1248 - accuracy: 0.7354\n",
      "58m 36s (- 527m 24s) (30 10%) - loss: 150.6557 - accuracy: 0.7396\n",
      "60m 18s (- 523m 18s) (31 10%) - loss: 145.0762 - accuracy: 0.7453\n",
      "62m 41s (- 525m 6s) (32 10%) - loss: 140.1792 - accuracy: 0.7484\n",
      "65m 22s (- 528m 56s) (33 11%) - loss: 135.8097 - accuracy: 0.7520\n",
      "67m 12s (- 525m 51s) (34 11%) - loss: 132.1794 - accuracy: 0.7557\n",
      "68m 47s (- 520m 53s) (35 11%) - loss: 128.4269 - accuracy: 0.7561\n",
      "70m 29s (- 516m 55s) (36 12%) - loss: 124.7975 - accuracy: 0.7609\n",
      "72m 7s (- 512m 41s) (37 12%) - loss: 121.5465 - accuracy: 0.7630\n",
      "73m 43s (- 508m 21s) (38 12%) - loss: 118.3170 - accuracy: 0.7647\n",
      "75m 38s (- 506m 12s) (39 13%) - loss: 115.7101 - accuracy: 0.7681\n",
      "77m 12s (- 501m 52s) (40 13%) - loss: 113.5219 - accuracy: 0.7730\n",
      "78m 50s (- 497m 59s) (41 13%) - loss: 110.6094 - accuracy: 0.7730\n",
      "80m 25s (- 493m 59s) (42 14%) - loss: 108.3985 - accuracy: 0.7779\n",
      "82m 1s (- 490m 16s) (43 14%) - loss: 105.8618 - accuracy: 0.7797\n",
      "83m 40s (- 486m 47s) (44 14%) - loss: 103.9947 - accuracy: 0.7794\n",
      "85m 13s (- 482m 54s) (45 15%) - loss: 102.7557 - accuracy: 0.7824\n",
      "86m 51s (- 479m 36s) (46 15%) - loss: 100.0158 - accuracy: 0.7847\n",
      "88m 27s (- 476m 12s) (47 15%) - loss: 99.1186 - accuracy: 0.7878\n",
      "90m 3s (- 472m 49s) (48 16%) - loss: 97.7211 - accuracy: 0.7886\n",
      "91m 37s (- 469m 22s) (49 16%) - loss: 96.2316 - accuracy: 0.7878\n",
      "93m 10s (- 465m 53s) (50 16%) - loss: 94.0603 - accuracy: 0.7894\n",
      "94m 42s (- 462m 21s) (51 17%) - loss: 93.0359 - accuracy: 0.7907\n",
      "96m 13s (- 458m 56s) (52 17%) - loss: 92.0666 - accuracy: 0.7906\n",
      "97m 47s (- 455m 42s) (53 17%) - loss: 90.8789 - accuracy: 0.7917\n",
      "99m 19s (- 452m 27s) (54 18%) - loss: 89.5428 - accuracy: 0.7915\n",
      "100m 50s (- 449m 14s) (55 18%) - loss: 89.1519 - accuracy: 0.7944\n",
      "102m 23s (- 446m 9s) (56 18%) - loss: 87.5812 - accuracy: 0.7948\n",
      "103m 54s (- 443m 0s) (57 19%) - loss: 87.0946 - accuracy: 0.7970\n",
      "105m 26s (- 439m 57s) (58 19%) - loss: 85.9813 - accuracy: 0.7982\n",
      "106m 57s (- 436m 54s) (59 19%) - loss: 85.2841 - accuracy: 0.8000\n",
      "108m 29s (- 433m 57s) (60 20%) - loss: 84.2467 - accuracy: 0.7984\n",
      "110m 0s (- 431m 2s) (61 20%) - loss: 83.6365 - accuracy: 0.7984\n",
      "111m 33s (- 428m 14s) (62 20%) - loss: 82.9981 - accuracy: 0.8001\n",
      "113m 5s (- 425m 27s) (63 21%) - loss: 81.6837 - accuracy: 0.8017\n",
      "114m 34s (- 422m 30s) (64 21%) - loss: 81.8729 - accuracy: 0.8008\n",
      "116m 3s (- 419m 36s) (65 21%) - loss: 81.2440 - accuracy: 0.8015\n",
      "117m 37s (- 417m 3s) (66 22%) - loss: 80.6286 - accuracy: 0.8041\n",
      "119m 6s (- 414m 14s) (67 22%) - loss: 80.1473 - accuracy: 0.8041\n",
      "120m 36s (- 411m 28s) (68 22%) - loss: 79.2183 - accuracy: 0.8021\n",
      "122m 5s (- 408m 44s) (69 23%) - loss: 79.1261 - accuracy: 0.8005\n",
      "123m 35s (- 406m 3s) (70 23%) - loss: 78.5819 - accuracy: 0.8024\n",
      "125m 4s (- 403m 23s) (71 23%) - loss: 78.2394 - accuracy: 0.8039\n",
      "126m 32s (- 400m 43s) (72 24%) - loss: 77.9543 - accuracy: 0.8051\n",
      "128m 2s (- 398m 9s) (73 24%) - loss: 77.6287 - accuracy: 0.8035\n",
      "129m 32s (- 395m 36s) (74 24%) - loss: 77.0834 - accuracy: 0.8042\n",
      "131m 0s (- 393m 2s) (75 25%) - loss: 77.0388 - accuracy: 0.8023\n",
      "132m 30s (- 390m 32s) (76 25%) - loss: 76.5250 - accuracy: 0.8051\n",
      "134m 0s (- 388m 6s) (77 25%) - loss: 75.8209 - accuracy: 0.8048\n",
      "135m 30s (- 385m 40s) (78 26%) - loss: 75.8655 - accuracy: 0.8066\n",
      "137m 0s (- 383m 17s) (79 26%) - loss: 75.3554 - accuracy: 0.8064\n",
      "138m 39s (- 381m 19s) (80 26%) - loss: 75.2283 - accuracy: 0.8052\n",
      "140m 14s (- 379m 10s) (81 27%) - loss: 75.3126 - accuracy: 0.8064\n",
      "141m 48s (- 377m 0s) (82 27%) - loss: 74.5996 - accuracy: 0.8073\n",
      "143m 22s (- 374m 50s) (83 27%) - loss: 74.4161 - accuracy: 0.8070\n",
      "145m 33s (- 374m 17s) (84 28%) - loss: 74.4863 - accuracy: 0.8100\n",
      "147m 9s (- 372m 12s) (85 28%) - loss: 73.8831 - accuracy: 0.8044\n",
      "148m 47s (- 370m 14s) (86 28%) - loss: 73.7791 - accuracy: 0.8066\n",
      "150m 21s (- 368m 7s) (87 28%) - loss: 73.4078 - accuracy: 0.8074\n",
      "151m 55s (- 365m 59s) (88 29%) - loss: 73.3153 - accuracy: 0.8075\n",
      "153m 31s (- 363m 57s) (89 29%) - loss: 73.1150 - accuracy: 0.8074\n",
      "155m 7s (- 361m 58s) (90 30%) - loss: 72.6678 - accuracy: 0.8072\n",
      "156m 40s (- 359m 50s) (91 30%) - loss: 73.0910 - accuracy: 0.8098\n",
      "363m 48s (- 822m 31s) (92 30%) - loss: 72.7143 - accuracy: 0.8093\n",
      "365m 49s (- 814m 14s) (93 31%) - loss: 73.1150 - accuracy: 0.8072\n",
      "367m 26s (- 805m 15s) (94 31%) - loss: 72.5451 - accuracy: 0.8083\n",
      "369m 6s (- 796m 28s) (95 31%) - loss: 72.6285 - accuracy: 0.8087\n",
      "370m 45s (- 787m 52s) (96 32%) - loss: 71.5283 - accuracy: 0.8066\n",
      "372m 18s (- 779m 9s) (97 32%) - loss: 71.7948 - accuracy: 0.8099\n",
      "373m 53s (- 770m 40s) (98 32%) - loss: 71.9451 - accuracy: 0.8108\n",
      "375m 27s (- 762m 18s) (99 33%) - loss: 71.6081 - accuracy: 0.8078\n",
      "377m 0s (- 754m 1s) (100 33%) - loss: 71.2199 - accuracy: 0.8097\n",
      "378m 39s (- 746m 4s) (101 33%) - loss: 71.2380 - accuracy: 0.8098\n",
      "380m 11s (- 738m 2s) (102 34%) - loss: 71.0810 - accuracy: 0.8102\n",
      "381m 50s (- 730m 18s) (103 34%) - loss: 71.1183 - accuracy: 0.8084\n",
      "383m 29s (- 722m 43s) (104 34%) - loss: 71.3356 - accuracy: 0.8092\n",
      "385m 17s (- 715m 32s) (105 35%) - loss: 71.2723 - accuracy: 0.8092\n",
      "386m 50s (- 707m 59s) (106 35%) - loss: 70.9005 - accuracy: 0.8093\n",
      "388m 28s (- 700m 42s) (107 35%) - loss: 71.1138 - accuracy: 0.8088\n",
      "390m 1s (- 693m 22s) (108 36%) - loss: 70.5167 - accuracy: 0.8103\n",
      "391m 37s (- 686m 14s) (109 36%) - loss: 70.8845 - accuracy: 0.8087\n",
      "393m 9s (- 679m 5s) (110 36%) - loss: 70.2705 - accuracy: 0.8110\n",
      "394m 45s (- 672m 8s) (111 37%) - loss: 70.1960 - accuracy: 0.8110\n",
      "396m 17s (- 665m 12s) (112 37%) - loss: 70.1643 - accuracy: 0.8099\n",
      "397m 50s (- 658m 22s) (113 37%) - loss: 70.1356 - accuracy: 0.8091\n",
      "399m 20s (- 651m 33s) (114 38%) - loss: 70.4575 - accuracy: 0.8109\n",
      "400m 52s (- 644m 53s) (115 38%) - loss: 69.9758 - accuracy: 0.8119\n",
      "402m 22s (- 638m 14s) (116 38%) - loss: 70.0723 - accuracy: 0.8109\n",
      "403m 59s (- 631m 52s) (117 39%) - loss: 69.7765 - accuracy: 0.8115\n",
      "405m 59s (- 626m 10s) (118 39%) - loss: 70.0331 - accuracy: 0.8107\n",
      "407m 37s (- 619m 59s) (119 39%) - loss: 70.1744 - accuracy: 0.8118\n",
      "409m 12s (- 613m 48s) (120 40%) - loss: 69.6166 - accuracy: 0.8109\n",
      "410m 50s (- 607m 46s) (121 40%) - loss: 69.4074 - accuracy: 0.8111\n",
      "412m 38s (- 602m 2s) (122 40%) - loss: 69.5650 - accuracy: 0.8101\n",
      "414m 17s (- 596m 10s) (123 41%) - loss: 69.9188 - accuracy: 0.8110\n",
      "415m 57s (- 590m 23s) (124 41%) - loss: 69.6174 - accuracy: 0.8112\n",
      "417m 37s (- 584m 41s) (125 41%) - loss: 69.6440 - accuracy: 0.8090\n",
      "419m 20s (- 579m 5s) (126 42%) - loss: 69.4739 - accuracy: 0.8082\n",
      "Best monitor value `loss` == 69.473923 reached. Early stopping\n"
     ]
    }
   ],
   "source": [
    "learner.fit(\n",
    "    training_data=(X_train, y_train),\n",
    "    batch_size=64,\n",
    "    epochs=300,\n",
    "    callbacks=[\n",
    "        PrintLoggerCallback(log_every=1),\n",
    "        EarlyStoppingCallback(tolerance=0)\n",
    "    ]\n",
    ")"
   ]
  },
  {
   "cell_type": "code",
   "execution_count": 7,
   "metadata": {},
   "outputs": [
    {
     "data": {
      "text/plain": [
       "[[{'confidence': 0.7043687105178833,\n",
       "   'intent': 'General - Depression - Generic'},\n",
       "  {'confidence': 0.6343507170677185, 'intent': 'BabyGender - Unhappy'},\n",
       "  {'confidence': 0.619273841381073,\n",
       "   'intent': 'General - I Hate Being Pregnant'},\n",
       "  {'confidence': 0.5730706453323364, 'intent': 'SmallTalk - UserIsAnnoyed'},\n",
       "  {'confidence': 0.5696707367897034,\n",
       "   'intent': 'Medical - PostPartum Depression - What - Lvl3'}]]"
      ]
     },
     "execution_count": 7,
     "metadata": {},
     "output_type": "execute_result"
    }
   ],
   "source": [
    "model(['I\\'m having diahrea'])"
   ]
  },
  {
   "cell_type": "code",
   "execution_count": 8,
   "metadata": {},
   "outputs": [
    {
     "data": {
      "text/plain": [
       "[[{'confidence': 0.4830198585987091,\n",
       "   'intent': 'Trimester - Third - How big IT'},\n",
       "  {'confidence': 0.4711604416370392, 'intent': 'Trimester - How Big'},\n",
       "  {'confidence': 0.43384605646133423,\n",
       "   'intent': 'Birth - Labour - Epidural - What is it IC'},\n",
       "  {'confidence': 0.4299301505088806, 'intent': 'Trimester - First - How big'},\n",
       "  {'confidence': 0.4291103482246399,\n",
       "   'intent': 'Trimester - Second - how big'}]]"
      ]
     },
     "execution_count": 8,
     "metadata": {},
     "output_type": "execute_result"
    }
   ],
   "source": [
    "model(['the earth is flat'])"
   ]
  }
 ],
 "metadata": {
  "kernelspec": {
   "display_name": "Python 3",
   "language": "python",
   "name": "python3"
  },
  "language_info": {
   "codemirror_mode": {
    "name": "ipython",
    "version": 3
   },
   "file_extension": ".py",
   "mimetype": "text/x-python",
   "name": "python",
   "nbconvert_exporter": "python",
   "pygments_lexer": "ipython3",
   "version": "3.5.0"
  }
 },
 "nbformat": 4,
 "nbformat_minor": 2
}
