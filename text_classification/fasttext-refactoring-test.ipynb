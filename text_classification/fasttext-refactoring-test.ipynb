{
 "cells": [
  {
   "cell_type": "markdown",
   "metadata": {},
   "source": [
    "# Training an intents classification model\n",
    "\n",
    "Define constants"
   ]
  },
  {
   "cell_type": "code",
   "execution_count": 1,
   "metadata": {},
   "outputs": [],
   "source": [
    "from os import getcwd, path\n",
    "import sys\n",
    "import matplotlib.pyplot as plt\n",
    "import numpy as np\n",
    "\n",
    "BASE_PATH = path.dirname(getcwd())\n",
    "sys.path.append(BASE_PATH)\n",
    "\n",
    "DATA_UTILS = path.join(BASE_PATH, 'common/data_utils.py')\n",
    "TRAIN_PATH = path.join(BASE_PATH, 'kc_data.json')\n",
    "CLASSES_FILE = path.join(BASE_PATH, 'classes.json')"
   ]
  },
  {
   "cell_type": "code",
   "execution_count": 2,
   "metadata": {
    "scrolled": true
   },
   "outputs": [],
   "source": [
    "exec(open(DATA_UTILS).read())"
   ]
  },
  {
   "cell_type": "markdown",
   "metadata": {},
   "source": [
    "Use functions from the utils to extract and preprocess the training data\n",
    "Refer to `kc_data.json` for the sample data format\n",
    "`get_data_pairs` is then used to parse data into a tuple of `([list_of_sentences], [list_of_labels])`"
   ]
  },
  {
   "cell_type": "code",
   "execution_count": 3,
   "metadata": {},
   "outputs": [],
   "source": [
    "X_train, y_train = get_data_pairs(data_from_json(TRAIN_PATH))"
   ]
  },
  {
   "cell_type": "code",
   "execution_count": 4,
   "metadata": {},
   "outputs": [
    {
     "data": {
      "text/plain": [
       "'0.4.1'"
      ]
     },
     "execution_count": 4,
     "metadata": {},
     "output_type": "execute_result"
    }
   ],
   "source": [
    "import torch\n",
    "torch.__version__"
   ]
  },
  {
   "cell_type": "markdown",
   "metadata": {},
   "source": [
    "Start training the classification model and save"
   ]
  },
  {
   "cell_type": "code",
   "execution_count": null,
   "metadata": {},
   "outputs": [],
   "source": [
    "from text_classification.fast_text.model import FastTextWrapper\n",
    "from text_classification.fast_text.train import FastTextLearner\n",
    "from common.callbacks import PrintLoggerCallback\n",
    "\n",
    "model = FastTextWrapper()\n",
    "learner = FastTextLearner(\n",
    "    model,\n",
    "    optimizer_fn='adam'\n",
    "#     optimizer_fn='sgd',\n",
    "#     optimizer_kwargs={'lr': 1e-2, 'momentum': .7}\n",
    ")"
   ]
  },
  {
   "cell_type": "code",
   "execution_count": null,
   "metadata": {},
   "outputs": [
    {
     "name": "stdout",
     "output_type": "stream",
     "text": [
      "1m 57s (- 37m 14s) (161-5 5%) - 6.00 it/s - loss: 7.2455 - accuracy: 0.0011\n",
      "4m 9s (- 37m 21s) (161-10 10%) - 5.98 it/s - loss: 6.3862 - accuracy: 0.0293\n",
      "6m 20s (- 35m 55s) (161-15 15%) - 6.11 it/s - loss: 4.4117 - accuracy: 0.2061\n",
      "8m 17s (- 33m 8s) (161-20 20%) - 6.85 it/s - loss: 2.7863 - accuracy: 0.4286\n",
      "10m 7s (- 30m 22s) (161-25 25%) - 7.18 it/s - loss: 1.7601 - accuracy: 0.6134\n",
      "11m 59s (- 27m 57s) (161-30 30%) - 7.47 it/s - loss: 1.1500 - accuracy: 0.7317\n",
      "13m 41s (- 25m 25s) (161-35 35%) - 8.01 it/s - loss: 0.7913 - accuracy: 0.8079\n",
      "15m 29s (- 23m 13s) (161-40 40%) - 6.28 it/s - loss: 0.5725 - accuracy: 0.8569\n",
      "17m 31s (- 21m 24s) (161-45 45%) - 7.75 it/s - loss: 0.4399 - accuracy: 0.8876\n",
      "19m 16s (- 19m 16s) (161-50 50%) - 7.33 it/s - loss: 0.3611 - accuracy: 0.9061\n",
      "21m 24s (- 17m 30s) (161-55 55%) - 6.19 it/s - loss: 0.3059 - accuracy: 0.9191\n",
      "23m 35s (- 15m 43s) (161-60 60%) - 5.80 it/s - loss: 0.2731 - accuracy: 0.9258\n",
      "25m 49s (- 13m 54s) (161-65 65%) - 5.41 it/s - loss: 0.2465 - accuracy: 0.9306\n",
      "27m 52s (- 11m 56s) (161-70 70%) - 5.79 it/s - loss: 0.2306 - accuracy: 0.9350\n",
      "30m 16s (- 10m 5s) (161-75 75%) - 4.35 it/s - loss: 0.2221 - accuracy: 0.9362\n",
      "32m 29s (- 8m 7s) (161-80 80%) - 5.72 it/s - loss: 0.2164 - accuracy: 0.9374\n",
      "34m 48s (- 6m 8s) (161-85 85%) - 5.52 it/s - loss: 0.2074 - accuracy: 0.9396\n",
      "36m 47s (- 4m 5s) (161-90 90%) - 7.43 it/s - loss: 0.2077 - accuracy: 0.9374\n"
     ]
    }
   ],
   "source": [
    "learner.fit(\n",
    "    training_data=(X_train, y_train), \n",
    "    epochs=100, \n",
    "    callbacks=[PrintLoggerCallback(log_every=5, metrics=['loss', 'accuracy'])]\n",
    ")"
   ]
  },
  {
   "cell_type": "code",
   "execution_count": null,
   "metadata": {},
   "outputs": [],
   "source": [
    "model(['the earth is flat'])"
   ]
  }
 ],
 "metadata": {
  "kernelspec": {
   "display_name": "Python 3",
   "language": "python",
   "name": "python3"
  },
  "language_info": {
   "codemirror_mode": {
    "name": "ipython",
    "version": 3
   },
   "file_extension": ".py",
   "mimetype": "text/x-python",
   "name": "python",
   "nbconvert_exporter": "python",
   "pygments_lexer": "ipython3",
   "version": "3.6.0"
  }
 },
 "nbformat": 4,
 "nbformat_minor": 2
}
