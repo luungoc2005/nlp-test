{
 "cells": [
  {
   "cell_type": "markdown",
   "metadata": {},
   "source": [
    "# Training an intents classification model\n",
    "\n",
    "Define constants"
   ]
  },
  {
   "cell_type": "code",
   "execution_count": 1,
   "metadata": {},
   "outputs": [],
   "source": [
    "from os import getcwd, path\n",
    "import sys\n",
    "import matplotlib.pyplot as plt\n",
    "import numpy as np\n",
    "\n",
    "BASE_PATH = path.dirname(getcwd())\n",
    "sys.path.append(BASE_PATH)\n",
    "\n",
    "DATA_UTILS = path.join(BASE_PATH, 'common/data_utils.py')\n",
    "TRAIN_PATH = path.join(BASE_PATH, 'kc_data.json')\n",
    "CLASSES_FILE = path.join(BASE_PATH, 'classes.json')"
   ]
  },
  {
   "cell_type": "code",
   "execution_count": 2,
   "metadata": {
    "scrolled": true
   },
   "outputs": [],
   "source": [
    "exec(open(DATA_UTILS).read())"
   ]
  },
  {
   "cell_type": "markdown",
   "metadata": {},
   "source": [
    "Use functions from the utils to extract and preprocess the training data\n",
    "Refer to `kc_data.json` for the sample data format\n",
    "`get_data_pairs` is then used to parse data into a tuple of `([list_of_sentences], [list_of_labels])`"
   ]
  },
  {
   "cell_type": "code",
   "execution_count": 3,
   "metadata": {},
   "outputs": [],
   "source": [
    "X_train, y_train = get_data_pairs(data_from_json(TRAIN_PATH))"
   ]
  },
  {
   "cell_type": "code",
   "execution_count": 4,
   "metadata": {},
   "outputs": [
    {
     "data": {
      "text/plain": [
       "'0.4.1'"
      ]
     },
     "execution_count": 4,
     "metadata": {},
     "output_type": "execute_result"
    }
   ],
   "source": [
    "import torch\n",
    "torch.__version__"
   ]
  },
  {
   "cell_type": "markdown",
   "metadata": {},
   "source": [
    "Start training the classification model and save"
   ]
  },
  {
   "cell_type": "code",
   "execution_count": 5,
   "metadata": {},
   "outputs": [],
   "source": [
    "from text_classification.fast_text.model import FastTextWrapper\n",
    "from text_classification.fast_text.train import FastTextLearner\n",
    "from common.callbacks import PrintLoggerCallback\n",
    "\n",
    "model = FastTextWrapper()\n",
    "learner = FastTextLearner(\n",
    "    model,\n",
    "    optimizer_fn='adam'\n",
    "#     optimizer_fn='sgd',\n",
    "#     optimizer_kwargs={'lr': 1e-2, 'momentum': .7}\n",
    ")"
   ]
  },
  {
   "cell_type": "code",
   "execution_count": 6,
   "metadata": {},
   "outputs": [
    {
     "name": "stdout",
     "output_type": "stream",
     "text": [
      "4m 59s (- 94m 41s) (5 5%) - loss: 7.3165 - accuracy: 0.0003\n",
      "39m 47s (- 358m 7s) (10 10%) - loss: 7.3011 - accuracy: 0.0004\n",
      "243m 11s (- 1378m 6s) (15 15%) - loss: 7.2418 - accuracy: 0.0005\n",
      "256m 5s (- 1024m 23s) (20 20%) - loss: 6.8352 - accuracy: 0.0069\n",
      "377m 20s (- 1132m 0s) (25 25%) - loss: 6.2493 - accuracy: 0.0200\n",
      "382m 50s (- 893m 17s) (30 30%) - loss: 5.4518 - accuracy: 0.0626\n",
      "390m 46s (- 725m 43s) (35 35%) - loss: 4.6271 - accuracy: 0.1345\n",
      "401m 53s (- 602m 49s) (40 40%) - loss: 3.8709 - accuracy: 0.2311\n",
      "529m 35s (- 647m 16s) (45 45%) - loss: 3.1973 - accuracy: 0.3263\n",
      "535m 49s (- 535m 49s) (50 50%) - loss: 2.6046 - accuracy: 0.4231\n",
      "545m 58s (- 446m 42s) (55 55%) - loss: 2.0956 - accuracy: 0.5149\n",
      "558m 35s (- 372m 23s) (60 60%) - loss: 1.6988 - accuracy: 0.5952\n",
      "571m 24s (- 307m 40s) (65 65%) - loss: 1.3671 - accuracy: 0.6625\n",
      "584m 41s (- 250m 34s) (70 70%) - loss: 1.1025 - accuracy: 0.7223\n",
      "595m 54s (- 198m 38s) (75 75%) - loss: 0.9022 - accuracy: 0.7672\n",
      "712m 24s (- 178m 6s) (80 80%) - loss: 0.7438 - accuracy: 0.8066\n",
      "717m 14s (- 126m 34s) (85 85%) - loss: 0.6219 - accuracy: 0.8354\n",
      "722m 10s (- 80m 14s) (90 90%) - loss: 0.5249 - accuracy: 0.8573\n",
      "727m 3s (- 38m 15s) (95 95%) - loss: 0.4471 - accuracy: 0.8768\n",
      "731m 20s (- 0m 0s) (100 100%) - loss: 0.3953 - accuracy: 0.8916\n"
     ]
    }
   ],
   "source": [
    "learner.fit(\n",
    "    training_data=(X_train, y_train), \n",
    "    epochs=100, \n",
    "    callbacks=[PrintLoggerCallback(log_every=5, metrics=['loss', 'accuracy'])]\n",
    ")"
   ]
  },
  {
   "cell_type": "code",
   "execution_count": 7,
   "metadata": {},
   "outputs": [
    {
     "name": "stderr",
     "output_type": "stream",
     "text": [
      "/Users/2359media/anaconda/envs/botbot-nlp/lib/python3.5/site-packages/sklearn/preprocessing/label.py:151: DeprecationWarning: The truth value of an empty array is ambiguous. Returning False, but in future this will result in an error. Use `array.size > 0` to check that an array is not empty.\n",
      "  if diff:\n"
     ]
    },
    {
     "data": {
      "text/plain": [
       "[[{'confidence': 0.07254800945520401,\n",
       "   'intent': 'Postnatal - 6 week check up'}]]"
      ]
     },
     "execution_count": 7,
     "metadata": {},
     "output_type": "execute_result"
    }
   ],
   "source": [
    "model(['the earth is flat'])"
   ]
  }
 ],
 "metadata": {
  "kernelspec": {
   "display_name": "Python 3",
   "language": "python",
   "name": "python3"
  },
  "language_info": {
   "codemirror_mode": {
    "name": "ipython",
    "version": 3
   },
   "file_extension": ".py",
   "mimetype": "text/x-python",
   "name": "python",
   "nbconvert_exporter": "python",
   "pygments_lexer": "ipython3",
   "version": "3.5.0"
  }
 },
 "nbformat": 4,
 "nbformat_minor": 2
}
