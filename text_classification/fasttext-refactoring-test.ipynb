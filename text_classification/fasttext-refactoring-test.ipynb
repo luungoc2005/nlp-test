{
 "cells": [
  {
   "cell_type": "markdown",
   "metadata": {},
   "source": [
    "# Training an intents classification model\n",
    "\n",
    "Define constants"
   ]
  },
  {
   "cell_type": "code",
   "execution_count": 1,
   "metadata": {},
   "outputs": [],
   "source": [
    "from os import getcwd, path\n",
    "import sys\n",
    "import matplotlib.pyplot as plt\n",
    "import numpy as np\n",
    "\n",
    "BASE_PATH = path.dirname(getcwd())\n",
    "sys.path.append(BASE_PATH)\n",
    "\n",
    "DATA_UTILS = path.join(BASE_PATH, 'common/data_utils.py')\n",
    "TRAIN_PATH = path.join(BASE_PATH, 'kc_data.json')\n",
    "CLASSES_FILE = path.join(BASE_PATH, 'classes.json')"
   ]
  },
  {
   "cell_type": "code",
   "execution_count": 2,
   "metadata": {
    "scrolled": true
   },
   "outputs": [],
   "source": [
    "exec(open(DATA_UTILS).read())"
   ]
  },
  {
   "cell_type": "markdown",
   "metadata": {},
   "source": [
    "Use functions from the utils to extract and preprocess the training data\n",
    "Refer to `kc_data.json` for the sample data format\n",
    "`get_data_pairs` is then used to parse data into a tuple of `([list_of_sentences], [list_of_labels])`"
   ]
  },
  {
   "cell_type": "code",
   "execution_count": 3,
   "metadata": {},
   "outputs": [],
   "source": [
    "X_train, y_train = get_data_pairs(data_from_json(TRAIN_PATH))"
   ]
  },
  {
   "cell_type": "code",
   "execution_count": 4,
   "metadata": {},
   "outputs": [
    {
     "data": {
      "text/plain": [
       "'0.4.1'"
      ]
     },
     "execution_count": 4,
     "metadata": {},
     "output_type": "execute_result"
    }
   ],
   "source": [
    "import torch\n",
    "torch.__version__"
   ]
  },
  {
   "cell_type": "markdown",
   "metadata": {},
   "source": [
    "Start training the classification model and save"
   ]
  },
  {
   "cell_type": "code",
   "execution_count": 5,
   "metadata": {},
   "outputs": [],
   "source": [
    "from text_classification.fast_text.model import FastTextWrapper\n",
    "from text_classification.fast_text.train import FastTextLearner\n",
    "from common.callbacks import PrintLoggerCallback\n",
    "\n",
    "model = FastTextWrapper()\n",
    "learner = FastTextLearner(\n",
    "    model,\n",
    "    optimizer_fn='adam'\n",
    "#     optimizer_fn='sgd',\n",
    "#     optimizer_kwargs={'lr': 1e-2, 'momentum': .7}\n",
    ")"
   ]
  },
  {
   "cell_type": "code",
   "execution_count": 6,
   "metadata": {},
   "outputs": [
    {
     "name": "stdout",
     "output_type": "stream",
     "text": [
      "3m 59s (- 75m 53s) (5 5%) - loss: 7.3104 - accuracy: 0.0001\n",
      "7m 53s (- 71m 2s) (10 10%) - loss: 7.2984 - accuracy: 0.0007\n",
      "12m 12s (- 69m 9s) (15 15%) - loss: 7.2624 - accuracy: 0.0004\n",
      "16m 40s (- 66m 40s) (20 20%) - loss: 6.9751 - accuracy: 0.0045\n",
      "21m 5s (- 63m 15s) (25 25%) - loss: 6.3710 - accuracy: 0.0162\n",
      "25m 42s (- 60m 0s) (30 30%) - loss: 5.5602 - accuracy: 0.0505\n",
      "30m 0s (- 55m 44s) (35 35%) - loss: 4.7868 - accuracy: 0.1196\n",
      "34m 28s (- 51m 43s) (40 40%) - loss: 3.9947 - accuracy: 0.2151\n",
      "39m 7s (- 47m 49s) (45 45%) - loss: 3.2454 - accuracy: 0.3244\n",
      "43m 15s (- 43m 15s) (50 50%) - loss: 2.5946 - accuracy: 0.4327\n",
      "47m 28s (- 38m 50s) (55 55%) - loss: 2.0613 - accuracy: 0.5304\n",
      "51m 40s (- 34m 26s) (60 60%) - loss: 1.6376 - accuracy: 0.6087\n",
      "55m 33s (- 29m 55s) (65 65%) - loss: 1.2984 - accuracy: 0.6766\n",
      "60m 24s (- 25m 53s) (70 70%) - loss: 1.0410 - accuracy: 0.7364\n",
      "64m 32s (- 21m 30s) (75 75%) - loss: 0.8366 - accuracy: 0.7810\n",
      "68m 42s (- 17m 10s) (80 80%) - loss: 0.6873 - accuracy: 0.8188\n",
      "73m 33s (- 12m 58s) (85 85%) - loss: 0.5683 - accuracy: 0.8485\n",
      "77m 43s (- 8m 38s) (90 90%) - loss: 0.4772 - accuracy: 0.8715\n",
      "96m 10s (- 5m 3s) (95 95%) - loss: 0.4145 - accuracy: 0.8869\n",
      "100m 24s (- 0m 0s) (100 100%) - loss: 0.3605 - accuracy: 0.8997\n"
     ]
    }
   ],
   "source": [
    "learner.fit(\n",
    "    training_data=(X_train, y_train), \n",
    "    epochs=100, \n",
    "    callbacks=[PrintLoggerCallback(log_every=5, metrics=['loss', 'accuracy'])]\n",
    ")"
   ]
  },
  {
   "cell_type": "code",
   "execution_count": 7,
   "metadata": {},
   "outputs": [
    {
     "name": "stderr",
     "output_type": "stream",
     "text": [
      "/Users/2359media/anaconda/envs/botbot-nlp/lib/python3.5/site-packages/sklearn/preprocessing/label.py:151: DeprecationWarning: The truth value of an empty array is ambiguous. Returning False, but in future this will result in an error. Use `array.size > 0` to check that an array is not empty.\n",
      "  if diff:\n"
     ]
    },
    {
     "data": {
      "text/plain": [
       "[[{'confidence': 0.3500988781452179,\n",
       "   'intent': 'Medical - VaginalBleeding - Abnormal - IT'},\n",
       "  {'confidence': 0.0779515877366066,\n",
       "   'intent': 'Birth - Labour - Pain - Opiate'},\n",
       "  {'confidence': 0.06208527460694313, 'intent': 'Prenatal - Movement - Why'},\n",
       "  {'confidence': 0.05870233476161957,\n",
       "   'intent': 'Trimester - Second - how big'},\n",
       "  {'confidence': 0.05016434192657471,\n",
       "   'intent': 'Medical - Perineal - What is it'}]]"
      ]
     },
     "execution_count": 7,
     "metadata": {},
     "output_type": "execute_result"
    }
   ],
   "source": [
    "model(['the earth is flat'])"
   ]
  }
 ],
 "metadata": {
  "kernelspec": {
   "display_name": "Python 3",
   "language": "python",
   "name": "python3"
  },
  "language_info": {
   "codemirror_mode": {
    "name": "ipython",
    "version": 3
   },
   "file_extension": ".py",
   "mimetype": "text/x-python",
   "name": "python",
   "nbconvert_exporter": "python",
   "pygments_lexer": "ipython3",
   "version": "3.5.0"
  }
 },
 "nbformat": 4,
 "nbformat_minor": 2
}
