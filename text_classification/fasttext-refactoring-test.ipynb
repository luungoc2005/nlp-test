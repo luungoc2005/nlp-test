{
 "cells": [
  {
   "cell_type": "markdown",
   "metadata": {},
   "source": [
    "# Training an intents classification model\n",
    "\n",
    "Define constants"
   ]
  },
  {
   "cell_type": "code",
   "execution_count": 1,
   "metadata": {},
   "outputs": [],
   "source": [
    "from os import getcwd, path\n",
    "import sys\n",
    "import matplotlib.pyplot as plt\n",
    "import numpy as np\n",
    "\n",
    "BASE_PATH = path.dirname(getcwd())\n",
    "sys.path.append(BASE_PATH)\n",
    "\n",
    "DATA_UTILS = path.join(BASE_PATH, 'common/data_utils.py')\n",
    "TRAIN_PATH = path.join(BASE_PATH, 'kc_data.json')\n",
    "CLASSES_FILE = path.join(BASE_PATH, 'classes.json')"
   ]
  },
  {
   "cell_type": "code",
   "execution_count": 2,
   "metadata": {
    "scrolled": true
   },
   "outputs": [],
   "source": [
    "exec(open(DATA_UTILS).read())"
   ]
  },
  {
   "cell_type": "markdown",
   "metadata": {},
   "source": [
    "Use functions from the utils to extract and preprocess the training data\n",
    "Refer to `kc_data.json` for the sample data format\n",
    "`get_data_pairs` is then used to parse data into a tuple of `([list_of_sentences], [list_of_labels])`"
   ]
  },
  {
   "cell_type": "code",
   "execution_count": 3,
   "metadata": {},
   "outputs": [],
   "source": [
    "X_train, y_train = get_data_pairs(data_from_json(TRAIN_PATH))"
   ]
  },
  {
   "cell_type": "code",
   "execution_count": 4,
   "metadata": {},
   "outputs": [
    {
     "data": {
      "text/plain": [
       "'1.0.0.dev20180929'"
      ]
     },
     "execution_count": 4,
     "metadata": {},
     "output_type": "execute_result"
    }
   ],
   "source": [
    "import torch\n",
    "torch.__version__"
   ]
  },
  {
   "cell_type": "markdown",
   "metadata": {},
   "source": [
    "Start training the classification model and save"
   ]
  },
  {
   "cell_type": "code",
   "execution_count": 5,
   "metadata": {},
   "outputs": [],
   "source": [
    "from text_classification.fast_text.model import FastTextWrapper\n",
    "from text_classification.fast_text.train import FastTextLearner\n",
    "from common.callbacks import PrintLoggerCallback\n",
    "\n",
    "model = FastTextWrapper()\n",
    "learner = FastTextLearner(\n",
    "    model,\n",
    "    optimizer_fn='adam'\n",
    "#     optimizer_fn='sgd',\n",
    "#     optimizer_kwargs={'lr': 1e-2, 'momentum': .7}\n",
    ")"
   ]
  },
  {
   "cell_type": "code",
   "execution_count": 6,
   "metadata": {},
   "outputs": [
    {
     "name": "stdout",
     "output_type": "stream",
     "text": [
      "3m 48s (- 72m 19s) (5 5%) - loss: 7.3124 - accuracy: 0.0008\n",
      "7m 14s (- 65m 7s) (10 10%) - loss: 7.3028 - accuracy: 0.0001\n",
      "10m 44s (- 60m 53s) (15 15%) - loss: 7.2802 - accuracy: 0.0006\n",
      "14m 12s (- 56m 51s) (20 20%) - loss: 7.1841 - accuracy: 0.0018\n",
      "17m 25s (- 52m 16s) (25 25%) - loss: 6.5916 - accuracy: 0.0085\n",
      "21m 17s (- 49m 39s) (30 30%) - loss: 5.8524 - accuracy: 0.0436\n",
      "24m 19s (- 45m 9s) (35 35%) - loss: 4.9364 - accuracy: 0.1166\n",
      "27m 45s (- 41m 37s) (40 40%) - loss: 4.0609 - accuracy: 0.2122\n",
      "30m 40s (- 37m 29s) (45 45%) - loss: 3.2985 - accuracy: 0.3176\n",
      "34m 5s (- 34m 5s) (50 50%) - loss: 2.6652 - accuracy: 0.4165\n",
      "38m 2s (- 31m 7s) (55 55%) - loss: 2.1321 - accuracy: 0.5138\n",
      "41m 50s (- 27m 53s) (60 60%) - loss: 1.7111 - accuracy: 0.5927\n",
      "45m 17s (- 24m 23s) (65 65%) - loss: 1.3769 - accuracy: 0.6570\n",
      "49m 11s (- 21m 4s) (70 70%) - loss: 1.1090 - accuracy: 0.7208\n",
      "53m 11s (- 17m 43s) (75 75%) - loss: 0.8986 - accuracy: 0.7678\n",
      "56m 15s (- 14m 3s) (80 80%) - loss: 0.7406 - accuracy: 0.8013\n",
      "59m 13s (- 10m 27s) (85 85%) - loss: 0.6144 - accuracy: 0.8351\n",
      "62m 10s (- 6m 54s) (90 90%) - loss: 0.5247 - accuracy: 0.8616\n",
      "65m 11s (- 3m 25s) (95 95%) - loss: 0.4459 - accuracy: 0.8785\n",
      "68m 7s (- 0m 0s) (100 100%) - loss: 0.3907 - accuracy: 0.8931\n"
     ]
    }
   ],
   "source": [
    "learner.fit(\n",
    "    training_data=(X_train, y_train), \n",
    "    epochs=100, \n",
    "    callbacks=[PrintLoggerCallback(log_every=5, metrics=['loss', 'accuracy'])]\n",
    ")"
   ]
  },
  {
   "cell_type": "code",
   "execution_count": 7,
   "metadata": {},
   "outputs": [
    {
     "data": {
      "text/plain": [
       "[[{'confidence': 0.08132432401180267, 'intent': 'Medical-VaricoseVeins-Vulva'},\n",
       "  {'confidence': 0.06929308921098709, 'intent': 'Symptoms - How To Know'},\n",
       "  {'confidence': 0.053198669105768204, 'intent': 'Medical-VaricoseVeins-Legs'},\n",
       "  {'confidence': 0.04975268617272377,\n",
       "   'intent': 'Medical - Urinating More - Why'},\n",
       "  {'confidence': 0.04762682691216469,\n",
       "   'intent': 'Prenatal-Massage-Difference'}]]"
      ]
     },
     "execution_count": 7,
     "metadata": {},
     "output_type": "execute_result"
    }
   ],
   "source": [
    "model(['the earth is flat'])"
   ]
  }
 ],
 "metadata": {
  "kernelspec": {
   "display_name": "Python 3",
   "language": "python",
   "name": "python3"
  },
  "language_info": {
   "codemirror_mode": {
    "name": "ipython",
    "version": 3
   },
   "file_extension": ".py",
   "mimetype": "text/x-python",
   "name": "python",
   "nbconvert_exporter": "python",
   "pygments_lexer": "ipython3",
   "version": "3.5.0"
  }
 },
 "nbformat": 4,
 "nbformat_minor": 2
}
