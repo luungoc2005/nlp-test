{
 "cells": [
  {
   "cell_type": "markdown",
   "metadata": {},
   "source": [
    "# Training an intents classification model\n",
    "\n",
    "Define constants"
   ]
  },
  {
   "cell_type": "code",
   "execution_count": 1,
   "metadata": {},
   "outputs": [],
   "source": [
    "from os import getcwd, path\n",
    "import sys\n",
    "import matplotlib.pyplot as plt\n",
    "import numpy as np\n",
    "\n",
    "BASE_PATH = path.dirname(getcwd())\n",
    "sys.path.append(BASE_PATH)\n",
    "\n",
    "DATA_UTILS = path.join(BASE_PATH, 'common/data_utils.py')\n",
    "TRAIN_PATH = path.join(BASE_PATH, 'kc_data.json')\n",
    "CLASSES_FILE = path.join(BASE_PATH, 'classes.json')"
   ]
  },
  {
   "cell_type": "code",
   "execution_count": 2,
   "metadata": {
    "scrolled": true
   },
   "outputs": [],
   "source": [
    "exec(open(DATA_UTILS).read())"
   ]
  },
  {
   "cell_type": "markdown",
   "metadata": {},
   "source": [
    "Use functions from the utils to extract and preprocess the training data\n",
    "Refer to `kc_data.json` for the sample data format\n",
    "`get_data_pairs` is then used to parse data into a tuple of `([list_of_sentences], [list_of_labels])`"
   ]
  },
  {
   "cell_type": "code",
   "execution_count": 3,
   "metadata": {},
   "outputs": [],
   "source": [
    "X_train, y_train = get_data_pairs(data_from_json(TRAIN_PATH))"
   ]
  },
  {
   "cell_type": "code",
   "execution_count": 4,
   "metadata": {},
   "outputs": [
    {
     "data": {
      "text/plain": [
       "'0.4.1'"
      ]
     },
     "execution_count": 4,
     "metadata": {},
     "output_type": "execute_result"
    }
   ],
   "source": [
    "import torch\n",
    "torch.__version__"
   ]
  },
  {
   "cell_type": "markdown",
   "metadata": {},
   "source": [
    "Start training the classification model and save"
   ]
  },
  {
   "cell_type": "code",
   "execution_count": 5,
   "metadata": {},
   "outputs": [],
   "source": [
    "from text_classification.fast_text.model import FastTextWrapper\n",
    "from text_classification.fast_text.train import FastTextLearner\n",
    "from common.callbacks import PrintLoggerCallback\n",
    "\n",
    "model = FastTextWrapper()\n",
    "learner = FastTextLearner(\n",
    "    model,\n",
    "    optimizer_fn='adam'\n",
    "#     optimizer_fn='sgd',\n",
    "#     optimizer_kwargs={'lr': 1e-2, 'momentum': .7}\n",
    ")"
   ]
  },
  {
   "cell_type": "code",
   "execution_count": 6,
   "metadata": {},
   "outputs": [
    {
     "name": "stdout",
     "output_type": "stream",
     "text": [
      "Switching to pyro\n",
      "3m 38s (- 69m 18s) (5 5%) - loss: 160823.1311\n",
      "7m 11s (- 64m 40s) (10 10%) - loss: 125327.2618\n",
      "10m 32s (- 59m 44s) (15 15%) - loss: 102635.6696\n",
      "13m 55s (- 55m 40s) (20 20%) - loss: 85257.8621\n",
      "17m 40s (- 53m 0s) (25 25%) - loss: 71750.0232\n",
      "22m 14s (- 51m 53s) (30 30%) - loss: 59725.3468\n",
      "26m 21s (- 48m 57s) (35 35%) - loss: 48619.1666\n",
      "30m 20s (- 45m 30s) (40 40%) - loss: 38404.7610\n",
      "34m 12s (- 41m 48s) (45 45%) - loss: 28940.1173\n",
      "38m 1s (- 38m 1s) (50 50%) - loss: 21420.0253\n",
      "42m 16s (- 34m 35s) (55 55%) - loss: 15333.6448\n",
      "46m 29s (- 30m 59s) (60 60%) - loss: 10344.4002\n",
      "50m 38s (- 27m 15s) (65 65%) - loss: 6668.2496\n",
      "54m 42s (- 23m 26s) (70 70%) - loss: 4267.3589\n",
      "58m 34s (- 19m 31s) (75 75%) - loss: 2825.4201\n",
      "62m 27s (- 15m 36s) (80 80%) - loss: 2029.7685\n",
      "66m 35s (- 11m 45s) (85 85%) - loss: 1608.2290\n",
      "70m 44s (- 7m 51s) (90 90%) - loss: 1396.8429\n",
      "75m 6s (- 3m 57s) (95 95%) - loss: 1274.7791\n",
      "80m 19s (- 0m 0s) (100 100%) - loss: 1197.1358\n"
     ]
    }
   ],
   "source": [
    "learner.fit(\n",
    "    training_data=(X_train, y_train), \n",
    "    epochs=100, \n",
    "    callbacks=[PrintLoggerCallback(log_every=5, metrics=['loss', 'accuracy'])]\n",
    ")"
   ]
  },
  {
   "cell_type": "code",
   "execution_count": 7,
   "metadata": {},
   "outputs": [
    {
     "data": {
      "text/plain": [
       "[[{'intent': 'Postnatal - Sex - Lower Libido',\n",
       "   'confidence': 0.012131168507039547},\n",
       "  {'intent': 'Medical - Placental Abruption - Diagnosis',\n",
       "   'confidence': 0.010166971944272518},\n",
       "  {'intent': 'Medical - PGP - Cause', 'confidence': 0.009273710660636425},\n",
       "  {'intent': 'Baby Care - Vaccination - Which - 2',\n",
       "   'confidence': 0.00918128713965416},\n",
       "  {'intent': 'Prenatal - CheckUp - First - more',\n",
       "   'confidence': 0.008875766769051552}]]"
      ]
     },
     "execution_count": 7,
     "metadata": {},
     "output_type": "execute_result"
    }
   ],
   "source": [
    "model(['when can I have sex'])"
   ]
  }
 ],
 "metadata": {
  "kernelspec": {
   "display_name": "Python 3",
   "language": "python",
   "name": "python3"
  },
  "language_info": {
   "codemirror_mode": {
    "name": "ipython",
    "version": 3
   },
   "file_extension": ".py",
   "mimetype": "text/x-python",
   "name": "python",
   "nbconvert_exporter": "python",
   "pygments_lexer": "ipython3",
   "version": "3.6.0"
  }
 },
 "nbformat": 4,
 "nbformat_minor": 2
}
