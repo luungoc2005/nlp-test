{
 "cells": [
  {
   "cell_type": "code",
   "execution_count": 4,
   "metadata": {},
   "outputs": [],
   "source": [
    "normalize_map = [\n",
    "    (\"òa\", \"oà\"),\n",
    "    (\"Òa\", \"Oà\"),\n",
    "    (\"óa\", \"oá\"),\n",
    "    (\"ỏa\", \"oả\"),\n",
    "    (\"õa\", \"oã\"),\n",
    "    (\"ọa\", \"oạ\"),\n",
    "    (\"òe\", \"oè\"),\n",
    "    (\"óe\", \"oé\"),\n",
    "    (\"ỏe\", \"oẻ\"),\n",
    "    (\"õe\", \"oẽ\"),\n",
    "    (\"ọe\", \"oẹ\"),\n",
    "    (\"ùy\", \"uỳ\"),\n",
    "    (\"úy\", \"uý\"),\n",
    "    (\"ủy\", \"uỷ\"),\n",
    "    (\"ũy\", \"uỹ\"),\n",
    "    (\"ụy\", \"uỵ\"),\n",
    "    (\"Ủy\", \"Uỷ\")\n",
    "]\n",
    "\n",
    "def tone_marks_normalize(input_str):\n",
    "    result_str = input_str\n",
    "    for item in normalize_map:\n",
    "        result_str = result_str.replace(item[0], item[1])\n",
    "    return result_str"
   ]
  },
  {
   "cell_type": "code",
   "execution_count": 18,
   "metadata": {},
   "outputs": [],
   "source": [
    "import unicodedata\n",
    "import random\n",
    "\n",
    "def remove_tone_marks(input_str):\n",
    "    result_str = ''.join(\n",
    "        c for c in unicodedata.normalize('NFD', input_str.replace('đ', 'd').replace('Đ', 'D'))\n",
    "        if unicodedata.category(c) != 'Mn'\n",
    "    )\n",
    "    return result_str\n",
    "\n",
    "def random_remove_marks(input_str, ratio=0.7):\n",
    "    result_str = input_str.split()\n",
    "    for idx, token in enumerate(result_str):\n",
    "        if random.random() <= ratio:\n",
    "            result_str[idx] = remove_tone_marks(token)\n",
    "    return ' '.join(result_str)"
   ]
  },
  {
   "cell_type": "code",
   "execution_count": 25,
   "metadata": {},
   "outputs": [
    {
     "name": "stdout",
     "output_type": "stream",
     "text": [
      "1502 files\n"
     ]
    }
   ],
   "source": [
    "from os import path, listdir\n",
    "\n",
    "TREEBANK_PATH = '/Users/2359media/Documents/Samples/treebank/treebank'\n",
    "TREEBANK_FILES = [path.join(TREEBANK_PATH, file) for file in listdir(TREEBANK_PATH)]\n",
    "print('%s files' % len(TREEBANK_FILES))"
   ]
  },
  {
   "cell_type": "code",
   "execution_count": 84,
   "metadata": {},
   "outputs": [
    {
     "name": "stdout",
     "output_type": "stream",
     "text": [
      "Reading /Users/2359media/Documents/Samples/treebank/treebank/22228140.conll\n",
      "' Đột_nhập ' nhà_máy sản_xuất ôtô Hyundai_Thành_Công\n"
     ]
    }
   ],
   "source": [
    "import string\n",
    "\n",
    "def process_treebank_file(filename):\n",
    "    print('Reading %s' % filename)\n",
    "    with open(filename, 'r') as input_file:\n",
    "        sents = input_file.read().strip().split(\"\\n\\n\")\n",
    "    sents = [\n",
    "        [line.strip().split('\\t')[0] for line in sent.strip().split('\\n')]\n",
    "        for sent in sents\n",
    "    ]\n",
    "    targets = []\n",
    "    for sent in sents:\n",
    "        line_target = []\n",
    "        for idx, token in enumerate(sent):\n",
    "            count = token.count(' ')\n",
    "            if count == 0:\n",
    "                line_target.append(0)\n",
    "            else:\n",
    "                line_target.extend([1] * count + [0])\n",
    "        targets.append(line_target)\n",
    "    sents = [' '.join(sent).split(' ') for sent in sents]\n",
    "    return sents, targets\n",
    "\n",
    "def reconstruct_sent(sent, target):\n",
    "#     sent_arr = ' '.join(sent)\n",
    "#     sent_arr = sent_arr.split(' ')\n",
    "    sent_arr = sent\n",
    "    result_sent = ''\n",
    "    for idx, token in enumerate(sent_arr):\n",
    "        if idx > 0 and idx != len(target):\n",
    "            if target[idx - 1] == 0:\n",
    "#                 if sent_arr[idx - 1] != \"'\" and token not in string.punctuation:\n",
    "                result_sent += ' '\n",
    "            else:\n",
    "                result_sent += '_'\n",
    "        result_sent += token\n",
    "    return result_sent.strip()\n",
    "\n",
    "# sents, targets = process_treebank_file(TREEBANK_FILES[0])\n",
    "# print(reconstruct_sent(sents[0], targets[0]))"
   ]
  },
  {
   "cell_type": "code",
   "execution_count": null,
   "metadata": {},
   "outputs": [],
   "source": []
  }
 ],
 "metadata": {
  "kernelspec": {
   "display_name": "Python 3",
   "language": "python",
   "name": "python3"
  },
  "language_info": {
   "codemirror_mode": {
    "name": "ipython",
    "version": 3
   },
   "file_extension": ".py",
   "mimetype": "text/x-python",
   "name": "python",
   "nbconvert_exporter": "python",
   "pygments_lexer": "ipython3",
   "version": "3.6.4"
  }
 },
 "nbformat": 4,
 "nbformat_minor": 2
}
