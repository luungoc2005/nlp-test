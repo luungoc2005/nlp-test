{
 "cells": [
  {
   "cell_type": "code",
   "execution_count": 1,
   "metadata": {},
   "outputs": [],
   "source": [
    "from os import getcwd, path\n",
    "import sys\n",
    "\n",
    "BASE_PATH = path.dirname(getcwd())\n",
    "sys.path.append(BASE_PATH)"
   ]
  },
  {
   "cell_type": "code",
   "execution_count": 2,
   "metadata": {},
   "outputs": [
    {
     "name": "stdout",
     "output_type": "stream",
     "text": [
      "/Users/2359media/Documents/botbot-nlp/output/model/checkpoint_50_77.82.bin\n"
     ]
    }
   ],
   "source": [
    "MODEL_PATH = path.join(BASE_PATH, 'output/model/checkpoint_50_77.82.bin')\n",
    "print(MODEL_PATH)"
   ]
  },
  {
   "cell_type": "code",
   "execution_count": 3,
   "metadata": {},
   "outputs": [],
   "source": [
    "import torch\n",
    "from sent_to_vec.model import *\n",
    "\n",
    "ENCODER_DIM = 2400\n",
    "encoder = QRNNEncoder(hidden_dim=ENCODER_DIM)\n",
    "nli_net = NLINet(encoder=encoder, lstm_dim=ENCODER_DIM, bidirectional_encoder=False)\n",
    "nli_net.load_state_dict(torch.load(MODEL_PATH, map_location=lambda storage, loc: storage)['nli_state'])"
   ]
  },
  {
   "cell_type": "code",
   "execution_count": 4,
   "metadata": {},
   "outputs": [],
   "source": [
    "def encode(sent):\n",
    "    sent_input = process_input([sent])\n",
    "    print(sent_input)\n",
    "    sent_batch, sent_len = process_batch(sent_input)\n",
    "    encoder.eval()\n",
    "    embs = encoder((sent_batch, sent_len))\n",
    "    encoder.train()\n",
    "    return embs.data.numpy()\n",
    "\n",
    "target_dict = {'entailment': 0, 'neutral': 1, 'contradiction': 2}\n",
    "target_dict = {v:k for k, v in target_dict.items()} # invert\n",
    "def test(sent1, sent2):\n",
    "    sent1 = process_input([sent1, 'filler sentence'])\n",
    "    sent2 = process_input([sent2, 'filler sentence'])\n",
    "    sent1_batch = process_batch(sent1)\n",
    "    sent2_batch = process_batch(sent2)\n",
    "    nli_net.eval()\n",
    "    result = nli_net(sent1_batch, sent2_batch)\n",
    "    nli_net.train()\n",
    "    scores, idxs = torch.max(result, dim=-1)\n",
    "    print(scores[0])\n",
    "#     print(idxs)\n",
    "    return target_dict[idxs.data.numpy()[0]]\n",
    "\n",
    "def cosine(u, v):\n",
    "    return np.dot(u, v) / (np.linalg.norm(u) * np.linalg.norm(v))"
   ]
  },
  {
   "cell_type": "code",
   "execution_count": 5,
   "metadata": {
    "scrolled": false
   },
   "outputs": [
    {
     "name": "stdout",
     "output_type": "stream",
     "text": [
      "[['<START>', 'I', \"'d\", 'like', 'to', 'order', 'a', 'coffee', '<STOP>']]\n",
      "[-0.00170491 -0.0144889   0.01035676 ...  0.00157192 -0.01595983\n",
      " -0.02341213]\n",
      "2400\n"
     ]
    }
   ],
   "source": [
    "embs = encode('I\\'d like to order a coffee')\n",
    "print(embs)\n",
    "print(embs.size)"
   ]
  },
  {
   "cell_type": "code",
   "execution_count": 6,
   "metadata": {
    "scrolled": true
   },
   "outputs": [
    {
     "name": "stdout",
     "output_type": "stream",
     "text": [
      "[['<START>', 'Hello', '!', '<STOP>']]\n",
      "[['<START>', 'Good', 'morning', '!', '<STOP>']]\n"
     ]
    },
    {
     "data": {
      "text/plain": [
       "0.87077105"
      ]
     },
     "execution_count": 6,
     "metadata": {},
     "output_type": "execute_result"
    }
   ],
   "source": [
    "cosine(encode('Hello!'), encode('Good morning!'))"
   ]
  },
  {
   "cell_type": "code",
   "execution_count": 7,
   "metadata": {},
   "outputs": [
    {
     "name": "stdout",
     "output_type": "stream",
     "text": [
      "[['<START>', 'How', 'do', 'I', 'search', 'Google', '?', '<STOP>']]\n",
      "[['<START>', 'How', 'do', 'I', 'perform', 'a', 'web', 'search', '?', '<STOP>']]\n"
     ]
    },
    {
     "data": {
      "text/plain": [
       "0.89508873"
      ]
     },
     "execution_count": 7,
     "metadata": {},
     "output_type": "execute_result"
    }
   ],
   "source": [
    "cosine(encode('How do I search Google?'), encode('How do I perform a web search?'))"
   ]
  },
  {
   "cell_type": "code",
   "execution_count": 8,
   "metadata": {},
   "outputs": [
    {
     "name": "stdout",
     "output_type": "stream",
     "text": [
      "[['<START>', 'I', 'want', 'to', 'go', 'outside', '<STOP>']]\n",
      "[['<START>', 'She', 'wants', 'to', 'stay', 'home', '<STOP>']]\n"
     ]
    },
    {
     "data": {
      "text/plain": [
       "0.74489516"
      ]
     },
     "execution_count": 8,
     "metadata": {},
     "output_type": "execute_result"
    }
   ],
   "source": [
    "cosine(encode('I want to go outside'), encode('She wants to stay home'))"
   ]
  },
  {
   "cell_type": "code",
   "execution_count": 9,
   "metadata": {},
   "outputs": [
    {
     "name": "stdout",
     "output_type": "stream",
     "text": [
      "[['<START>', 'The', 'weather', 'is', 'nice', 'today', '<STOP>']]\n",
      "[['<START>', 'I', 'want', 'to', 'go', 'buy', 'some', 'food', '<STOP>']]\n"
     ]
    },
    {
     "data": {
      "text/plain": [
       "0.5321972"
      ]
     },
     "execution_count": 9,
     "metadata": {},
     "output_type": "execute_result"
    }
   ],
   "source": [
    "cosine(encode('The weather is nice today'), encode('I want to go buy some food'))"
   ]
  },
  {
   "cell_type": "code",
   "execution_count": 10,
   "metadata": {},
   "outputs": [
    {
     "name": "stdout",
     "output_type": "stream",
     "text": [
      "[['<START>', 'This', 'church', 'choir', 'sings', 'to', 'the', 'masses', 'as', 'they', 'sing', 'joyous', 'songs', 'from', 'the', 'book', 'at', 'a', 'church', '.', '<STOP>']]\n",
      "[['<START>', 'The', 'church', 'is', 'filled', 'with', 'song', '.', '<STOP>']]\n"
     ]
    },
    {
     "data": {
      "text/plain": [
       "0.6234433"
      ]
     },
     "execution_count": 10,
     "metadata": {},
     "output_type": "execute_result"
    }
   ],
   "source": [
    "cosine(encode('This church choir sings to the masses as they sing joyous songs from the book at a church . '), encode('The church is filled with song . '))"
   ]
  },
  {
   "cell_type": "code",
   "execution_count": 11,
   "metadata": {},
   "outputs": [
    {
     "name": "stdout",
     "output_type": "stream",
     "text": [
      "[['<START>', 'This', 'church', 'choir', 'sings', 'to', 'the', 'masses', 'as', 'they', 'sing', 'joyous', 'songs', 'from', 'the', 'book', 'at', 'a', 'church', '.', '<STOP>']]\n",
      "[['<START>', 'The', 'church', 'has', 'cracks', 'in', 'the', 'ceiling', '.', '<STOP>']]\n"
     ]
    },
    {
     "data": {
      "text/plain": [
       "0.5911627"
      ]
     },
     "execution_count": 11,
     "metadata": {},
     "output_type": "execute_result"
    }
   ],
   "source": [
    "cosine(encode('This church choir sings to the masses as they sing joyous songs from the book at a church . '), encode('The church has cracks in the ceiling .'))"
   ]
  },
  {
   "cell_type": "code",
   "execution_count": 12,
   "metadata": {},
   "outputs": [
    {
     "name": "stdout",
     "output_type": "stream",
     "text": [
      "tensor(1.2094)\n"
     ]
    },
    {
     "data": {
      "text/plain": [
       "'entailment'"
      ]
     },
     "execution_count": 12,
     "metadata": {},
     "output_type": "execute_result"
    }
   ],
   "source": [
    "test('This church choir sings to the masses as they sing joyous songs from the book at a church . ', \n",
    "     'The church is filled with song . ')"
   ]
  },
  {
   "cell_type": "code",
   "execution_count": 13,
   "metadata": {},
   "outputs": [
    {
     "name": "stdout",
     "output_type": "stream",
     "text": [
      "tensor(0.8897)\n"
     ]
    },
    {
     "data": {
      "text/plain": [
       "'contradiction'"
      ]
     },
     "execution_count": 13,
     "metadata": {},
     "output_type": "execute_result"
    }
   ],
   "source": [
    "test('This church choir sings to the masses as they sing joyous songs from the book at a church . ', \n",
    "     'The church has cracks in the ceiling .')"
   ]
  },
  {
   "cell_type": "code",
   "execution_count": 16,
   "metadata": {},
   "outputs": [
    {
     "name": "stdout",
     "output_type": "stream",
     "text": [
      "[[6 0 6 ... 3 0 5]]\n",
      "2400\n"
     ]
    },
    {
     "data": {
      "image/png": "[encoded data removed]",
      "text/plain": [
       "<matplotlib.figure.Figure at 0x1aa2bd32b0>"
      ]
     },
     "metadata": {},
     "output_type": "display_data"
    }
   ],
   "source": [
    "import matplotlib.pyplot as plt\n",
    "\n",
    "sent_input = ['I want to be the president in 10 years']\n",
    "sent_input = process_input(sent_input)\n",
    "sent_batch, sent_len = process_batch(sent_input)\n",
    "\n",
    "encoder.eval()\n",
    "output = encoder.qrnn(sent_batch)[0]\n",
    "encoder.train()\n",
    "output, idxs = torch.max(output, 0)\n",
    "idxs = idxs.data.numpy()\n",
    "print(idxs)\n",
    "print(idxs.size)\n",
    "\n",
    "x = range(len(sent_input[0]))\n",
    "argmaxs = [np.sum((idxs == k)) for k in range(len(sent_input[0]))]\n",
    "y = [100.0 * n / np.sum(argmaxs) for n in argmaxs]\n",
    "plt.xticks(x, sent_input[0], rotation=45)\n",
    "plt.bar(x, y)\n",
    "plt.ylabel('%')\n",
    "plt.title('Visualisation of words importance')\n",
    "plt.show()"
   ]
  },
  {
   "cell_type": "code",
   "execution_count": null,
   "metadata": {},
   "outputs": [],
   "source": []
  }
 ],
 "metadata": {
  "kernelspec": {
   "display_name": "Python 3",
   "language": "python",
   "name": "python3"
  },
  "language_info": {
   "codemirror_mode": {
    "name": "ipython",
    "version": 3
   },
   "file_extension": ".py",
   "mimetype": "text/x-python",
   "name": "python",
   "nbconvert_exporter": "python",
   "pygments_lexer": "ipython3",
   "version": "3.6.4"
  }
 },
 "nbformat": 4,
 "nbformat_minor": 2
}
