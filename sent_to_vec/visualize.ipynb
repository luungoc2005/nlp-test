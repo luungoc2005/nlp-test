{
 "cells": [
  {
   "cell_type": "code",
   "execution_count": 1,
   "metadata": {},
   "outputs": [],
   "source": [
    "from os import getcwd, path\n",
    "import sys\n",
    "\n",
    "BASE_PATH = path.dirname(getcwd())\n",
    "sys.path.append(BASE_PATH)"
   ]
  },
  {
   "cell_type": "code",
   "execution_count": 2,
   "metadata": {},
   "outputs": [
    {
     "name": "stdout",
     "output_type": "stream",
     "text": [
      "/Users/2359media/Documents/botbot-nlp/output/model/checkpoint_10_73.04.bin\n"
     ]
    }
   ],
   "source": [
    "MODEL_PATH = path.join(BASE_PATH, 'output/model/checkpoint_10_73.04.bin')\n",
    "print(MODEL_PATH)"
   ]
  },
  {
   "cell_type": "code",
   "execution_count": 3,
   "metadata": {},
   "outputs": [],
   "source": [
    "import torch\n",
    "from sent_to_vec.model import *\n",
    "\n",
    "encoder = BiGRUEncoder()\n",
    "nli_net = NLINet(encoder=encoder)\n",
    "nli_net.load_state_dict(torch.load(MODEL_PATH, map_location=lambda storage, loc: storage)['nli_state'])"
   ]
  },
  {
   "cell_type": "code",
   "execution_count": 4,
   "metadata": {},
   "outputs": [],
   "source": [
    "def encode(sent):\n",
    "    sent_input = [sent]\n",
    "    sent_batch, sent_len = process_batch(sent_input)\n",
    "    embs = encoder((sent_batch, sent_len))[0]\n",
    "    return embs.data.numpy()\n",
    "\n",
    "def cosine(u, v):\n",
    "    return np.dot(u, v) / (np.linalg.norm(u) * np.linalg.norm(v))"
   ]
  },
  {
   "cell_type": "code",
   "execution_count": 5,
   "metadata": {},
   "outputs": [
    {
     "name": "stdout",
     "output_type": "stream",
     "text": [
      "Importing /Users/2359media/Documents/botbot-nlp/data/fasttext/crawl-300d-2M.vec...\n",
      "[-7.7486038e-07 -3.8981438e-05  1.3940856e-02 ... -1.6689301e-06\n",
      " -7.7012181e-03 -3.9038062e-04]\n"
     ]
    }
   ],
   "source": [
    "embs = encode('I\\'d like to order a coffee')\n",
    "print(embs)"
   ]
  },
  {
   "cell_type": "code",
   "execution_count": 6,
   "metadata": {},
   "outputs": [
    {
     "data": {
      "text/plain": [
       "0.8050818"
      ]
     },
     "execution_count": 6,
     "metadata": {},
     "output_type": "execute_result"
    }
   ],
   "source": [
    "cosine(encode('I\\'d like a coffee'), encode('Can I order some food?'))"
   ]
  },
  {
   "cell_type": "code",
   "execution_count": 7,
   "metadata": {},
   "outputs": [
    {
     "data": {
      "text/plain": [
       "0.86984015"
      ]
     },
     "execution_count": 7,
     "metadata": {},
     "output_type": "execute_result"
    }
   ],
   "source": [
    "cosine(encode('I like cats'), encode('I don\\'t like cats, I like dogs instead'))"
   ]
  },
  {
   "cell_type": "code",
   "execution_count": 9,
   "metadata": {},
   "outputs": [
    {
     "data": {
      "image/png": "[encoded data removed]",
      "text/plain": [
       "<matplotlib.figure.Figure at 0x1a305ebeb8>"
      ]
     },
     "metadata": {},
     "output_type": "display_data"
    }
   ],
   "source": [
    "import matplotlib.pyplot as plt\n",
    "\n",
    "sent_input = ['I prefer cats to dogs']\n",
    "sent_batch, sent_len = process_batch(sent_input)\n",
    "\n",
    "sent, _, _ = process_input(sent_input)\n",
    "\n",
    "output = encoder.lstm(sent_batch)[0]\n",
    "output, idxs = torch.max(output, 0)\n",
    "idxs = idxs.data.numpy()\n",
    "\n",
    "x = range(len(sent[0]))\n",
    "argmaxs = [np.sum((idxs == k)) for k in range(len(sent[0]))]\n",
    "y = [100.0 * n / np.sum(argmaxs) for n in argmaxs]\n",
    "plt.xticks(x, sent[0], rotation=45)\n",
    "plt.bar(x, y)\n",
    "plt.ylabel('%')\n",
    "plt.title('Visualisation of words importance')\n",
    "plt.show()"
   ]
  },
  {
   "cell_type": "code",
   "execution_count": null,
   "metadata": {},
   "outputs": [],
   "source": []
  }
 ],
 "metadata": {
  "kernelspec": {
   "display_name": "Python 3",
   "language": "python",
   "name": "python3"
  },
  "language_info": {
   "codemirror_mode": {
    "name": "ipython",
    "version": 3
   },
   "file_extension": ".py",
   "mimetype": "text/x-python",
   "name": "python",
   "nbconvert_exporter": "python",
   "pygments_lexer": "ipython3",
   "version": "3.6.4"
  }
 },
 "nbformat": 4,
 "nbformat_minor": 2
}
