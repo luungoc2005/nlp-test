{
 "cells": [
  {
   "cell_type": "code",
   "execution_count": 1,
   "metadata": {},
   "outputs": [],
   "source": [
    "from os import getcwd, path\n",
    "import sys\n",
    "\n",
    "BASE_PATH = path.dirname(getcwd())\n",
    "sys.path.append(BASE_PATH)"
   ]
  },
  {
   "cell_type": "code",
   "execution_count": 2,
   "metadata": {},
   "outputs": [
    {
     "name": "stdout",
     "output_type": "stream",
     "text": [
      "/Users/2359media/Documents/botbot-nlp/output/model/checkpoint_155_97.61.bin\n"
     ]
    }
   ],
   "source": [
    "MODEL_PATH = path.join(BASE_PATH, 'output/model/checkpoint_155_97.61.bin')\n",
    "print(MODEL_PATH)"
   ]
  },
  {
   "cell_type": "code",
   "execution_count": 3,
   "metadata": {},
   "outputs": [
    {
     "name": "stdout",
     "output_type": "stream",
     "text": [
      "lr: 0.04, step: 155\n"
     ]
    }
   ],
   "source": [
    "import torch\n",
    "from sent_to_vec.model import *\n",
    "\n",
    "ENCODER_DIM = 2400\n",
    "encoder = QRNNEncoder(hidden_dim=ENCODER_DIM, num_layers=3)\n",
    "nli_net = NLINet(encoder=encoder, lstm_dim=ENCODER_DIM, bidirectional_encoder=False)\n",
    "\n",
    "cp_data = torch.load(MODEL_PATH, map_location=lambda storage, loc: storage)\n",
    "nli_net.load_state_dict(cp_data['nli_state'])\n",
    "print('lr: %s, step: %s' % (cp_data['optimizer_state']['param_groups'][0]['lr'], cp_data['epoch']))"
   ]
  },
  {
   "cell_type": "code",
   "execution_count": 4,
   "metadata": {},
   "outputs": [],
   "source": [
    "import torch.nn.functional as F\n",
    "\n",
    "def encode(sent, batch=False):\n",
    "    if not batch:\n",
    "        sent_input = process_input([sent])\n",
    "        print(sent_input)\n",
    "    else:\n",
    "        sent_input = process_input(sent)\n",
    "    sent_batch, sent_len = process_batch(sent_input)\n",
    "    encoder.eval()\n",
    "    embs = encoder((sent_batch, sent_len))\n",
    "    encoder.train()\n",
    "    if not batch and len(embs.size()) > 1:\n",
    "        embs = embs.squeeze(0)\n",
    "    return embs.data.numpy()\n",
    "\n",
    "target_dict = {'entailment': 0, 'neutral': 1, 'contradiction': 2}\n",
    "target_dict = {v:k for k, v in target_dict.items()} # invert\n",
    "def test(sent1, sent2):\n",
    "    sent1 = process_input([sent1])\n",
    "    sent2 = process_input([sent2])\n",
    "    sent1_batch = process_batch(sent1)\n",
    "    sent2_batch = process_batch(sent2)\n",
    "    nli_net.eval()\n",
    "    result = F.softmax(nli_net(sent1_batch, sent2_batch), dim=-1)\n",
    "    nli_net.train()\n",
    "    scores, idxs = torch.max(result, dim=-1)\n",
    "#     print(scores[0])\n",
    "    return target_dict[idxs.data.numpy()[0]] + (' (%s%%)' % str(scores[0].item() * 100))\n",
    "\n",
    "def cosine(u, v):\n",
    "    return np.dot(u, v) / (np.linalg.norm(u) * np.linalg.norm(v))"
   ]
  },
  {
   "cell_type": "code",
   "execution_count": 5,
   "metadata": {
    "scrolled": false
   },
   "outputs": [
    {
     "name": "stdout",
     "output_type": "stream",
     "text": [
      "[['<START>', 'I', \"'d\", 'like', 'to', 'order', 'a', 'coffee', '<STOP>']]\n",
      "[ 0.02975421  0.01035219  0.07210533 ...  0.04092963  0.06190121\n",
      " -0.0793365 ]\n",
      "2400\n"
     ]
    }
   ],
   "source": [
    "embs = encode('I\\'d like to order a coffee')\n",
    "print(embs)\n",
    "print(embs.size)"
   ]
  },
  {
   "cell_type": "code",
   "execution_count": 6,
   "metadata": {},
   "outputs": [
    {
     "data": {
      "text/plain": [
       "'entailment (100.0%)'"
      ]
     },
     "execution_count": 6,
     "metadata": {},
     "output_type": "execute_result"
    }
   ],
   "source": [
    "test('This church choir sings to the masses as they sing joyous songs from the book at a church . ', \n",
    "     'The church is filled with song . ')"
   ]
  },
  {
   "cell_type": "code",
   "execution_count": 7,
   "metadata": {},
   "outputs": [
    {
     "data": {
      "text/plain": [
       "'neutral (99.78952407836914%)'"
      ]
     },
     "execution_count": 7,
     "metadata": {},
     "output_type": "execute_result"
    }
   ],
   "source": [
    "test('This church choir sings to the masses as they sing joyous songs from the book at a church . ', \n",
    "     'The church has cracks in the ceiling .')"
   ]
  },
  {
   "cell_type": "code",
   "execution_count": 8,
   "metadata": {},
   "outputs": [
    {
     "data": {
      "text/plain": [
       "'neutral (71.99010848999023%)'"
      ]
     },
     "execution_count": 8,
     "metadata": {},
     "output_type": "execute_result"
    }
   ],
   "source": [
    "test('barrack-obama was the president of the united states', 'donald trump is the president of the united states')"
   ]
  },
  {
   "cell_type": "code",
   "execution_count": 9,
   "metadata": {},
   "outputs": [
    {
     "data": {
      "text/plain": [
       "'entailment (100.0%)'"
      ]
     },
     "execution_count": 9,
     "metadata": {},
     "output_type": "execute_result"
    }
   ],
   "source": [
    "test('barrack-obama was the president of the united states', 'barrack-obama is the president of the united states')"
   ]
  },
  {
   "cell_type": "code",
   "execution_count": 10,
   "metadata": {},
   "outputs": [],
   "source": [
    "import matplotlib.pyplot as plt\n",
    "\n",
    "def visualize(text):\n",
    "    sent_input = [text]\n",
    "    sent_input = process_input(sent_input)\n",
    "    sent_batch, sent_len = process_batch(sent_input)\n",
    "\n",
    "    encoder.eval()\n",
    "    output = encoder.qrnn(sent_batch)[0] # take output; skip hidden\n",
    "    encoder.train()\n",
    "    output, idxs = torch.max(output, 0)\n",
    "    idxs = idxs.data.numpy()\n",
    "    print(idxs)\n",
    "    print(idxs.size)\n",
    "\n",
    "    x = range(len(sent_input[0]))[1:-1]\n",
    "    argmaxs = [np.sum((idxs == k)) for k in range(len(sent_input[0]))]\n",
    "    y = [100.0 * n / np.sum(argmaxs) for n in argmaxs][1:-1]\n",
    "    plt.xticks(x, sent_input[0][1:-1], rotation=45)\n",
    "    plt.bar(x, y)\n",
    "    plt.ylabel('%')\n",
    "    plt.title('Visualisation of words importance')\n",
    "    plt.show()"
   ]
  },
  {
   "cell_type": "code",
   "execution_count": 11,
   "metadata": {},
   "outputs": [
    {
     "name": "stdout",
     "output_type": "stream",
     "text": [
      "[[5 1 6 ... 5 1 3]]\n",
      "2400\n"
     ]
    },
    {
     "data": {
      "image/png": "[encoded data removed]",
      "text/plain": [
       "<matplotlib.figure.Figure at 0x1ab2245c18>"
      ]
     },
     "metadata": {},
     "output_type": "display_data"
    }
   ],
   "source": [
    "visualize('I want to be the president in ten years')"
   ]
  },
  {
   "cell_type": "code",
   "execution_count": 12,
   "metadata": {},
   "outputs": [
    {
     "name": "stdout",
     "output_type": "stream",
     "text": [
      "[[3 1 6 ... 1 1 8]]\n",
      "2400\n"
     ]
    },
    {
     "data": {
      "image/png": "[encoded data removed]",
      "text/plain": [
       "<matplotlib.figure.Figure at 0x1ab23efd30>"
      ]
     },
     "metadata": {},
     "output_type": "display_data"
    }
   ],
   "source": [
    "visualize('barrack-obama is the president of the united-states')"
   ]
  },
  {
   "cell_type": "code",
   "execution_count": 13,
   "metadata": {},
   "outputs": [
    {
     "name": "stdout",
     "output_type": "stream",
     "text": [
      "[[9 1 6 ... 2 3 6]]\n",
      "2400\n"
     ]
    },
    {
     "data": {
      "image/png": "[encoded data removed]",
      "text/plain": [
       "<matplotlib.figure.Figure at 0x1ab2524d68>"
      ]
     },
     "metadata": {},
     "output_type": "display_data"
    }
   ],
   "source": [
    "visualize('The church has cracks in the ceiling .')"
   ]
  },
  {
   "cell_type": "code",
   "execution_count": null,
   "metadata": {},
   "outputs": [],
   "source": [
    "import csv\n",
    "\n",
    "TRAIN_PATH = path.join(BASE_PATH, 'data/MSRParaphraseCorpus/msr_paraphrase_train.txt')\n",
    "TEST_PATH = path.join(BASE_PATH, 'data/MSRParaphraseCorpus/msr_paraphrase_test.txt')\n",
    "\n",
    "def read_MSRParaphraseCorpus(file_path):\n",
    "    target = []\n",
    "    sent1 = []\n",
    "    sent2 = []\n",
    "    with open(file_path, 'r') as input_file:\n",
    "        reader = csv.DictReader(input_file, delimiter='\\t', quoting=csv.QUOTE_NONE)\n",
    "        for row in reader:\n",
    "            target.append(int(row['\\ufeffQuality']))\n",
    "            sent1.append(row['#1 String'])\n",
    "            sent2.append(row['#2 String'])\n",
    "    return sent1, sent2, target\n",
    "\n",
    "def process_MSRParaphras(sent1_batch, sent2_batch, target_batch):\n",
    "    return np.concatenate(\n",
    "            (encode(sent1_batch, batch=True), encode(sent2_batch, batch=True)),\n",
    "        axis=1), np.array(target_batch)"
   ]
  },
  {
   "cell_type": "code",
   "execution_count": null,
   "metadata": {},
   "outputs": [
    {
     "name": "stdout",
     "output_type": "stream",
     "text": [
      "Train set sentence pairs: 4076\n"
     ]
    }
   ],
   "source": [
    "sent1_train, sent2_train, target_train = read_MSRParaphraseCorpus(TRAIN_PATH)\n",
    "print('Train set sentence pairs: %s' % len(sent1_train))\n",
    "sent_batch, target_batch = process_MSRParaphras(sent1_train, sent2_train, target_train)"
   ]
  },
  {
   "cell_type": "code",
   "execution_count": null,
   "metadata": {},
   "outputs": [],
   "source": []
  }
 ],
 "metadata": {
  "kernelspec": {
   "display_name": "Python 3",
   "language": "python",
   "name": "python3"
  },
  "language_info": {
   "codemirror_mode": {
    "name": "ipython",
    "version": 3
   },
   "file_extension": ".py",
   "mimetype": "text/x-python",
   "name": "python",
   "nbconvert_exporter": "python",
   "pygments_lexer": "ipython3",
   "version": "3.6.4"
  }
 },
 "nbformat": 4,
 "nbformat_minor": 2
}
